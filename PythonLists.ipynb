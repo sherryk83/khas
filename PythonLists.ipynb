{
 "cells": [
  {
   "cell_type": "markdown",
   "metadata": {},
   "source": [
    "# Python Lists \n",
    "\n",
    "There are 4 built in data types in python to store collections of data:\n",
    "\n",
    "Lists\n",
    "\n",
    "Tuples \n",
    "\n",
    "Sets \n",
    "\n",
    "Dictioneries "
   ]
  },
  {
   "cell_type": "code",
   "execution_count": 1,
   "metadata": {},
   "outputs": [
    {
     "name": "stdout",
     "output_type": "stream",
     "text": [
      "['apples', 'oranges', 'bananas']\n"
     ]
    }
   ],
   "source": [
    "# lists are represented by square brackets \n",
    "\n",
    "\n",
    "mylist = [\"apples\", \"oranges\", \"bananas\"]\n",
    "print(mylist)"
   ]
  },
  {
   "cell_type": "markdown",
   "metadata": {},
   "source": [
    "List items are ordered, changeable and allow duplicate values. List items are indexed and the first item has index [0] "
   ]
  },
  {
   "cell_type": "markdown",
   "metadata": {},
   "source": [
    "# Ordered \n",
    "\n",
    "The lists contain items with a defined order and if we add new item to the list they need to be placed at the end of the list. There are some list methods that can change the order but in general the order of the items will not be changed.\n",
    "\n",
    "# Changeable \n",
    "\n",
    "It means that we can change, add and remove items in a list after it has been created.\n",
    "\n",
    "# Allow Duplicates \n",
    "\n",
    "Since lists are indexed, lists can have items with the same value."
   ]
  },
  {
   "cell_type": "code",
   "execution_count": 2,
   "metadata": {},
   "outputs": [
    {
     "name": "stdout",
     "output_type": "stream",
     "text": [
      "['oranges', 'cherry', 'apples', 'cherry']\n"
     ]
    }
   ],
   "source": [
    "thislist = [\"oranges\", \"cherry\", \"apples\",\"cherry\"]\n",
    "print(thislist)"
   ]
  },
  {
   "cell_type": "markdown",
   "metadata": {},
   "source": [
    "# List lenght \n",
    "\n",
    "We use the len() function "
   ]
  },
  {
   "cell_type": "code",
   "execution_count": 4,
   "metadata": {},
   "outputs": [
    {
     "name": "stdout",
     "output_type": "stream",
     "text": [
      "4\n"
     ]
    }
   ],
   "source": [
    "thislist = [\"oranges\", \"cherry\", \"apples\",\"cherry\"]\n",
    "print(len(thislist))"
   ]
  },
  {
   "cell_type": "markdown",
   "metadata": {},
   "source": [
    "# List Data Types \n",
    "\n",
    "Lists can be of any data type and contain different data types "
   ]
  },
  {
   "cell_type": "code",
   "execution_count": null,
   "metadata": {},
   "outputs": [],
   "source": [
    "# String , boolean and int data type \n",
    "\n",
    "list1 = [\"orange\", 'Banana', \"cherry\"]\n",
    "list2 = [1,2,3,4,5,6]\n",
    "list3 = [True, False, True, True]\n",
    "list4 = [\"abc\", 34, True, 32, \"male\"]"
   ]
  },
  {
   "cell_type": "markdown",
   "metadata": {},
   "source": [
    "# Type \n",
    "\n",
    "In Python, lists are defined as objects with the data type \"list\"\n",
    "\n",
    "<class 'list'>"
   ]
  },
  {
   "cell_type": "code",
   "execution_count": 5,
   "metadata": {},
   "outputs": [
    {
     "name": "stdout",
     "output_type": "stream",
     "text": [
      "<class 'list'>\n"
     ]
    }
   ],
   "source": [
    "thislist = [\"oranges\", \"cherry\", \"apples\",\"cherry\"]\n",
    "print(type(thislist))"
   ]
  },
  {
   "cell_type": "markdown",
   "metadata": {},
   "source": [
    "# The list( ) constructor to make a List:"
   ]
  },
  {
   "cell_type": "code",
   "execution_count": 6,
   "metadata": {},
   "outputs": [
    {
     "name": "stdout",
     "output_type": "stream",
     "text": [
      "['apples', 'cherry', 'oranges']\n"
     ]
    }
   ],
   "source": [
    "thislist = list((\"apples\",\"cherry\",\"oranges\"))\n",
    "print(thislist)"
   ]
  },
  {
   "cell_type": "markdown",
   "metadata": {},
   "source": [
    "**Lists**     : Collection is ordered, changeable and allows duplicate members \n",
    "\n",
    "**Tuple**     : Collection is ordered but unchangeable and allows duplicate members \n",
    "\n",
    "**Sets**      : Collection is unorederd, unchangeable(but can add and remove items) and unindexed. No duplicate members allowed \n",
    "\n",
    "**Dictionery**: Collection is ordered(in earlier versions they were unordered) and changeable. No duplicate members. "
   ]
  },
  {
   "cell_type": "markdown",
   "metadata": {},
   "source": [
    "# Access Items \n",
    "\n",
    "List items are indexed and you can access them by referring to the index number "
   ]
  },
  {
   "cell_type": "code",
   "execution_count": 7,
   "metadata": {},
   "outputs": [
    {
     "name": "stdout",
     "output_type": "stream",
     "text": [
      "cherries\n"
     ]
    }
   ],
   "source": [
    "# Print the second item of the list \n",
    "\n",
    "mylist = [\"apples\", \"cherries\", \"oranges\", \"bananas\"]\n",
    "print(mylist[1])"
   ]
  },
  {
   "cell_type": "markdown",
   "metadata": {},
   "source": [
    "# Negative Indexing \n",
    "\n",
    "It means starting from the end as -1 refers to the last item and -2 second last "
   ]
  },
  {
   "cell_type": "code",
   "execution_count": 8,
   "metadata": {},
   "outputs": [
    {
     "name": "stdout",
     "output_type": "stream",
     "text": [
      "bananas\n"
     ]
    }
   ],
   "source": [
    "# print the last item \n",
    "\n",
    "mylist = [\"apples\", \"cherries\", \"oranges\", \"bananas\"]\n",
    "print(mylist[-1])"
   ]
  },
  {
   "cell_type": "markdown",
   "metadata": {},
   "source": [
    "# Range of indexes\n",
    "\n",
    "You can specify a range of indexes by specifying where to start and where to end the range. When specifying a range, the return value will be a new list with the specified items."
   ]
  },
  {
   "cell_type": "code",
   "execution_count": 10,
   "metadata": {},
   "outputs": [
    {
     "name": "stdout",
     "output_type": "stream",
     "text": [
      "['cherry', 'orange', 'kiwi']\n"
     ]
    }
   ],
   "source": [
    "# return the third, fouth and fifth item\n",
    "\n",
    "mylist = [\"apples\", \"banana\", \"cherry\", \"orange\", \"kiwi\", \"melon\",\"mango\"]\n",
    "print(mylist[2:5])\n",
    "\n",
    "#the search will start at index 2 (included) and will end at 5(not included)"
   ]
  },
  {
   "cell_type": "code",
   "execution_count": 11,
   "metadata": {},
   "outputs": [
    {
     "name": "stdout",
     "output_type": "stream",
     "text": [
      "['apples', 'banana', 'cherry', 'orange']\n"
     ]
    }
   ],
   "source": [
    "mylist = [\"apples\", \"banana\", \"cherry\", \"orange\", \"kiwi\", \"melon\",\"mango\"]\n",
    "print(mylist[:4])\n",
    "\n",
    "# it will return the items from the beginning to, but not including 4 that is kiwi"
   ]
  },
  {
   "cell_type": "code",
   "execution_count": 12,
   "metadata": {},
   "outputs": [
    {
     "name": "stdout",
     "output_type": "stream",
     "text": [
      "['cherry', 'orange', 'kiwi', 'melon', 'mango']\n"
     ]
    }
   ],
   "source": [
    "mylist = [\"apples\", \"banana\", \"cherry\", \"orange\", \"kiwi\", \"melon\",\"mango\"]\n",
    "print(mylist[2:])\n",
    "\n",
    "#from cherry to the end"
   ]
  },
  {
   "cell_type": "markdown",
   "metadata": {},
   "source": [
    "# Range of negative Indexes\n",
    "\n",
    "Specify negative indexes if we want to start the search from the end of the list "
   ]
  },
  {
   "cell_type": "code",
   "execution_count": 13,
   "metadata": {},
   "outputs": [
    {
     "name": "stdout",
     "output_type": "stream",
     "text": [
      "['orange', 'kiwi', 'melon']\n"
     ]
    }
   ],
   "source": [
    "mylist = [\"apples\", \"banana\", \"cherry\", \"orange\", \"kiwi\", \"melon\",\"mango\"]\n",
    "print(mylist[-4:-1])\n",
    "\n",
    "#it returns the orange (-4) to, but not including mango that is -1 "
   ]
  },
  {
   "cell_type": "markdown",
   "metadata": {},
   "source": [
    "# Check if item exists \n",
    "\n",
    "To determine if a specified item is present in a list use the \"in\" keyword"
   ]
  },
  {
   "cell_type": "code",
   "execution_count": 14,
   "metadata": {},
   "outputs": [
    {
     "name": "stdout",
     "output_type": "stream",
     "text": [
      "Yes, 'apples' is in the list\n"
     ]
    }
   ],
   "source": [
    "mylist = [\"apples\", \"banana\", \"cherry\", \"orange\", \"kiwi\", \"melon\",\"mango\"]\n",
    "if \"apples\" in mylist:\n",
    "    print (\"Yes, 'apples' is in the list\")"
   ]
  },
  {
   "cell_type": "markdown",
   "metadata": {},
   "source": [
    "# Change the range of item Values \n",
    "\n",
    "To change the value of the items within a specific range, define a list with new values and refer to the range of index numbers where you want to insert the new values"
   ]
  },
  {
   "cell_type": "code",
   "execution_count": 15,
   "metadata": {},
   "outputs": [
    {
     "name": "stdout",
     "output_type": "stream",
     "text": [
      "['apples', 'blackcurrant', 'watermelon', 'orange', 'kiwi', 'melon', 'mango']\n"
     ]
    }
   ],
   "source": [
    "# Change the value \"banana\" and \"cherry\" with the values \"blackcurrant\" and \"watermelon\"\n",
    "\n",
    "mylist = [\"apples\", \"banana\", \"cherry\", \"orange\", \"kiwi\", \"melon\",\"mango\"]\n",
    "mylist[1:3] = [\"blackcurrant\",\"watermelon\"]\n",
    "print(mylist)"
   ]
  },
  {
   "cell_type": "markdown",
   "metadata": {},
   "source": [
    "If you insert more items than you replace, the new items will be inserted where you specified, and the remaining items will move accordingly "
   ]
  },
  {
   "cell_type": "code",
   "execution_count": 16,
   "metadata": {},
   "outputs": [
    {
     "name": "stdout",
     "output_type": "stream",
     "text": [
      "['apples', 'blackcurrant', 'watermelon', 'cherry']\n"
     ]
    }
   ],
   "source": [
    "#Change the second value by replacing it with two new values \n",
    "\n",
    "mylist = [\"apples\", \"banana\", \"cherry\"]\n",
    "mylist[1:2] = [\"blackcurrant\",\"watermelon\"]\n",
    "print(mylist)\n",
    "\n",
    "# The lenght of the list will change when the number of items inserted does not match the number of items replaced"
   ]
  },
  {
   "cell_type": "markdown",
   "metadata": {},
   "source": [
    "If less items are inserted than replaced, the new items will be inserted at the specified place and the remaining will move accordingly."
   ]
  },
  {
   "cell_type": "code",
   "execution_count": 17,
   "metadata": {},
   "outputs": [
    {
     "name": "stdout",
     "output_type": "stream",
     "text": [
      "['apples', 'watermelon']\n"
     ]
    }
   ],
   "source": [
    "# Change the second and the third value by replacing it with one value \n",
    "\n",
    "mylist = [\"apples\", \"banana\", \"cherry\"]\n",
    "mylist[1:3] = [\"watermelon\"]\n",
    "print(mylist)\n",
    "\n"
   ]
  },
  {
   "cell_type": "markdown",
   "metadata": {},
   "source": [
    "# Insert( ) Items \n",
    "\n",
    "To insert a new list item, without replacing any of the existing values, we can use the insert( ) method and it inserts an item at the specified index."
   ]
  },
  {
   "cell_type": "code",
   "execution_count": 18,
   "metadata": {},
   "outputs": [
    {
     "name": "stdout",
     "output_type": "stream",
     "text": [
      "['apples', 'banana', 'watermelon', 'cherry']\n"
     ]
    }
   ],
   "source": [
    "# insert watermelon as the third item \n",
    "\n",
    "mylist = [\"apples\", \"banana\", \"cherry\"]\n",
    "mylist.insert(2,\"watermelon\")\n",
    "print(mylist)\n",
    "\n",
    "# now the list will have 4 items "
   ]
  },
  {
   "cell_type": "markdown",
   "metadata": {},
   "source": [
    "# Append Items \n",
    "\n",
    "To add an item to the end of the list, we can use append() method."
   ]
  },
  {
   "cell_type": "code",
   "execution_count": 19,
   "metadata": {},
   "outputs": [
    {
     "name": "stdout",
     "output_type": "stream",
     "text": [
      "['apples', 'banana', 'cherry', 'orange']\n"
     ]
    }
   ],
   "source": [
    "mylist = [\"apples\", \"banana\", \"cherry\"]\n",
    "mylist.append(\"orange\")\n",
    "print(mylist)\n",
    "\n",
    "# it added orange at the end of the list "
   ]
  },
  {
   "cell_type": "markdown",
   "metadata": {},
   "source": [
    "# Extend list \n",
    "\n",
    "To append elements from another list to the current list, use extend() method "
   ]
  },
  {
   "cell_type": "code",
   "execution_count": 20,
   "metadata": {},
   "outputs": [
    {
     "name": "stdout",
     "output_type": "stream",
     "text": [
      "['apples', 'banana', 'cherry', 'mango', 'pineapple', 'papaya']\n"
     ]
    }
   ],
   "source": [
    "# Add the elemnts of tropical to mylist\n",
    "\n",
    "mylist = [\"apples\", \"banana\", \"cherry\"]\n",
    "tropical = [\"mango\",\"pineapple\",\"papaya\"]\n",
    "\n",
    "mylist.extend(tropical)\n",
    "print(mylist)\n",
    "\n",
    "# the lements will be added to the end of the list"
   ]
  },
  {
   "cell_type": "markdown",
   "metadata": {},
   "source": [
    "# Add Any Iterable \n",
    "\n",
    "The extend() method does not have to append lists, you can add any iterable object(tuple, sets, dictionaries)"
   ]
  },
  {
   "cell_type": "code",
   "execution_count": 21,
   "metadata": {},
   "outputs": [
    {
     "name": "stdout",
     "output_type": "stream",
     "text": [
      "['apples', 'banana', 'cherry', 'kiwi', 'orange']\n"
     ]
    }
   ],
   "source": [
    "# Add elements of a tuple to a list\n",
    "\n",
    "mylist = [\"apples\", \"banana\", \"cherry\"]\n",
    "mytuple = [\"kiwi\",\"orange\"]\n",
    "mylist.extend(mytuple)\n",
    "print(mylist)"
   ]
  },
  {
   "cell_type": "markdown",
   "metadata": {},
   "source": [
    "# Remove Specified Item \n",
    "\n",
    "The remove() method removes the specified item "
   ]
  },
  {
   "cell_type": "code",
   "execution_count": 22,
   "metadata": {},
   "outputs": [
    {
     "name": "stdout",
     "output_type": "stream",
     "text": [
      "['apples', 'cherry']\n"
     ]
    }
   ],
   "source": [
    "# Remove banana \n",
    "\n",
    "mylist = [\"apples\", \"banana\", \"cherry\"]\n",
    "mylist.remove(\"banana\")\n",
    "print(mylist)"
   ]
  },
  {
   "cell_type": "markdown",
   "metadata": {},
   "source": [
    "# Remove Specified Index \n",
    "\n",
    "The pop( ) method removes the specified index "
   ]
  },
  {
   "cell_type": "code",
   "execution_count": 23,
   "metadata": {},
   "outputs": [
    {
     "name": "stdout",
     "output_type": "stream",
     "text": [
      "['apples', 'cherry']\n"
     ]
    }
   ],
   "source": [
    "# Remove the second item \n",
    "\n",
    "mylist = [\"apples\", \"banana\", \"cherry\"]\n",
    "mylist.pop(1)\n",
    "print(mylist)\n",
    "\n",
    "#If the index is not specified, the pop() method removes the last item."
   ]
  },
  {
   "cell_type": "code",
   "execution_count": 24,
   "metadata": {},
   "outputs": [
    {
     "name": "stdout",
     "output_type": "stream",
     "text": [
      "['apples', 'banana']\n"
     ]
    }
   ],
   "source": [
    "# Remove the last item \n",
    "\n",
    "mylist = [\"apples\", \"banana\", \"cherry\"]\n",
    "mylist.pop()\n",
    "print(mylist)"
   ]
  },
  {
   "cell_type": "markdown",
   "metadata": {},
   "source": [
    "The \"del\" keyword also removes the specified index "
   ]
  },
  {
   "cell_type": "code",
   "execution_count": 26,
   "metadata": {},
   "outputs": [
    {
     "name": "stdout",
     "output_type": "stream",
     "text": [
      "['banana', 'cherry']\n"
     ]
    }
   ],
   "source": [
    "# Remove the first item\n",
    "\n",
    "mylist = [\"apples\", \"banana\", \"cherry\"]\n",
    "del mylist[0]\n",
    "print(mylist)\n",
    "\n",
    "# The del keyword can also delete the list completely "
   ]
  },
  {
   "cell_type": "code",
   "execution_count": 27,
   "metadata": {},
   "outputs": [],
   "source": [
    "# Delete the entire list \n",
    "\n",
    "mylist = [\"apples\", \"banana\", \"cherry\"]\n",
    "del mylist\n"
   ]
  },
  {
   "cell_type": "markdown",
   "metadata": {},
   "source": [
    "# Clear the list \n",
    "\n",
    "The clear( ) method empties the list. The list will remain but without the contents."
   ]
  },
  {
   "cell_type": "code",
   "execution_count": 28,
   "metadata": {},
   "outputs": [
    {
     "name": "stdout",
     "output_type": "stream",
     "text": [
      "[]\n"
     ]
    }
   ],
   "source": [
    "mylist = [\"apples\", \"banana\", \"cherry\"]\n",
    "mylist.clear()\n",
    "print(mylist)"
   ]
  },
  {
   "cell_type": "markdown",
   "metadata": {},
   "source": [
    "# Loop through a List \n",
    "\n",
    "We can loop through the list items by using a for loop"
   ]
  },
  {
   "cell_type": "code",
   "execution_count": 29,
   "metadata": {},
   "outputs": [
    {
     "name": "stdout",
     "output_type": "stream",
     "text": [
      "apples\n",
      "banana\n",
      "cherry\n"
     ]
    }
   ],
   "source": [
    "#Print all items in the list, one by one \n",
    "\n",
    "mylist = [\"apples\", \"banana\", \"cherry\"]\n",
    "for x in mylist:\n",
    "    print(x)"
   ]
  },
  {
   "cell_type": "markdown",
   "metadata": {},
   "source": [
    "# Loop through the index numbers \n",
    "\n",
    "we can loop through the list items by referring to their index number.\n",
    "Use the range() and len() functions to create a suitable iterable"
   ]
  },
  {
   "cell_type": "code",
   "execution_count": 30,
   "metadata": {},
   "outputs": [
    {
     "name": "stdout",
     "output_type": "stream",
     "text": [
      "apples\n",
      "banana\n",
      "cherry\n"
     ]
    }
   ],
   "source": [
    "# Print all items by referring to their index number\n",
    "\n",
    "mylist = [\"apples\", \"banana\", \"cherry\"]\n",
    "for i in range(len(mylist)):\n",
    "    print(mylist[i])\n",
    "    \n",
    "    \n",
    "#the iterable created aboce is [0,1,2]"
   ]
  },
  {
   "cell_type": "markdown",
   "metadata": {},
   "source": [
    "# Using a While Loop \n",
    "\n",
    "We can loop through the list items bt using a while loop \n",
    "\n",
    "Use the len() function determines the lenght of the list, then start at 0 and loop your way through the list items by referring to their indexes.\n",
    "\n",
    "Remember to increase the index by 1 after each iteration."
   ]
  },
  {
   "cell_type": "code",
   "execution_count": 31,
   "metadata": {},
   "outputs": [
    {
     "name": "stdout",
     "output_type": "stream",
     "text": [
      "['apples', 'banana', 'cherry']\n"
     ]
    }
   ],
   "source": [
    "# Print all items, using a while loop to go through all the index numbers\n",
    "\n",
    "mylist = [\"apples\", \"banana\", \"cherry\"]\n",
    "while i < len(mylist):\n",
    "    print (mylist)\n",
    "    i = i+1"
   ]
  },
  {
   "cell_type": "markdown",
   "metadata": {},
   "source": [
    "# List Comprehension \n",
    "\n",
    "List comprehension offers the shortest syntax for looping through lists"
   ]
  },
  {
   "cell_type": "code",
   "execution_count": 32,
   "metadata": {},
   "outputs": [
    {
     "name": "stdout",
     "output_type": "stream",
     "text": [
      "apples\n",
      "banana\n",
      "cherry\n"
     ]
    },
    {
     "data": {
      "text/plain": [
       "[None, None, None]"
      ]
     },
     "execution_count": 32,
     "metadata": {},
     "output_type": "execute_result"
    }
   ],
   "source": [
    "# A short hand for loop that will print all items in a list:\n",
    "\n",
    "mylist = [\"apples\", \"banana\", \"cherry\"]\n",
    "[print(x) for x in mylist]"
   ]
  },
  {
   "cell_type": "markdown",
   "metadata": {},
   "source": [
    "Without list comprehension, we write long codes. For example, based on the fruit list, we want a new lists with all the fruits with letter \"a\" in the name. we will write a for loop with a conditional statement inside."
   ]
  },
  {
   "cell_type": "code",
   "execution_count": 33,
   "metadata": {},
   "outputs": [
    {
     "name": "stdout",
     "output_type": "stream",
     "text": [
      "['apple', 'banana', 'mango']\n"
     ]
    }
   ],
   "source": [
    "fruits = [\"apple\", \"banana\", \"cherry\",\"kiwi\",\"mango\"]\n",
    "newlist = []\n",
    "\n",
    "for x in fruits:\n",
    "    if \"a\" in x:\n",
    "        newlist.append(x)\n",
    "        \n",
    "print(newlist)\n"
   ]
  },
  {
   "cell_type": "markdown",
   "metadata": {},
   "source": [
    "With list comprehension we can do all that with only one line of code"
   ]
  },
  {
   "cell_type": "code",
   "execution_count": 34,
   "metadata": {},
   "outputs": [
    {
     "name": "stdout",
     "output_type": "stream",
     "text": [
      "['apple', 'banana', 'mango']\n"
     ]
    }
   ],
   "source": [
    "fruits = [\"apple\", \"banana\", \"cherry\",\"kiwi\",\"mango\"]\n",
    "\n",
    "newlist = [x for x in fruits if \"a\" in x ]\n",
    "\n",
    "print(newlist)"
   ]
  },
  {
   "cell_type": "markdown",
   "metadata": {},
   "source": [
    "# The Syntax \n",
    "\n",
    "newlist = [expression for item in iterable if condition == True]\n",
    "\n",
    "The return value is a new list, leaving the old list unchanged."
   ]
  },
  {
   "cell_type": "code",
   "execution_count": 38,
   "metadata": {},
   "outputs": [
    {
     "name": "stdout",
     "output_type": "stream",
     "text": [
      "['banana', 'cherry', 'kiwi', 'mango']\n"
     ]
    }
   ],
   "source": [
    "# Only accept items that are not \"apple\"\n",
    "\n",
    "fruits = [\"apple\", \"banana\", \"cherry\",\"kiwi\",\"mango\"]\n",
    "newlist = [x for x in fruits if x != \"apple\"]\n",
    "print(newlist)\n",
    "\n",
    "#The condition if x != \"apple\" will return True for all the elements other than \"apple\", making the new list \n",
    "#contan all fruits except apple\n",
    "\n",
    "#the condition is optional and can be omitted."
   ]
  },
  {
   "cell_type": "code",
   "execution_count": 40,
   "metadata": {},
   "outputs": [
    {
     "name": "stdout",
     "output_type": "stream",
     "text": [
      "['apple', 'banana', 'cherry', 'kiwi', 'mango']\n"
     ]
    }
   ],
   "source": [
    "# with no if statements \n",
    "newlist =[x for x in fruits ]\n",
    "print (newlist)"
   ]
  },
  {
   "cell_type": "markdown",
   "metadata": {},
   "source": [
    "# Iterable\n",
    "\n",
    "The iterable can be any iterable object, like a list, tuple, set etc."
   ]
  },
  {
   "cell_type": "code",
   "execution_count": 42,
   "metadata": {},
   "outputs": [
    {
     "name": "stdout",
     "output_type": "stream",
     "text": [
      "[0, 1, 2, 3, 4, 5, 6, 7, 8, 9, 10]\n"
     ]
    }
   ],
   "source": [
    "# you can use range() function to create an iterable \n",
    "\n",
    "newlist = [x for x in range(11)]\n",
    "print (newlist)"
   ]
  },
  {
   "cell_type": "code",
   "execution_count": 43,
   "metadata": {},
   "outputs": [
    {
     "name": "stdout",
     "output_type": "stream",
     "text": [
      "[0, 1, 2, 3, 4]\n"
     ]
    }
   ],
   "source": [
    "#Example with a condition \n",
    "#Accept only numbers lower than 5\n",
    "\n",
    "newlist = [x for x in range(10) if x < 5]\n",
    "print(newlist)"
   ]
  },
  {
   "cell_type": "markdown",
   "metadata": {},
   "source": [
    "# Expression \n",
    "\n",
    "The expression is the current item in the iteration, but it is also the outcome, which you can manipulate before it ends up like a list item in the new list:"
   ]
  },
  {
   "cell_type": "code",
   "execution_count": 44,
   "metadata": {},
   "outputs": [
    {
     "name": "stdout",
     "output_type": "stream",
     "text": [
      "['APPLE', 'BANANA', 'CHERRY', 'KIWI', 'MANGO']\n"
     ]
    }
   ],
   "source": [
    "#Set the values in the new list to upper case \n",
    "\n",
    "newlist = [x.upper() for x in fruits]\n",
    "print(newlist)"
   ]
  },
  {
   "cell_type": "code",
   "execution_count": 45,
   "metadata": {},
   "outputs": [
    {
     "name": "stdout",
     "output_type": "stream",
     "text": [
      "['hello', 'hello', 'hello', 'hello', 'hello']\n"
     ]
    }
   ],
   "source": [
    "# you can set the outcome to whatever you like \n",
    "\n",
    "newlist = [\"hello\" for x in fruits]\n",
    "print(newlist)"
   ]
  },
  {
   "cell_type": "markdown",
   "metadata": {},
   "source": [
    "The expression can also contain conditions, not like a filter, but as a way to manipulate the outcome:"
   ]
  },
  {
   "cell_type": "code",
   "execution_count": 48,
   "metadata": {},
   "outputs": [
    {
     "name": "stdout",
     "output_type": "stream",
     "text": [
      "['apple', 'orange', 'cherry', 'kiwi', 'mango']\n"
     ]
    }
   ],
   "source": [
    "# Return \"orange\" instead of \"banana\"\n",
    "\n",
    "newlist = [x if x != \"banana\" else \"orange\" for x in fruits]\n",
    "print(newlist)\n",
    "\n",
    "#Return the item if it is not banana, if it is banana return orange"
   ]
  },
  {
   "cell_type": "markdown",
   "metadata": {},
   "source": [
    "# Sort List \n",
    "\n",
    "**Sort List Alphanumerically**\n",
    "List objects have a sort() method that will sort the list alphanumerically, ascending, by default:"
   ]
  },
  {
   "cell_type": "code",
   "execution_count": 50,
   "metadata": {},
   "outputs": [
    {
     "name": "stdout",
     "output_type": "stream",
     "text": [
      "['banana', 'kiwi', 'mango', 'orange', 'pineapple']\n"
     ]
    }
   ],
   "source": [
    "# Sort the list alphabetically\n",
    "\n",
    "mylist = [\"orange\", \"mango\",\"kiwi\",\"pineapple\",\"banana\"]\n",
    "mylist.sort()\n",
    "print(mylist)"
   ]
  },
  {
   "cell_type": "code",
   "execution_count": 51,
   "metadata": {},
   "outputs": [
    {
     "name": "stdout",
     "output_type": "stream",
     "text": [
      "[23, 50, 65, 82, 100]\n"
     ]
    }
   ],
   "source": [
    "#Sort the list numerically \n",
    "\n",
    "thislist = [100,50,65,82,23]\n",
    "thislist.sort()\n",
    "print(thislist)"
   ]
  },
  {
   "cell_type": "markdown",
   "metadata": {},
   "source": [
    "# Sort Descending\n",
    "\n",
    "To sort descending, use the keyword argument reverse = True"
   ]
  },
  {
   "cell_type": "code",
   "execution_count": 52,
   "metadata": {},
   "outputs": [
    {
     "name": "stdout",
     "output_type": "stream",
     "text": [
      "['pineapple', 'orange', 'mango', 'kiwi', 'banana']\n"
     ]
    }
   ],
   "source": [
    "# sort the list in descending order \n",
    "\n",
    "mylist = [\"orange\", \"mango\",\"kiwi\",\"pineapple\",\"banana\"]\n",
    "mylist.sort(reverse = True)\n",
    "\n",
    "print(mylist)"
   ]
  },
  {
   "cell_type": "code",
   "execution_count": 53,
   "metadata": {},
   "outputs": [
    {
     "name": "stdout",
     "output_type": "stream",
     "text": [
      "[100, 82, 65, 50, 23]\n"
     ]
    }
   ],
   "source": [
    "#Descending order\n",
    "\n",
    "thislist = [100,50,65,82,23]\n",
    "thislist.sort(reverse = True)\n",
    "print(thislist)"
   ]
  },
  {
   "cell_type": "markdown",
   "metadata": {},
   "source": [
    "# Customization of sort function \n",
    "\n",
    "We can also customize our own function by using the keyword argument key = function \n",
    "The function will return a number that will be used to sort the list (the lowest number first)"
   ]
  },
  {
   "cell_type": "code",
   "execution_count": 54,
   "metadata": {},
   "outputs": [
    {
     "name": "stdout",
     "output_type": "stream",
     "text": [
      "[50, 65, 23, 82, 100]\n"
     ]
    }
   ],
   "source": [
    "# Sort the list based on how close the number is to 50 \n",
    "\n",
    "def myfunc(n):\n",
    "    return abs (n-50)\n",
    "thislist = [100,50,65,82,23]\n",
    "thislist.sort(key = myfunc)\n",
    "print(thislist)"
   ]
  },
  {
   "cell_type": "markdown",
   "metadata": {},
   "source": [
    "# Case Insensitive Sort \n",
    "\n",
    "By default the sort() method is case sensitive, resulting in all capital letters being sorted before lower case letters."
   ]
  },
  {
   "cell_type": "code",
   "execution_count": 55,
   "metadata": {},
   "outputs": [
    {
     "name": "stdout",
     "output_type": "stream",
     "text": [
      "['Kiwi', 'Orange', 'banana', 'cherry']\n"
     ]
    }
   ],
   "source": [
    "# Case sensitive sorting can give an unexpected result \n",
    "\n",
    "mylist = [\"banana\", \"Orange\", \"Kiwi\",\"cherry\"]\n",
    "mylist.sort()\n",
    "print(mylist)"
   ]
  },
  {
   "cell_type": "markdown",
   "metadata": {},
   "source": [
    "We have key =str.lower function to overcome this issue "
   ]
  },
  {
   "cell_type": "code",
   "execution_count": 56,
   "metadata": {},
   "outputs": [
    {
     "name": "stdout",
     "output_type": "stream",
     "text": [
      "['banana', 'cherry', 'Kiwi', 'Orange']\n"
     ]
    }
   ],
   "source": [
    "mylist = [\"banana\", \"Orange\", \"Kiwi\",\"cherry\"]\n",
    "mylist.sort(key = str.lower)\n",
    "print(mylist)"
   ]
  },
  {
   "cell_type": "markdown",
   "metadata": {},
   "source": [
    "# Reverse Order \n",
    "\n",
    "If we want to reverse the order of the list regardless of the alphabet\n",
    "We have the reverse() method for it."
   ]
  },
  {
   "cell_type": "code",
   "execution_count": 57,
   "metadata": {},
   "outputs": [
    {
     "name": "stdout",
     "output_type": "stream",
     "text": [
      "['cherry', 'Kiwi', 'Orange', 'banana']\n"
     ]
    }
   ],
   "source": [
    "mylist = [\"banana\", \"Orange\", \"Kiwi\",\"cherry\"]\n",
    "mylist.reverse()\n",
    "print(mylist)"
   ]
  },
  {
   "cell_type": "markdown",
   "metadata": {},
   "source": [
    "# Copy a List \n",
    "\n",
    "You cant copy a list by simply typing list1 = list2 coz list2 will only be a reference to list1 and changes made in list 1 will automatically also be made to list2\n",
    "\n",
    "There are ways to make a copy, one way is to use the build in list method copy()"
   ]
  },
  {
   "cell_type": "code",
   "execution_count": 60,
   "metadata": {},
   "outputs": [
    {
     "name": "stdout",
     "output_type": "stream",
     "text": [
      "['banana', 'Orange', 'Kiwi', 'cherry']\n"
     ]
    }
   ],
   "source": [
    "# Make a copy of a list with the copy() method \n",
    "\n",
    "mylist = [\"banana\", \"Orange\", \"Kiwi\",\"cherry\"]\n",
    "newlist = mylist.copy()\n",
    "print(newlist)"
   ]
  },
  {
   "cell_type": "markdown",
   "metadata": {},
   "source": [
    "Another way is to use list() method "
   ]
  },
  {
   "cell_type": "code",
   "execution_count": 61,
   "metadata": {},
   "outputs": [
    {
     "name": "stdout",
     "output_type": "stream",
     "text": [
      "['banana', 'Orange', 'Kiwi', 'cherry']\n"
     ]
    }
   ],
   "source": [
    "mylist = [\"banana\", \"Orange\", \"Kiwi\",\"cherry\"]\n",
    "newlist = list(mylist)\n",
    "print(newlist)"
   ]
  },
  {
   "cell_type": "markdown",
   "metadata": {},
   "source": [
    "# Join Two Lists \n",
    "\n",
    "There are several ways to join, or concatenate, two or more lists in python \n",
    "\n",
    "One of the easiest way is using + operator "
   ]
  },
  {
   "cell_type": "code",
   "execution_count": 62,
   "metadata": {},
   "outputs": [
    {
     "name": "stdout",
     "output_type": "stream",
     "text": [
      "['a', 'b', 'c', 1, 2, 3]\n"
     ]
    }
   ],
   "source": [
    "#Join two list:\n",
    "\n",
    "list1 = ['a','b','c']\n",
    "list2 = [1,2,3]\n",
    "\n",
    "list3 = list1 + list2 \n",
    "print(list3)"
   ]
  },
  {
   "cell_type": "markdown",
   "metadata": {},
   "source": [
    "Another way to join two lists is by appending all the items from list 2 to list1, one by one "
   ]
  },
  {
   "cell_type": "code",
   "execution_count": 63,
   "metadata": {},
   "outputs": [
    {
     "name": "stdout",
     "output_type": "stream",
     "text": [
      "['a', 'b', 'c', 1, 2, 3]\n"
     ]
    }
   ],
   "source": [
    "list1 = ['a','b','c']\n",
    "list2 = [1,2,3]\n",
    "\n",
    "for x in list2:\n",
    "    list1.append(x)\n",
    "    \n",
    "print(list1)"
   ]
  },
  {
   "cell_type": "markdown",
   "metadata": {},
   "source": [
    "We can also use the extend() method to add list2 at the end of list1 "
   ]
  },
  {
   "cell_type": "code",
   "execution_count": 64,
   "metadata": {},
   "outputs": [
    {
     "name": "stdout",
     "output_type": "stream",
     "text": [
      "['a', 'b', 'c', 1, 2, 3]\n"
     ]
    }
   ],
   "source": [
    "list1 = ['a','b','c']\n",
    "list2 = [1,2,3]\n",
    "\n",
    "list1.extend(list2)\n",
    "\n",
    "print(list1)"
   ]
  },
  {
   "cell_type": "markdown",
   "metadata": {},
   "source": [
    "# List Methods \n",
    "\n",
    "Built in methods in Python:\n",
    "\n",
    "append( )        Adds an element at the end of the list \n",
    "\n",
    "clear( )         Removes all the elements from the list \n",
    "\n",
    "copy( )          Returns a copy of the list\n",
    "\n",
    "count( )         Returns the number of elements with the specified value \n",
    "\n",
    "extend( )        Add the elements of a list(or any iterable) to the end of the current list\n",
    "\n",
    "index( )         Returns the idex of the first element with the specified value \n",
    "\n",
    "insert( )        Adds an element at the specified position \n",
    "\n",
    "pop( )           Removes the element at the specifed position\n",
    "\n",
    "remove( )        Removes the item with the specified value \n",
    "\n",
    "reverse( )       Reverses the order of the list \n",
    "\n",
    "sort( )          Sorts the list "
   ]
  },
  {
   "cell_type": "code",
   "execution_count": 65,
   "metadata": {},
   "outputs": [
    {
     "name": "stdout",
     "output_type": "stream",
     "text": [
      "['male', 'female', 'gender']\n"
     ]
    }
   ],
   "source": [
    "#Append \n",
    "list1 = [\"male\",\"female\"]\n",
    "list1.append(\"gender\")\n",
    "print(list1)"
   ]
  },
  {
   "cell_type": "code",
   "execution_count": 67,
   "metadata": {},
   "outputs": [
    {
     "name": "stdout",
     "output_type": "stream",
     "text": [
      "[]\n"
     ]
    }
   ],
   "source": [
    "#clear \n",
    "list1 = [\"male\",\"female\"]\n",
    "list1.clear()\n",
    "print(list1)"
   ]
  },
  {
   "cell_type": "code",
   "execution_count": 70,
   "metadata": {},
   "outputs": [
    {
     "name": "stdout",
     "output_type": "stream",
     "text": [
      "['male', 'female']\n"
     ]
    }
   ],
   "source": [
    "#Copy\n",
    "list1 = [\"male\",\"female\"]\n",
    "list2 = list1.copy()\n",
    "print(list2)"
   ]
  },
  {
   "cell_type": "code",
   "execution_count": 72,
   "metadata": {},
   "outputs": [
    {
     "name": "stdout",
     "output_type": "stream",
     "text": [
      "1\n"
     ]
    }
   ],
   "source": [
    "#Count\n",
    "list1 = [1,2,9,7,3,10]\n",
    "x = list1.count(7)\n",
    "print(x)"
   ]
  },
  {
   "cell_type": "code",
   "execution_count": 73,
   "metadata": {},
   "outputs": [
    {
     "name": "stdout",
     "output_type": "stream",
     "text": [
      "[5, 6, 7, 8, 9, 1, 2, 3, 4]\n"
     ]
    }
   ],
   "source": [
    "#Extend\n",
    "list1 = [5,6,7,8,9]\n",
    "list2 = [1,2,3,4]\n",
    "list1.extend(list2)\n",
    "print(list1)"
   ]
  },
  {
   "cell_type": "code",
   "execution_count": 74,
   "metadata": {},
   "outputs": [
    {
     "name": "stdout",
     "output_type": "stream",
     "text": [
      "2\n"
     ]
    }
   ],
   "source": [
    "#Index\n",
    "list1 = [5,6,7,8,9]\n",
    "x = list1.index(7)\n",
    "print(x)"
   ]
  },
  {
   "cell_type": "code",
   "execution_count": 75,
   "metadata": {},
   "outputs": [
    {
     "name": "stdout",
     "output_type": "stream",
     "text": [
      "[5, 'Numbers', 6, 7, 8, 9]\n"
     ]
    }
   ],
   "source": [
    "#Insert\n",
    "list1 = [5,6,7,8,9]\n",
    "list1.insert(1,\"Numbers\")\n",
    "print(list1)"
   ]
  },
  {
   "cell_type": "code",
   "execution_count": 78,
   "metadata": {},
   "outputs": [
    {
     "name": "stdout",
     "output_type": "stream",
     "text": [
      "[6, 7, 8, 9]\n"
     ]
    }
   ],
   "source": [
    "#POP\n",
    "list1 = [5,6,7,8,9]\n",
    "list1.pop(0)\n",
    "print(list1)"
   ]
  },
  {
   "cell_type": "code",
   "execution_count": 80,
   "metadata": {},
   "outputs": [
    {
     "name": "stdout",
     "output_type": "stream",
     "text": [
      "[5, 6, 8, 9]\n"
     ]
    }
   ],
   "source": [
    "#Remove\n",
    "list1 = [5,6,7,8,9]\n",
    "list1.remove( 7)\n",
    "print (list1)"
   ]
  },
  {
   "cell_type": "code",
   "execution_count": 81,
   "metadata": {},
   "outputs": [
    {
     "name": "stdout",
     "output_type": "stream",
     "text": [
      "[9, 8, 7, 6, 5]\n"
     ]
    }
   ],
   "source": [
    "#Reverse\n",
    "list1 = [5,6,7,8,9]\n",
    "list1.reverse()\n",
    "print(list1)"
   ]
  },
  {
   "cell_type": "code",
   "execution_count": 82,
   "metadata": {},
   "outputs": [
    {
     "name": "stdout",
     "output_type": "stream",
     "text": [
      "[1, 5, 6, 9, 10, 15]\n"
     ]
    }
   ],
   "source": [
    "#Sort\n",
    "list1 = [5,9,1,6,10,15]\n",
    "list1.sort()\n",
    "print(list1)"
   ]
  },
  {
   "cell_type": "code",
   "execution_count": 86,
   "metadata": {},
   "outputs": [
    {
     "name": "stdout",
     "output_type": "stream",
     "text": [
      "banana\n"
     ]
    }
   ],
   "source": [
    "#print the second item in the list \n",
    "fruits =[\"apple\",'banana','cherry']\n",
    "print(fruits[1])"
   ]
  },
  {
   "cell_type": "code",
   "execution_count": 87,
   "metadata": {},
   "outputs": [
    {
     "name": "stdout",
     "output_type": "stream",
     "text": [
      "['kiwi', 'banana', 'cherry']\n"
     ]
    }
   ],
   "source": [
    "#Change the value from apple to kiwi\n",
    "fruits =[\"apple\",'banana','cherry']\n",
    "fruits[0]=\"kiwi\"\n",
    "print(fruits)"
   ]
  },
  {
   "cell_type": "code",
   "execution_count": 88,
   "metadata": {},
   "outputs": [
    {
     "name": "stdout",
     "output_type": "stream",
     "text": [
      "['apple', 'banana', 'cherry', 'orange']\n"
     ]
    }
   ],
   "source": [
    "#add orange using append method\n",
    "fruits =[\"apple\",'banana','cherry']\n",
    "fruits.append(\"orange\")\n",
    "print(fruits)"
   ]
  },
  {
   "cell_type": "code",
   "execution_count": 89,
   "metadata": {},
   "outputs": [
    {
     "name": "stdout",
     "output_type": "stream",
     "text": [
      "['apple', 'lemon', 'banana', 'cherry']\n"
     ]
    }
   ],
   "source": [
    "#Use the insert method to add lemon as the second item in the fruits list\n",
    "fruits =[\"apple\",'banana','cherry']\n",
    "fruits.insert(1,\"lemon\")\n",
    "print(fruits)"
   ]
  },
  {
   "cell_type": "code",
   "execution_count": 91,
   "metadata": {},
   "outputs": [
    {
     "name": "stdout",
     "output_type": "stream",
     "text": [
      "['apple', 'cherry']\n"
     ]
    }
   ],
   "source": [
    "#Use remove to remove banana \n",
    "fruits =[\"apple\",'banana','cherry']\n",
    "fruits.remove(\"banana\")\n",
    "print(fruits)"
   ]
  },
  {
   "cell_type": "code",
   "execution_count": 92,
   "metadata": {},
   "outputs": [
    {
     "name": "stdout",
     "output_type": "stream",
     "text": [
      "cherry\n"
     ]
    }
   ],
   "source": [
    "#use negative indexing to print the last item \n",
    "fruits =[\"apple\",'banana','cherry']\n",
    "print(fruits[-1])"
   ]
  },
  {
   "cell_type": "code",
   "execution_count": 93,
   "metadata": {},
   "outputs": [
    {
     "name": "stdout",
     "output_type": "stream",
     "text": [
      "['cherry', 'orange', 'kiwi']\n"
     ]
    }
   ],
   "source": [
    "#use a range of indexes to print the third, fourth and fifth item in the list\n",
    "fruits =[\"apple\",'banana','cherry','orange','kiwi','melon','mango']\n",
    "print(fruits[2:5])"
   ]
  },
  {
   "cell_type": "code",
   "execution_count": 94,
   "metadata": {},
   "outputs": [
    {
     "name": "stdout",
     "output_type": "stream",
     "text": [
      "3\n"
     ]
    }
   ],
   "source": [
    "#correct syntax to print the number of items in the list \n",
    "\n",
    "fruits =[\"apple\",'banana','cherry']\n",
    "print(len(fruits))"
   ]
  },
  {
   "cell_type": "code",
   "execution_count": null,
   "metadata": {},
   "outputs": [],
   "source": []
  }
 ],
 "metadata": {
  "kernelspec": {
   "display_name": "Python 3",
   "language": "python",
   "name": "python3"
  },
  "language_info": {
   "codemirror_mode": {
    "name": "ipython",
    "version": 3
   },
   "file_extension": ".py",
   "mimetype": "text/x-python",
   "name": "python",
   "nbconvert_exporter": "python",
   "pygments_lexer": "ipython3",
   "version": "3.7.6"
  }
 },
 "nbformat": 4,
 "nbformat_minor": 4
}
