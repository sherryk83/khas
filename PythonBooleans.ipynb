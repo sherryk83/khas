{
 "cells": [
  {
   "cell_type": "markdown",
   "id": "086eaa95",
   "metadata": {},
   "source": [
    "# Python Booleans\n",
    "\n",
    "Boolean represent one of the two values : True or False "
   ]
  },
  {
   "cell_type": "code",
   "execution_count": 1,
   "id": "3e13a03a",
   "metadata": {},
   "outputs": [
    {
     "name": "stdout",
     "output_type": "stream",
     "text": [
      "True\n",
      "False\n",
      "False\n"
     ]
    }
   ],
   "source": [
    "print (10 > 9 )\n",
    "print (10 == 9)\n",
    "print (10 < 9 )"
   ]
  },
  {
   "cell_type": "markdown",
   "id": "f87ca841",
   "metadata": {},
   "source": [
    "Running a condition in an IF statement, python returns true or false "
   ]
  },
  {
   "cell_type": "code",
   "execution_count": 2,
   "id": "a1a7e9d4",
   "metadata": {},
   "outputs": [
    {
     "name": "stdout",
     "output_type": "stream",
     "text": [
      "b is not greater than a\n"
     ]
    }
   ],
   "source": [
    "a = 200 \n",
    "b = 33\n",
    "\n",
    "if b > a:\n",
    "    print (\"b is greater than a\")\n",
    "else:\n",
    "    print (\"b is not greater than a\")"
   ]
  },
  {
   "cell_type": "markdown",
   "id": "4b955823",
   "metadata": {},
   "source": [
    "# Evaluate Values and Variables \n",
    "\n",
    "The bool() function allows to evaluate any value and give you True of False in return "
   ]
  },
  {
   "cell_type": "code",
   "execution_count": 3,
   "id": "a768bf53",
   "metadata": {},
   "outputs": [
    {
     "name": "stdout",
     "output_type": "stream",
     "text": [
      "True\n",
      "True\n"
     ]
    }
   ],
   "source": [
    "# Evaluate a string and a number \n",
    "\n",
    "\n",
    "print (bool(\"Hello\"))\n",
    "print (bool(15))"
   ]
  },
  {
   "cell_type": "code",
   "execution_count": 4,
   "id": "97596cec",
   "metadata": {},
   "outputs": [
    {
     "name": "stdout",
     "output_type": "stream",
     "text": [
      "True\n",
      "True\n"
     ]
    }
   ],
   "source": [
    "# Evalute two variables \n",
    "\n",
    "x = \"Hello\"\n",
    "y = 15\n",
    "\n",
    "print (bool(x))\n",
    "print (bool(y))"
   ]
  },
  {
   "cell_type": "markdown",
   "id": "66316858",
   "metadata": {},
   "source": [
    "# Most Values are true \n",
    "\n",
    "Most values are evaluated to be true if they have some type of content.\n",
    "Any string is True, except empty strings \n",
    "Any number is true except 0 \n",
    "Any list, tuple, set and dictionery are True, except the empty one.\n",
    "all empty vales are false such as (), {} , [], \" \",the number 0 and the value None. And the value False evaluates to false."
   ]
  },
  {
   "cell_type": "code",
   "execution_count": 5,
   "id": "b46ddb0e",
   "metadata": {},
   "outputs": [
    {
     "data": {
      "text/plain": [
       "True"
      ]
     },
     "execution_count": 5,
     "metadata": {},
     "output_type": "execute_result"
    }
   ],
   "source": [
    "bool(\"abc\")\n",
    "bool(123)\n",
    "bool([\"apples\",\"cherries\",\"bananas\"])"
   ]
  },
  {
   "cell_type": "code",
   "execution_count": 6,
   "id": "f1ab18f0",
   "metadata": {},
   "outputs": [
    {
     "data": {
      "text/plain": [
       "False"
      ]
     },
     "execution_count": 6,
     "metadata": {},
     "output_type": "execute_result"
    }
   ],
   "source": [
    "bool(False)\n",
    "bool(None)\n",
    "bool(0)\n",
    "bool(\" \")\n",
    "bool(( ))\n",
    "bool({ })\n",
    "bool([ ])"
   ]
  },
  {
   "cell_type": "markdown",
   "id": "87da68c5",
   "metadata": {},
   "source": [
    "# Functions can return Boolean \n",
    "\n",
    "We can create functions that can return boolean values "
   ]
  },
  {
   "cell_type": "code",
   "execution_count": 8,
   "id": "2afe6612",
   "metadata": {},
   "outputs": [
    {
     "name": "stdout",
     "output_type": "stream",
     "text": [
      "True\n"
     ]
    }
   ],
   "source": [
    "def myFunction():\n",
    "    return True \n",
    "\n",
    "print(myFunction())"
   ]
  },
  {
   "cell_type": "markdown",
   "id": "52b0b588",
   "metadata": {},
   "source": [
    "We can execute code base on the Boolean answer of a function.\n"
   ]
  },
  {
   "cell_type": "code",
   "execution_count": 9,
   "id": "568cd84c",
   "metadata": {},
   "outputs": [
    {
     "name": "stdout",
     "output_type": "stream",
     "text": [
      "Yes!\n"
     ]
    }
   ],
   "source": [
    "def myFunction():\n",
    "    return True \n",
    "\n",
    "if myFunction():\n",
    "    print(\"Yes!\")\n",
    "else:\n",
    "    print(\"No!\")"
   ]
  },
  {
   "cell_type": "markdown",
   "id": "5f3390aa",
   "metadata": {},
   "source": [
    "Python has so many in built functions that return a boolean value, like isinstance() function, which can be used to determine if an object is of certian data type."
   ]
  },
  {
   "cell_type": "code",
   "execution_count": 10,
   "id": "b6fb8bd0",
   "metadata": {},
   "outputs": [
    {
     "name": "stdout",
     "output_type": "stream",
     "text": [
      "True\n"
     ]
    }
   ],
   "source": [
    "x = 200 \n",
    "print (isinstance(x, int))"
   ]
  },
  {
   "cell_type": "code",
   "execution_count": null,
   "id": "b76aab67",
   "metadata": {},
   "outputs": [],
   "source": []
  }
 ],
 "metadata": {
  "kernelspec": {
   "display_name": "Python 3",
   "language": "python",
   "name": "python3"
  },
  "language_info": {
   "codemirror_mode": {
    "name": "ipython",
    "version": 3
   },
   "file_extension": ".py",
   "mimetype": "text/x-python",
   "name": "python",
   "nbconvert_exporter": "python",
   "pygments_lexer": "ipython3",
   "version": "3.6.13"
  }
 },
 "nbformat": 4,
 "nbformat_minor": 5
}
