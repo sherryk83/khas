{
 "cells": [
  {
   "cell_type": "markdown",
   "id": "b3b0a9de",
   "metadata": {},
   "source": [
    "# Dictionary\n",
    "\n",
    "These are used to store data value in key:value pairs. It is a collection which is ordered, changeable but do not allow duplicates.\n",
    "\n",
    "Dictionaries are written with curly brackets and have keys and values.\n",
    "\n",
    "**Ordered**\n",
    "\n",
    "It means that the items have a defined order, and that order will not change.\n",
    "\n",
    "**Changeable**\n",
    "\n",
    "It means that we can change, add or remove items after the dictionary has been created.\n",
    "\n",
    "**Duplicates not allowed**\n",
    "\n",
    "Dictionaries cannot have two items with the same key. Duplicate values will overwrite existing values."
   ]
  },
  {
   "cell_type": "code",
   "execution_count": 1,
   "id": "8caaa041",
   "metadata": {},
   "outputs": [
    {
     "name": "stdout",
     "output_type": "stream",
     "text": [
      "{'brand': 'Ford', 'model': 'Mustang', 'year': 1964}\n"
     ]
    }
   ],
   "source": [
    "mydict = {\"brand\":\"Ford\",\"model\":\"Mustang\",\"year\": 1964}\n",
    "print(mydict)"
   ]
  },
  {
   "cell_type": "markdown",
   "id": "f7ae2592",
   "metadata": {},
   "source": [
    "# Dictionary items\n",
    "\n",
    "The dictionary items are presented in key : value pairs, and can be referred to by using the key name."
   ]
  },
  {
   "cell_type": "code",
   "execution_count": 2,
   "id": "343ea1cf",
   "metadata": {},
   "outputs": [
    {
     "name": "stdout",
     "output_type": "stream",
     "text": [
      "Ford\n"
     ]
    }
   ],
   "source": [
    "mydict = {\"brand\":\"Ford\",\"model\":\"Mustang\",\"year\": 1964}\n",
    "print(mydict[\"brand\"])"
   ]
  },
  {
   "cell_type": "code",
   "execution_count": 3,
   "id": "a0fee3ec",
   "metadata": {},
   "outputs": [
    {
     "name": "stdout",
     "output_type": "stream",
     "text": [
      "{'brand': 'Ford', 'model': 'Mustang', 'year': 2020}\n"
     ]
    }
   ],
   "source": [
    "#Duplicate values will overwrite existing values:\n",
    "\n",
    "mydict = {\"brand\":\"Ford\",\"model\":\"Mustang\",\"year\": 1964,\"year\": 2020}\n",
    "\n",
    "print (mydict)"
   ]
  },
  {
   "cell_type": "markdown",
   "id": "c67e94ec",
   "metadata": {},
   "source": [
    "# Dictionary Length \n",
    "\n",
    "len ( ) function is used to determine how many items are in dictionary."
   ]
  },
  {
   "cell_type": "code",
   "execution_count": 4,
   "id": "d3e74720",
   "metadata": {},
   "outputs": [
    {
     "name": "stdout",
     "output_type": "stream",
     "text": [
      "3\n"
     ]
    }
   ],
   "source": [
    "mydict = {\"brand\":\"Ford\",\"model\":\"Mustang\",\"year\": 1964}\n",
    "print(len(mydict))"
   ]
  },
  {
   "cell_type": "markdown",
   "id": "fd5cb412",
   "metadata": {},
   "source": [
    "# Data Types \n",
    "\n",
    "The values in dictionary items can be of any data type i.e. string, integer, boolean etc."
   ]
  },
  {
   "cell_type": "code",
   "execution_count": 5,
   "id": "d1d3fa42",
   "metadata": {},
   "outputs": [
    {
     "name": "stdout",
     "output_type": "stream",
     "text": [
      "{'brand': 'Ford', 'model': 'Mustang', 'year': 1964, 'color': ['red', 'blue', 'white']}\n"
     ]
    }
   ],
   "source": [
    "mydict = {\"brand\":\"Ford\",\n",
    "          \"model\":\"Mustang\",\n",
    "          \"year\": 1964,\n",
    "          \"color\":[\"red\",\"blue\",\"white\"]}\n",
    "print(mydict)"
   ]
  },
  {
   "cell_type": "markdown",
   "id": "c8d268fe",
   "metadata": {},
   "source": [
    "# Type ( )\n",
    "\n",
    "In Python, dictionaries are defined as objects with the data type 'dict'"
   ]
  },
  {
   "cell_type": "code",
   "execution_count": 6,
   "id": "b17c5c43",
   "metadata": {},
   "outputs": [
    {
     "name": "stdout",
     "output_type": "stream",
     "text": [
      "<class 'dict'>\n"
     ]
    }
   ],
   "source": [
    "mydict = {\"brand\":\"Ford\",\n",
    "          \"model\":\"Mustang\",\n",
    "          \"year\": 1964}\n",
    "\n",
    "print (type(mydict))"
   ]
  },
  {
   "cell_type": "markdown",
   "id": "35feb994",
   "metadata": {},
   "source": [
    "# Accessing Items\n",
    "\n",
    "You can access the items od a dictionary by referring to its key name, inside a square bracket."
   ]
  },
  {
   "cell_type": "code",
   "execution_count": 7,
   "id": "a72204f0",
   "metadata": {},
   "outputs": [
    {
     "name": "stdout",
     "output_type": "stream",
     "text": [
      "1964\n"
     ]
    }
   ],
   "source": [
    "#Get the value of the \"model\" key\n",
    "\n",
    "mydict = {\"brand\":\"Ford\",\n",
    "          \"model\":\"Mustang\",\n",
    "          \"year\": 1964}\n",
    "\n",
    "print(mydict[\"year\"])"
   ]
  },
  {
   "cell_type": "markdown",
   "id": "7fdcfdfb",
   "metadata": {},
   "source": [
    "There is also **get( )** method that will give the same result "
   ]
  },
  {
   "cell_type": "code",
   "execution_count": 9,
   "id": "cae8a12e",
   "metadata": {},
   "outputs": [
    {
     "name": "stdout",
     "output_type": "stream",
     "text": [
      "1964\n"
     ]
    }
   ],
   "source": [
    "mydict = {\"brand\":\"Ford\",\n",
    "          \"model\":\"Mustang\",\n",
    "          \"year\": 1964}\n",
    "\n",
    "x = mydict.get(\"year\")\n",
    "\n",
    "print(x)"
   ]
  },
  {
   "cell_type": "markdown",
   "id": "0e697af1",
   "metadata": {},
   "source": [
    "# Get Keys\n",
    "\n",
    "The **keys( )** method wil return a list of all keys in the dictionary."
   ]
  },
  {
   "cell_type": "code",
   "execution_count": 10,
   "id": "afdbf501",
   "metadata": {},
   "outputs": [
    {
     "name": "stdout",
     "output_type": "stream",
     "text": [
      "dict_keys(['brand', 'model', 'year'])\n"
     ]
    }
   ],
   "source": [
    "mydict = {\"brand\":\"Ford\",\n",
    "          \"model\":\"Mustang\",\n",
    "          \"year\": 1964}\n",
    "\n",
    "x = mydict.keys()\n",
    "\n",
    "print(x)"
   ]
  },
  {
   "cell_type": "markdown",
   "id": "ea16528d",
   "metadata": {},
   "source": [
    "The list of the keys is a view of the distionary, meaning that any changes done to the dictionary will be reflected in the keys list."
   ]
  },
  {
   "cell_type": "code",
   "execution_count": 12,
   "id": "031923d9",
   "metadata": {},
   "outputs": [
    {
     "name": "stdout",
     "output_type": "stream",
     "text": [
      "dict_keys(['brand', 'model', 'year'])\n",
      "dict_keys(['brand', 'model', 'year', 'color'])\n"
     ]
    }
   ],
   "source": [
    "# Add a new item to the original dictionary and see that the keys list gets updated as well.\n",
    "\n",
    "car = {\"brand\":\"Ford\",\n",
    "          \"model\":\"Mustang\",\n",
    "          \"year\": 1964}\n",
    "\n",
    "x = car.keys()\n",
    "\n",
    "print(x)\n",
    "\n",
    "car[\"color\"] = \"white\"\n",
    "\n",
    "print(x)"
   ]
  },
  {
   "cell_type": "markdown",
   "id": "16313f25",
   "metadata": {},
   "source": [
    "# Get Values \n",
    "\n",
    "The **values( )** method will return a list of all values in the dictionary."
   ]
  },
  {
   "cell_type": "code",
   "execution_count": 13,
   "id": "c8429458",
   "metadata": {},
   "outputs": [
    {
     "name": "stdout",
     "output_type": "stream",
     "text": [
      "dict_values(['Ford', 'Mustang', 1964])\n"
     ]
    }
   ],
   "source": [
    "mydict = {\"brand\":\"Ford\",\n",
    "          \"model\":\"Mustang\",\n",
    "          \"year\": 1964}\n",
    "\n",
    "x = mydict.values()\n",
    "\n",
    "print(x)"
   ]
  },
  {
   "cell_type": "markdown",
   "id": "3cb621f2",
   "metadata": {},
   "source": [
    "The list of the values is a view of the dictionary, meaning that any changes done to the dictionary will be reflected in the values list."
   ]
  },
  {
   "cell_type": "code",
   "execution_count": 14,
   "id": "027de980",
   "metadata": {},
   "outputs": [
    {
     "name": "stdout",
     "output_type": "stream",
     "text": [
      "dict_values(['Ford', 'Mustang', 1964])\n",
      "dict_values(['Ford', 'Mustang', 2020])\n"
     ]
    }
   ],
   "source": [
    "car = {\"brand\":\"Ford\",\n",
    "          \"model\":\"Mustang\",\n",
    "          \"year\": 1964}\n",
    "\n",
    "x = car.values()\n",
    "\n",
    "print(x)\n",
    "\n",
    "\n",
    "car[\"year\"] = 2020\n",
    "\n",
    "print(x)"
   ]
  },
  {
   "cell_type": "code",
   "execution_count": 15,
   "id": "7ab39aae",
   "metadata": {},
   "outputs": [
    {
     "name": "stdout",
     "output_type": "stream",
     "text": [
      "dict_values(['Ford', 'Mustang', 1964])\n",
      "dict_values(['Ford', 'Mustang', 1964, 'red'])\n"
     ]
    }
   ],
   "source": [
    "# Add a new item to the original dictionary, and see that the vales list gets updates as well\n",
    "\n",
    "car = {\"brand\":\"Ford\",\n",
    "          \"model\":\"Mustang\",\n",
    "          \"year\": 1964}\n",
    "\n",
    "x = car.values()\n",
    "\n",
    "print(x)\n",
    "\n",
    "\n",
    "car[\"color\"] = \"red\"\n",
    "\n",
    "print(x)"
   ]
  },
  {
   "cell_type": "markdown",
   "id": "373564c3",
   "metadata": {},
   "source": [
    "# Get Items \n",
    "\n",
    "The **items( )** method will return each item in a dictionary, as tuple in a list.\n",
    "\n"
   ]
  },
  {
   "cell_type": "code",
   "execution_count": 16,
   "id": "62da2377",
   "metadata": {},
   "outputs": [
    {
     "name": "stdout",
     "output_type": "stream",
     "text": [
      "dict_items([('brand', 'Ford'), ('model', 'Mustang'), ('year', 1964)])\n"
     ]
    }
   ],
   "source": [
    "car = {\"brand\":\"Ford\",\n",
    "          \"model\":\"Mustang\",\n",
    "          \"year\": 1964}\n",
    "\n",
    "x = car.items()\n",
    "\n",
    "print(x)\n"
   ]
  },
  {
   "cell_type": "markdown",
   "id": "eac0df05",
   "metadata": {},
   "source": [
    "The returned list is the view of the items of the dictionary, meaning that any changes done to the dictionar will be reflected in the item list."
   ]
  },
  {
   "cell_type": "code",
   "execution_count": 17,
   "id": "6677d7c4",
   "metadata": {},
   "outputs": [
    {
     "name": "stdout",
     "output_type": "stream",
     "text": [
      "dict_items([('brand', 'Ford'), ('model', 'Mustang'), ('year', 1964)])\n",
      "dict_items([('brand', 'Ford'), ('model', 'Mustang'), ('year', 2020)])\n"
     ]
    }
   ],
   "source": [
    "car = {\"brand\":\"Ford\",\n",
    "          \"model\":\"Mustang\",\n",
    "          \"year\": 1964}\n",
    "\n",
    "x = car.items()\n",
    "\n",
    "print(x)\n",
    "\n",
    "car[\"year\"] = 2020\n",
    "\n",
    "print(x)"
   ]
  },
  {
   "cell_type": "code",
   "execution_count": 18,
   "id": "0f812a81",
   "metadata": {},
   "outputs": [
    {
     "name": "stdout",
     "output_type": "stream",
     "text": [
      "dict_items([('brand', 'Ford'), ('model', 'Mustang'), ('year', 1964)])\n",
      "dict_items([('brand', 'Ford'), ('model', 'Mustang'), ('year', 1964), ('color', 'white')])\n"
     ]
    }
   ],
   "source": [
    "# Add a new item and see how it is reflected\n",
    "\n",
    "car = {\"brand\":\"Ford\",\n",
    "          \"model\":\"Mustang\",\n",
    "          \"year\": 1964}\n",
    "\n",
    "x = car.items()\n",
    "\n",
    "print(x)\n",
    "\n",
    "car[\"color\"] = \"white\"\n",
    "\n",
    "print (x)"
   ]
  },
  {
   "cell_type": "markdown",
   "id": "54e7d77c",
   "metadata": {},
   "source": [
    "# Check if the key Exists \n",
    "\n",
    "To determine if a specified key is present in a dictionary use the in keyword"
   ]
  },
  {
   "cell_type": "code",
   "execution_count": 19,
   "id": "f198a268",
   "metadata": {},
   "outputs": [
    {
     "name": "stdout",
     "output_type": "stream",
     "text": [
      "Yes! 'model' is present\n"
     ]
    }
   ],
   "source": [
    "car = {\"brand\":\"Ford\",\n",
    "          \"model\":\"Mustang\",\n",
    "          \"year\": 1964}\n",
    "\n",
    "if \"model\" in car:\n",
    "    print(\"Yes! 'model' is present\")"
   ]
  },
  {
   "cell_type": "markdown",
   "id": "166c2fb7",
   "metadata": {},
   "source": [
    "# Change Values \n",
    "\n",
    "You can change the value of a specific item by referring to its key name."
   ]
  },
  {
   "cell_type": "code",
   "execution_count": 20,
   "id": "cd613cf6",
   "metadata": {},
   "outputs": [
    {
     "name": "stdout",
     "output_type": "stream",
     "text": [
      "{'brand': 'Ford', 'model': 'Mustang', 'year': 2018}\n"
     ]
    }
   ],
   "source": [
    "# Change the year to 2018\n",
    "\n",
    "car = {\"brand\":\"Ford\",\n",
    "          \"model\":\"Mustang\",\n",
    "          \"year\": 1964}\n",
    "car[\"year\"] = 2018\n",
    "\n",
    "print(car)"
   ]
  },
  {
   "cell_type": "markdown",
   "id": "e8b65ff5",
   "metadata": {},
   "source": [
    "# Update Dictionary\n",
    "\n",
    "The **update( )** method will update the dictionary with the items from the given argument. If the item does not exist, the item will be added. The argument must be a dictionary, or an iterable object with key:value pair\n"
   ]
  },
  {
   "cell_type": "code",
   "execution_count": 21,
   "id": "31dbcf1f",
   "metadata": {},
   "outputs": [
    {
     "name": "stdout",
     "output_type": "stream",
     "text": [
      "{'brand': 'Ford', 'model': 'Mustang', 'year': 2020}\n"
     ]
    }
   ],
   "source": [
    "# update the year of the car by using update method \n",
    "\n",
    "car = {\"brand\":\"Ford\",\n",
    "          \"model\":\"Mustang\",\n",
    "          \"year\": 1964}\n",
    "car.update({\"year\":2020})\n",
    "\n",
    "print (car)"
   ]
  },
  {
   "cell_type": "code",
   "execution_count": 23,
   "id": "91f4ba5f",
   "metadata": {},
   "outputs": [
    {
     "name": "stdout",
     "output_type": "stream",
     "text": [
      "{'brand': 'Ford', 'model': 'Mustang', 'year': 1964, 'color': 'red'}\n"
     ]
    }
   ],
   "source": [
    "# Add a color item to the dictionary by using update\n",
    "\n",
    "car = {\"brand\":\"Ford\",\n",
    "          \"model\":\"Mustang\",\n",
    "          \"year\": 1964}\n",
    "car.update({\"color\":\"red\"})\n",
    "\n",
    "print (car)"
   ]
  },
  {
   "cell_type": "markdown",
   "id": "9b66ab6d",
   "metadata": {},
   "source": [
    "# Adding items \n",
    "\n",
    "Adding an item to the dictionary is done by using a new index key and assigning a value to it."
   ]
  },
  {
   "cell_type": "code",
   "execution_count": 24,
   "id": "b6ca192c",
   "metadata": {},
   "outputs": [
    {
     "name": "stdout",
     "output_type": "stream",
     "text": [
      "{'brand': 'Ford', 'model': 'Mustang', 'year': 1964, 'color': 'white'}\n"
     ]
    }
   ],
   "source": [
    "car = {\"brand\":\"Ford\",\n",
    "          \"model\":\"Mustang\",\n",
    "          \"year\": 1964}\n",
    "\n",
    "car['color'] = \"white\"\n",
    "\n",
    "print (car)"
   ]
  },
  {
   "cell_type": "markdown",
   "id": "128b371b",
   "metadata": {},
   "source": [
    "# Removing Items \n",
    "\n",
    "There are several methods to remove items from a dictionary.\n",
    "\n",
    "The **pop( )** method removes the item with the specified key name."
   ]
  },
  {
   "cell_type": "code",
   "execution_count": 25,
   "id": "0e774276",
   "metadata": {},
   "outputs": [
    {
     "name": "stdout",
     "output_type": "stream",
     "text": [
      "{'model': 'Mustang', 'year': 1964}\n"
     ]
    }
   ],
   "source": [
    "car = {\"brand\":\"Ford\",\n",
    "          \"model\":\"Mustang\",\n",
    "          \"year\": 1964}\n",
    "\n",
    "car.pop(\"brand\")\n",
    "\n",
    "print(car)"
   ]
  },
  {
   "cell_type": "markdown",
   "id": "4a09133f",
   "metadata": {},
   "source": [
    "The **popitem( )** method removes the last inserted item "
   ]
  },
  {
   "cell_type": "code",
   "execution_count": 26,
   "id": "710188e6",
   "metadata": {},
   "outputs": [
    {
     "name": "stdout",
     "output_type": "stream",
     "text": [
      "{'brand': 'Ford', 'model': 'Mustang'}\n"
     ]
    }
   ],
   "source": [
    "car = {\"brand\":\"Ford\",\n",
    "          \"model\":\"Mustang\",\n",
    "          \"year\": 1964}\n",
    "\n",
    "car.popitem()\n",
    "\n",
    "print(car)"
   ]
  },
  {
   "cell_type": "markdown",
   "id": "61335810",
   "metadata": {},
   "source": [
    "The **del** keyword removes the item with the specified key name. \n",
    "\n",
    "The **del** keyword can also delete the dictionary completely.And if you search the dictionary name after using it, there will be an error."
   ]
  },
  {
   "cell_type": "code",
   "execution_count": 27,
   "id": "ea261399",
   "metadata": {},
   "outputs": [
    {
     "name": "stdout",
     "output_type": "stream",
     "text": [
      "{'brand': 'Ford', 'year': 1964}\n"
     ]
    }
   ],
   "source": [
    "car = {\"brand\":\"Ford\",\n",
    "          \"model\":\"Mustang\",\n",
    "          \"year\": 1964}\n",
    "\n",
    "del car[\"model\"]\n",
    "\n",
    "print(car)"
   ]
  },
  {
   "cell_type": "markdown",
   "id": "18f0c5e5",
   "metadata": {},
   "source": [
    "The **clear( )** method empties the dictionary completely."
   ]
  },
  {
   "cell_type": "code",
   "execution_count": 28,
   "id": "042940ea",
   "metadata": {},
   "outputs": [
    {
     "name": "stdout",
     "output_type": "stream",
     "text": [
      "{}\n"
     ]
    }
   ],
   "source": [
    "car = {\"brand\":\"Ford\",\n",
    "          \"model\":\"Mustang\",\n",
    "          \"year\": 1964}\n",
    "\n",
    "car.clear()\n",
    "\n",
    "print(car)"
   ]
  },
  {
   "cell_type": "markdown",
   "id": "d107cb65",
   "metadata": {},
   "source": [
    "# Loop through a Dictionary\n",
    "\n",
    "You can loop through the dictionary using a for loop. \n",
    "\n",
    "When looping through, the return value are the **keys** of the dictionary, but there are methods to return values as well."
   ]
  },
  {
   "cell_type": "code",
   "execution_count": 30,
   "id": "f8f3792b",
   "metadata": {},
   "outputs": [
    {
     "name": "stdout",
     "output_type": "stream",
     "text": [
      "brand\n",
      "model\n",
      "year\n"
     ]
    }
   ],
   "source": [
    "# Print all the key names in the dictionary, one by one \n",
    "\n",
    "car = {\"brand\":\"Ford\",\n",
    "          \"model\":\"Mustang\",\n",
    "          \"year\": 1964}\n",
    "\n",
    "for x in car:\n",
    "    print(x)"
   ]
  },
  {
   "cell_type": "code",
   "execution_count": 31,
   "id": "c8eea04b",
   "metadata": {},
   "outputs": [
    {
     "name": "stdout",
     "output_type": "stream",
     "text": [
      "Ford\n",
      "Mustang\n",
      "1964\n"
     ]
    }
   ],
   "source": [
    "# Print all the values in the dictionary\n",
    "\n",
    "car = {\"brand\":\"Ford\",\n",
    "          \"model\":\"Mustang\",\n",
    "          \"year\": 1964}\n",
    "\n",
    "for x in car:\n",
    "    print(car[x])"
   ]
  },
  {
   "cell_type": "markdown",
   "id": "505b46a4",
   "metadata": {},
   "source": [
    "You can also use **values( )** method to return values of a dictionary."
   ]
  },
  {
   "cell_type": "code",
   "execution_count": 32,
   "id": "a19c3c6a",
   "metadata": {},
   "outputs": [
    {
     "name": "stdout",
     "output_type": "stream",
     "text": [
      "Ford\n",
      "Mustang\n",
      "1964\n"
     ]
    }
   ],
   "source": [
    "car = {\"brand\":\"Ford\",\n",
    "          \"model\":\"Mustang\",\n",
    "          \"year\": 1964}\n",
    "\n",
    "for x in car.values():\n",
    "    print(x)"
   ]
  },
  {
   "cell_type": "markdown",
   "id": "e0fd6191",
   "metadata": {},
   "source": [
    "You can also use **keys( )** method to return values of a dictionary."
   ]
  },
  {
   "cell_type": "code",
   "execution_count": 33,
   "id": "c114ff39",
   "metadata": {},
   "outputs": [
    {
     "name": "stdout",
     "output_type": "stream",
     "text": [
      "brand\n",
      "model\n",
      "year\n"
     ]
    }
   ],
   "source": [
    "car = {\"brand\":\"Ford\",\n",
    "          \"model\":\"Mustang\",\n",
    "          \"year\": 1964}\n",
    "\n",
    "for x in car.keys():\n",
    "    print(x)"
   ]
  },
  {
   "cell_type": "markdown",
   "id": "de63140e",
   "metadata": {},
   "source": [
    "Loop through both keys and values, by using the **item( )** method."
   ]
  },
  {
   "cell_type": "code",
   "execution_count": 34,
   "id": "e63e4c30",
   "metadata": {},
   "outputs": [
    {
     "name": "stdout",
     "output_type": "stream",
     "text": [
      "brand Ford\n",
      "model Mustang\n",
      "year 1964\n"
     ]
    }
   ],
   "source": [
    "car = {\"brand\":\"Ford\",\n",
    "          \"model\":\"Mustang\",\n",
    "          \"year\": 1964}\n",
    "\n",
    "\n",
    "for x,y in car.items():\n",
    "    print (x,y)"
   ]
  },
  {
   "cell_type": "markdown",
   "id": "570e2c05",
   "metadata": {},
   "source": [
    "# Copy a Dictionary \n",
    "\n",
    "You cannot copy a dictionary simply by typing dict2 = dict1, because dict2 will only be a reference to dict1, and changes made to dict1 will automatically made to dict2.\n",
    "\n",
    "There are ways to make a copy, one way is to use the built in dictionary method, **copy( )**"
   ]
  },
  {
   "cell_type": "code",
   "execution_count": 43,
   "id": "84e8d1ed",
   "metadata": {},
   "outputs": [
    {
     "name": "stdout",
     "output_type": "stream",
     "text": [
      "{'brand': 'Ford', 'model': 'Mustang', 'year': 1964}\n",
      "{'brand': 'Ford', 'model': 'Mustang', 'year': 1964}\n"
     ]
    }
   ],
   "source": [
    "# Make a copy of a dictionary with the copy () method\n",
    "\n",
    "car1 = {\"brand\":\"Ford\",\n",
    "          \"model\":\"Mustang\",\n",
    "          \"year\": 1964}\n",
    "car2 = car1.copy()\n",
    "\n",
    "print (car1)\n",
    "print (car2)\n",
    "\n"
   ]
  },
  {
   "cell_type": "markdown",
   "id": "2ec465d0",
   "metadata": {},
   "source": [
    "Another way to make a copy is to use the built in function **dict( )**"
   ]
  },
  {
   "cell_type": "code",
   "execution_count": 37,
   "id": "803e39f2",
   "metadata": {},
   "outputs": [
    {
     "name": "stdout",
     "output_type": "stream",
     "text": [
      "{'brand': 'Ford', 'model': 'Mustang', 'year': 1964}\n",
      "{'brand': 'Ford', 'model': 'Mustang', 'year': 1964}\n"
     ]
    }
   ],
   "source": [
    "car1 = {\"brand\":\"Ford\",\n",
    "          \"model\":\"Mustang\",\n",
    "          \"year\": 1964}\n",
    "\n",
    "car2 = dict(car1)\n",
    "\n",
    "print (car1)\n",
    "print (car2)\n",
    "\n"
   ]
  },
  {
   "cell_type": "markdown",
   "id": "be3d9a78",
   "metadata": {},
   "source": [
    "# Nested Dictionaries \n",
    "\n",
    "A dictionary can contain dictionaries, this is called nested dictionaries."
   ]
  },
  {
   "cell_type": "code",
   "execution_count": 38,
   "id": "2063a50e",
   "metadata": {},
   "outputs": [
    {
     "name": "stdout",
     "output_type": "stream",
     "text": [
      "{'child1': {'name': 'Emil', 'year': 2004}, 'child2': {'name': 'Tobias', 'year': 2007}, 'child3': {'name': 'Linus', 'year': 2011}}\n"
     ]
    }
   ],
   "source": [
    "# Create a dictionary that contain three dictionaries\n",
    "\n",
    "myfamily = {\n",
    "    \"child1\": {\n",
    "        \"name\": \"Emil\",\n",
    "        \"year\": 2004\n",
    "    },\n",
    "    \"child2\" : {\n",
    "        \"name\": \"Tobias\",\n",
    "        \"year\": 2007\n",
    "    },\n",
    "    \"child3\": {\n",
    "        \"name\": \"Linus\",\n",
    "        \"year\": 2011\n",
    "    }\n",
    "    \n",
    "}\n",
    "\n",
    "print(myfamily)"
   ]
  },
  {
   "cell_type": "markdown",
   "id": "0e1fe55a",
   "metadata": {},
   "source": [
    "If you want to add three dictionaries into a new dictionary."
   ]
  },
  {
   "cell_type": "code",
   "execution_count": 39,
   "id": "84cbb3c8",
   "metadata": {},
   "outputs": [
    {
     "name": "stdout",
     "output_type": "stream",
     "text": [
      "{'child1': {'name': 'Emil', 'year': 2004}, 'child2': {'name': 'Tobias', 'year': 2007}, 'child3': {'name': 'Linus', 'year': 2011}}\n"
     ]
    }
   ],
   "source": [
    "child1 = {\n",
    "    \"name\":\"Emil\",\n",
    "    \"year\": 2004\n",
    "}\n",
    "\n",
    "child2 = {\n",
    "    \"name\":\"Tobias\",\n",
    "    \"year\": 2007\n",
    "}\n",
    "\n",
    "child3 = {\n",
    "    \"name\":\"Linus\",\n",
    "    \"year\": 2011\n",
    "}\n",
    "\n",
    "myfamily = {\n",
    "    \"child1\": child1,\n",
    "    \"child2\": child2,\n",
    "    \"child3\": child3\n",
    "}\n",
    "\n",
    "print(myfamily)"
   ]
  },
  {
   "cell_type": "markdown",
   "id": "9af44591",
   "metadata": {},
   "source": [
    "# Dictionary Methods \n",
    "\n",
    "Python has a set of built in methods that can be used on dictionaries."
   ]
  },
  {
   "cell_type": "markdown",
   "id": "babb1873",
   "metadata": {},
   "source": [
    "# clear( )\n",
    "\n",
    "It removes all the elements from the dictionary.\n",
    "\n",
    "**Syntax**\n",
    "\n",
    "dictionary.clear( )\n",
    "\n",
    "**Parameter**\n",
    "\n",
    "None"
   ]
  },
  {
   "cell_type": "code",
   "execution_count": 40,
   "id": "19e8b9ff",
   "metadata": {},
   "outputs": [
    {
     "name": "stdout",
     "output_type": "stream",
     "text": [
      "{}\n"
     ]
    }
   ],
   "source": [
    "car = {\"brand\":\"Ford\",\n",
    "          \"model\":\"Mustang\",\n",
    "          \"year\": 1964}\n",
    "\n",
    "car.clear()\n",
    "\n",
    "print(car)"
   ]
  },
  {
   "cell_type": "markdown",
   "id": "90e9c6a2",
   "metadata": {},
   "source": [
    "# copy( )\n",
    "\n",
    "Returns a copy of a specified dictionary.\n",
    "\n",
    "**Syntax**\n",
    "\n",
    "dictionary.copy( )\n",
    "\n",
    "**Parameter**\n",
    "\n",
    "None"
   ]
  },
  {
   "cell_type": "code",
   "execution_count": 42,
   "id": "5fe4a4ae",
   "metadata": {},
   "outputs": [
    {
     "name": "stdout",
     "output_type": "stream",
     "text": [
      "{'brand': 'Ford', 'model': 'Mustang', 'year': 1964}\n",
      "{'brand': 'Ford', 'model': 'Mustang', 'year': 1964}\n"
     ]
    }
   ],
   "source": [
    "car1 = {\"brand\":\"Ford\",\n",
    "          \"model\":\"Mustang\",\n",
    "          \"year\": 1964}\n",
    "\n",
    "car2 = car1.copy()\n",
    "\n",
    "print (car1)\n",
    "print (car2)\n"
   ]
  },
  {
   "cell_type": "markdown",
   "id": "ad4c1346",
   "metadata": {},
   "source": [
    "# fromkeys( )\n",
    "\n",
    "This method returns a dictionary with the specified keys and the specified value.\n",
    "\n",
    "**Syntax**\n",
    "\n",
    "dict.fromkeys(keys, value)\n",
    "\n",
    "**Parameter**\n",
    "\n",
    "Keys is required i.e. an iterable specifying the keys of the new dictionary.\n",
    "\n",
    "Value is optional. The value for all keys. Default is none."
   ]
  },
  {
   "cell_type": "code",
   "execution_count": null,
   "id": "ad9348ed",
   "metadata": {},
   "outputs": [],
   "source": [
    "# Create a dictionary with 3 keys, all with 0 value.\n",
    "\n",
    "x = (\"key1\", \"key2\",\"key3\")\n",
    "y = 0\n",
    "\n",
    "mydict = mydict.fromkeys(x,y)\n",
    "\n",
    "print(mydict)"
   ]
  },
  {
   "cell_type": "markdown",
   "id": "7e73aa62",
   "metadata": {},
   "source": [
    "# get( )\n",
    "\n",
    "This method returns the value of the item with the specified key.\n",
    "\n",
    "**Syntax**\n",
    "\n",
    "dictionary.get(keyname, value)\n",
    "\n",
    "**Parameter**\n",
    "\n",
    "keyname required. The key name of the item you want to return the value from.\n",
    "\n",
    "value is optional. A value to return if the specified key does not exist. Default value is none."
   ]
  },
  {
   "cell_type": "code",
   "execution_count": 45,
   "id": "d4574e40",
   "metadata": {},
   "outputs": [
    {
     "name": "stdout",
     "output_type": "stream",
     "text": [
      "1964\n"
     ]
    }
   ],
   "source": [
    "mydict = {\"brand\":\"Ford\",\n",
    "          \"model\":\"Mustang\",\n",
    "          \"year\": 1964}\n",
    "\n",
    "x = mydict.get(\"year\")\n",
    "\n",
    "print(x)"
   ]
  },
  {
   "cell_type": "markdown",
   "id": "08065710",
   "metadata": {},
   "source": [
    "# items( )\n",
    "\n",
    "This returns a view object. The view object contains the key-value pairs of the dictionary, as tuples in a list.\n",
    "\n",
    "The view object will reflect any changes done to the dictionary.\n",
    "\n",
    "**Syntax**\n",
    "\n",
    "dictionary.items( )\n",
    "\n",
    "**Parameter**\n",
    "\n",
    "None"
   ]
  },
  {
   "cell_type": "code",
   "execution_count": 46,
   "id": "d8dced5d",
   "metadata": {},
   "outputs": [
    {
     "name": "stdout",
     "output_type": "stream",
     "text": [
      "dict_items([('brand', 'Ford'), ('model', 'Mustang'), ('year', 1964)])\n",
      "dict_items([('brand', 'Ford'), ('model', 'Mustang'), ('year', 2020)])\n"
     ]
    }
   ],
   "source": [
    "car = {\"brand\":\"Ford\",\n",
    "          \"model\":\"Mustang\",\n",
    "          \"year\": 1964}\n",
    "\n",
    "x = car.items()\n",
    "\n",
    "print(x)\n",
    "\n",
    "car[\"year\"] = 2020\n",
    "\n",
    "print(x)"
   ]
  },
  {
   "cell_type": "markdown",
   "id": "e4b7b057",
   "metadata": {},
   "source": [
    "# keys( )\n",
    "\n",
    "It returns a view object. This object contains the keys of the dictionary, as a list and any changes done to the dictionary, will be reflected in the view object too.\n",
    "\n",
    "**Syntax**\n",
    "\n",
    "dictionary.keys( )\n",
    "\n",
    "**Parameter**\n",
    "\n",
    "None."
   ]
  },
  {
   "cell_type": "code",
   "execution_count": 47,
   "id": "a1d34d25",
   "metadata": {},
   "outputs": [
    {
     "name": "stdout",
     "output_type": "stream",
     "text": [
      "dict_keys(['brand', 'model', 'year'])\n",
      "dict_keys(['brand', 'model', 'year', 'color'])\n"
     ]
    }
   ],
   "source": [
    "car = {\"brand\":\"Ford\",\n",
    "          \"model\":\"Mustang\",\n",
    "          \"year\": 1964}\n",
    "\n",
    "x = car.keys()\n",
    "\n",
    "print(x)\n",
    "\n",
    "car[\"color\"] = \"white\"\n",
    "\n",
    "print(x)"
   ]
  },
  {
   "cell_type": "markdown",
   "id": "e0dd6555",
   "metadata": {},
   "source": [
    "# pop( )\n",
    "\n",
    "This method removes the specified item from the dictionary. The value of the removed item is the return value of the pop( ).\n",
    "\n",
    "**Syntax**\n",
    "\n",
    "dictionary.pop(keyname,defaultvalue)\n",
    "\n",
    "**Parameter**\n",
    "\n",
    "Keyname is required as it is the name of the item you want to remove.\n",
    "\n",
    "Defaultvalue is optional. A value to return if the specified key do not exist.\n",
    "\n",
    "If this parameter is not specified, and the no item with specified key is found, an error is raised."
   ]
  },
  {
   "cell_type": "code",
   "execution_count": 48,
   "id": "89aa567d",
   "metadata": {},
   "outputs": [
    {
     "name": "stdout",
     "output_type": "stream",
     "text": [
      "{'model': 'Mustang', 'year': 1964}\n"
     ]
    }
   ],
   "source": [
    "car = {\"brand\":\"Ford\",\n",
    "          \"model\":\"Mustang\",\n",
    "          \"year\": 1964}\n",
    "\n",
    "car.pop(\"brand\")\n",
    "\n",
    "print(car)"
   ]
  },
  {
   "cell_type": "markdown",
   "id": "29802cb8",
   "metadata": {},
   "source": [
    "# popitem( )\n",
    "\n",
    "It removes the item that was last inserted into the dictionary.\n",
    "\n",
    "**Syntax**\n",
    "\n",
    "dictionary.popitem( )\n",
    "\n",
    "**Parameter**\n",
    "\n",
    "None."
   ]
  },
  {
   "cell_type": "code",
   "execution_count": 49,
   "id": "40f0d3aa",
   "metadata": {},
   "outputs": [
    {
     "name": "stdout",
     "output_type": "stream",
     "text": [
      "{'brand': 'Ford', 'model': 'Mustang'}\n"
     ]
    }
   ],
   "source": [
    "car = {\"brand\":\"Ford\",\n",
    "          \"model\":\"Mustang\",\n",
    "          \"year\": 1964}\n",
    "\n",
    "car.popitem()\n",
    "\n",
    "print(car)"
   ]
  },
  {
   "cell_type": "markdown",
   "id": "6e8c51f0",
   "metadata": {},
   "source": [
    "# setdefault( )\n",
    "\n",
    "It returns the value of the item with the specified key. If the key doesnt exist, insert the key, with the specified value. \n",
    "\n",
    "**Syntax**\n",
    "\n",
    "dictionary.setdefault(keyname, value)\n",
    "\n",
    "**Parameter**\n",
    "\n",
    "Keyname is required. The name of the item you want to return the value from.\n",
    "\n",
    "Value is optional.If the key exists, this parameter has no effect. If the key doesnot exists, this value becomes the key's value. Default is none."
   ]
  },
  {
   "cell_type": "code",
   "execution_count": 52,
   "id": "a5a5432a",
   "metadata": {},
   "outputs": [
    {
     "name": "stdout",
     "output_type": "stream",
     "text": [
      "Mustang\n"
     ]
    }
   ],
   "source": [
    "car = {\"brand\":\"Ford\",\n",
    "          \"model\":\"Mustang\",\n",
    "          \"year\": 1964}\n",
    "\n",
    "x = car.setdefault(\"model\", \"Bronco\")\n",
    "\n",
    "print(x)\n",
    "\n"
   ]
  },
  {
   "cell_type": "code",
   "execution_count": 53,
   "id": "264ee897",
   "metadata": {},
   "outputs": [
    {
     "name": "stdout",
     "output_type": "stream",
     "text": [
      "white\n"
     ]
    }
   ],
   "source": [
    "# Get the value of the \"color\" item, if the \"color\" item doesnot exist, insert \"color\" with the value \"white\"\n",
    "\n",
    "car = {\"brand\":\"Ford\",\n",
    "          \"model\":\"Mustang\",\n",
    "          \"year\": 1964}\n",
    "\n",
    "x = car.setdefault(\"color\", \"white\")\n",
    "\n",
    "print (x)"
   ]
  },
  {
   "cell_type": "markdown",
   "id": "2259a3f8",
   "metadata": {},
   "source": [
    "# update( )\n",
    "\n",
    "It inserts the specified items to the dictionary. The specified item can be a dictionary, or an iterable object with key value pairs.\n",
    "\n",
    "**Syntax**\n",
    "\n",
    "dictionary.update(iterable)\n",
    "\n",
    "**Parameter**\n",
    "\n",
    "Iterable is required with the key value pair, that will be inserted to the dictionary."
   ]
  },
  {
   "cell_type": "code",
   "execution_count": 54,
   "id": "e0c7ad06",
   "metadata": {},
   "outputs": [
    {
     "name": "stdout",
     "output_type": "stream",
     "text": [
      "{'brand': 'Ford', 'model': 'Mustang', 'year': 1964, 'color': 'yellow'}\n"
     ]
    }
   ],
   "source": [
    "car = {\"brand\":\"Ford\",\n",
    "          \"model\":\"Mustang\",\n",
    "          \"year\": 1964}\n",
    "car.update({\"color\":\"yellow\"})\n",
    "\n",
    "print(car)"
   ]
  },
  {
   "cell_type": "markdown",
   "id": "06c7dfa7",
   "metadata": {},
   "source": [
    "# values( )\n",
    "\n",
    "This method returns a view object that contains the values of the dictionary, as a list and will reflect any changes done to the original dictionary.\n",
    "\n",
    "**Syntax**\n",
    "\n",
    "dictionary.values( )\n",
    "\n",
    "**Parameter**\n",
    "\n",
    "None"
   ]
  },
  {
   "cell_type": "code",
   "execution_count": 56,
   "id": "e74fdb8b",
   "metadata": {},
   "outputs": [
    {
     "name": "stdout",
     "output_type": "stream",
     "text": [
      "dict_values(['Ford', 'Mustang', 1964])\n",
      "dict_values(['Ford', 'Mustang', 2020])\n"
     ]
    }
   ],
   "source": [
    "car = {\"brand\":\"Ford\",\n",
    "          \"model\":\"Mustang\",\n",
    "          \"year\": 1964}\n",
    "x= car.values()\n",
    "\n",
    "print(x)\n",
    "\n",
    "car[\"year\"] = 2020\n",
    "\n",
    "print (x)"
   ]
  },
  {
   "cell_type": "code",
   "execution_count": 57,
   "id": "31eef7dd",
   "metadata": {},
   "outputs": [
    {
     "name": "stdout",
     "output_type": "stream",
     "text": [
      "Mustang\n"
     ]
    }
   ],
   "source": [
    "# Exercises\n",
    "\n",
    "#Use the get() method to print the value of the model key of the car\n",
    "\n",
    "car = {\"brand\":\"Ford\",\n",
    "          \"model\":\"Mustang\",\n",
    "          \"year\": 1964}\n",
    "\n",
    "\n",
    "print(car.get(\"model\"))"
   ]
  },
  {
   "cell_type": "code",
   "execution_count": 59,
   "id": "b9bf90d8",
   "metadata": {},
   "outputs": [
    {
     "name": "stdout",
     "output_type": "stream",
     "text": [
      "{'brand': 'Ford', 'model': 'Mustang', 'year': 2020}\n"
     ]
    }
   ],
   "source": [
    "#Change year from 1964 to 2020\n",
    "\n",
    "car = {\"brand\":\"Ford\",\n",
    "          \"model\":\"Mustang\",\n",
    "          \"year\": 1964}\n",
    "car[\"year\"] = 2020\n",
    "\n",
    "print (car)"
   ]
  },
  {
   "cell_type": "code",
   "execution_count": 60,
   "id": "9bbd4b87",
   "metadata": {},
   "outputs": [
    {
     "name": "stdout",
     "output_type": "stream",
     "text": [
      "{'brand': 'Ford', 'model': 'Mustang', 'year': 1964, 'color': 'red'}\n"
     ]
    }
   ],
   "source": [
    "#Add the key/value pair \"color\": \"red\" to the car\n",
    "\n",
    "car = {\"brand\":\"Ford\",\n",
    "          \"model\":\"Mustang\",\n",
    "          \"year\": 1964}\n",
    "car.update({\"color\":\"red\"})\n",
    "\n",
    "print (car)"
   ]
  },
  {
   "cell_type": "code",
   "execution_count": 61,
   "id": "2fe9a667",
   "metadata": {},
   "outputs": [
    {
     "name": "stdout",
     "output_type": "stream",
     "text": [
      "{'brand': 'Ford', 'model': 'Mustang', 'year': 1964, 'color': 'red'}\n"
     ]
    }
   ],
   "source": [
    "# Or you can do it simply \n",
    "\n",
    "car = {\"brand\":\"Ford\",\n",
    "          \"model\":\"Mustang\",\n",
    "          \"year\": 1964}\n",
    "\n",
    "\n",
    "car[\"color\"] = \"red\"\n",
    "\n",
    "print (car)"
   ]
  },
  {
   "cell_type": "code",
   "execution_count": 63,
   "id": "cf142b1e",
   "metadata": {},
   "outputs": [
    {
     "name": "stdout",
     "output_type": "stream",
     "text": [
      "{'brand': 'Ford', 'year': 1964}\n"
     ]
    }
   ],
   "source": [
    "# Use the pop method to remove \"model\" from the car \n",
    "\n",
    "\n",
    "car = {\"brand\":\"Ford\",\n",
    "          \"model\":\"Mustang\",\n",
    "          \"year\": 1964}\n",
    "\n",
    "car.pop(\"model\")\n",
    "\n",
    "print (car)\n"
   ]
  },
  {
   "cell_type": "code",
   "execution_count": 65,
   "id": "82dcf1d9",
   "metadata": {},
   "outputs": [
    {
     "name": "stdout",
     "output_type": "stream",
     "text": [
      "{}\n"
     ]
    }
   ],
   "source": [
    "# Use the clear method to empty car \n",
    "\n",
    "car = {\"brand\":\"Ford\",\n",
    "          \"model\":\"Mustang\",\n",
    "          \"year\": 1964}\n",
    "\n",
    "car.clear()\n",
    "\n",
    "print (car)"
   ]
  },
  {
   "cell_type": "code",
   "execution_count": null,
   "id": "6e28a408",
   "metadata": {},
   "outputs": [],
   "source": []
  }
 ],
 "metadata": {
  "kernelspec": {
   "display_name": "Python 3",
   "language": "python",
   "name": "python3"
  },
  "language_info": {
   "codemirror_mode": {
    "name": "ipython",
    "version": 3
   },
   "file_extension": ".py",
   "mimetype": "text/x-python",
   "name": "python",
   "nbconvert_exporter": "python",
   "pygments_lexer": "ipython3",
   "version": "3.6.13"
  }
 },
 "nbformat": 4,
 "nbformat_minor": 5
}
