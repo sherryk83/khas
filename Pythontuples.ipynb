{
 "cells": [
  {
   "cell_type": "markdown",
   "id": "f87cde98",
   "metadata": {},
   "source": [
    "# Tuple \n",
    "\n",
    "Tuples are used to store multiple items in a single variable. It is a collection which is **ordered** and **unchangeable** and **allow duplicate values**. These are enclosed with round brackets. Tuple items are indexed, the first item has index [0], the second item has index [1] etc \n",
    "\n",
    "\n",
    "# Ordered\n",
    "\n",
    "It means that the items have a defined order and it will not change.\n",
    "\n",
    "# Unchangeable \n",
    "\n",
    "It means that we cannot change, add or remove items after the tuple has been created.\n",
    "\n",
    "# Allow Duplicates\n",
    "\n",
    "Since tuples are indexed, they can have items with the same value.\n"
   ]
  },
  {
   "cell_type": "code",
   "execution_count": 1,
   "id": "397804dd",
   "metadata": {},
   "outputs": [
    {
     "name": "stdout",
     "output_type": "stream",
     "text": [
      "('apple', 'banana', 'cherry')\n"
     ]
    }
   ],
   "source": [
    "mytuple = (\"apple\",\"banana\",\"cherry\")\n",
    "print(mytuple)"
   ]
  },
  {
   "cell_type": "code",
   "execution_count": 2,
   "id": "d4f0a46c",
   "metadata": {},
   "outputs": [
    {
     "name": "stdout",
     "output_type": "stream",
     "text": [
      "('apple', 'banana', 'cherry', 'apple', 'cherry')\n"
     ]
    }
   ],
   "source": [
    "#Duplicate\n",
    "\n",
    "mytuple = (\"apple\",\"banana\",\"cherry\",'apple',\"cherry\")\n",
    "print(mytuple)"
   ]
  },
  {
   "cell_type": "markdown",
   "id": "f2d6344f",
   "metadata": {},
   "source": [
    "# Tuple Length \n",
    "\n",
    "We will use len() function to determine the lenght "
   ]
  },
  {
   "cell_type": "code",
   "execution_count": 3,
   "id": "6340bff4",
   "metadata": {},
   "outputs": [
    {
     "name": "stdout",
     "output_type": "stream",
     "text": [
      "5\n"
     ]
    }
   ],
   "source": [
    "mytuple = (\"apple\",\"banana\",\"cherry\",'apple',\"cherry\")\n",
    "print(len(mytuple))"
   ]
  },
  {
   "cell_type": "markdown",
   "id": "ee297ac2",
   "metadata": {},
   "source": [
    "# Create Tuple with one item \n",
    "\n",
    "To create a tuple with only one item, you have to add a comma after the item, otherwise python will not reconize it as a tuple."
   ]
  },
  {
   "cell_type": "code",
   "execution_count": 4,
   "id": "3e4ebed8",
   "metadata": {},
   "outputs": [
    {
     "name": "stdout",
     "output_type": "stream",
     "text": [
      "<class 'tuple'>\n"
     ]
    }
   ],
   "source": [
    "#Tuple\n",
    "\n",
    "mytuple = (\"apple\",)\n",
    "print(type(mytuple))"
   ]
  },
  {
   "cell_type": "code",
   "execution_count": 5,
   "id": "dc2a7273",
   "metadata": {},
   "outputs": [
    {
     "name": "stdout",
     "output_type": "stream",
     "text": [
      "<class 'str'>\n"
     ]
    }
   ],
   "source": [
    "#Not a Tuple\n",
    "\n",
    "mytuple = (\"apple\")\n",
    "print(type(mytuple))"
   ]
  },
  {
   "cell_type": "markdown",
   "id": "fcd91c4b",
   "metadata": {},
   "source": [
    "# Tuple Items - Data Types \n",
    "\n",
    "Tuple items can be of any data types."
   ]
  },
  {
   "cell_type": "code",
   "execution_count": 7,
   "id": "9b4f6681",
   "metadata": {},
   "outputs": [
    {
     "name": "stdout",
     "output_type": "stream",
     "text": [
      "<class 'tuple'>\n",
      "<class 'tuple'>\n",
      "<class 'tuple'>\n"
     ]
    }
   ],
   "source": [
    "#String, Int, boolean \n",
    "\n",
    "tuple1 = (\"apple\",\"orange\",\"cherry\")\n",
    "tuple2 = (1,3,5,7,9)\n",
    "tuple3 = (True, False, True, False)\n",
    "print(type(tuple1))\n",
    "print(type(tuple2))\n",
    "print(type(tuple3))"
   ]
  },
  {
   "cell_type": "markdown",
   "id": "d43a1c68",
   "metadata": {},
   "source": [
    "A tuple can have different data types."
   ]
  },
  {
   "cell_type": "code",
   "execution_count": 9,
   "id": "8ff887c7",
   "metadata": {},
   "outputs": [
    {
     "name": "stdout",
     "output_type": "stream",
     "text": [
      "<class 'tuple'>\n"
     ]
    }
   ],
   "source": [
    "tuple1 = (\"1\",'orange',\"True\")\n",
    "print(type(tuple1))"
   ]
  },
  {
   "cell_type": "markdown",
   "id": "c3aa2198",
   "metadata": {},
   "source": [
    "# The Tuple( ) constructor \n",
    "\n",
    "We can also use the tuple() constructor to make a tuple."
   ]
  },
  {
   "cell_type": "code",
   "execution_count": 10,
   "id": "aff0a0df",
   "metadata": {},
   "outputs": [
    {
     "name": "stdout",
     "output_type": "stream",
     "text": [
      "('apple', 'banana', 'cherry')\n"
     ]
    }
   ],
   "source": [
    "# Using a tuple method to make a tuple \n",
    "\n",
    "tuple1 = tuple((\"apple\",\"banana\",\"cherry\"))\n",
    "print(tuple1)"
   ]
  },
  {
   "cell_type": "markdown",
   "id": "b2569998",
   "metadata": {},
   "source": [
    "# Access Tuple items \n",
    "\n",
    "You can access tuple items by referring to the index number, inside square brackets."
   ]
  },
  {
   "cell_type": "code",
   "execution_count": 12,
   "id": "7c1ed979",
   "metadata": {},
   "outputs": [
    {
     "name": "stdout",
     "output_type": "stream",
     "text": [
      "orange\n"
     ]
    }
   ],
   "source": [
    "tuple1 = (\"apple\",\"orange\",\"cherry\")\n",
    "print(tuple1[1])"
   ]
  },
  {
   "cell_type": "markdown",
   "id": "90df7263",
   "metadata": {},
   "source": [
    "# Negative Indexing "
   ]
  },
  {
   "cell_type": "code",
   "execution_count": 13,
   "id": "aa496a59",
   "metadata": {},
   "outputs": [
    {
     "name": "stdout",
     "output_type": "stream",
     "text": [
      "cherry\n"
     ]
    }
   ],
   "source": [
    "tuple1 = (\"apple\",\"orange\",\"cherry\")\n",
    "print(tuple1[-1])"
   ]
  },
  {
   "cell_type": "markdown",
   "id": "ab7dd9d2",
   "metadata": {},
   "source": [
    "# Range of Indexes\n",
    "\n",
    "You can specify a range of indexes by specifying where to start and where to end the range."
   ]
  },
  {
   "cell_type": "code",
   "execution_count": 14,
   "id": "62fa5238",
   "metadata": {},
   "outputs": [
    {
     "name": "stdout",
     "output_type": "stream",
     "text": [
      "('cherry', 'pineapple', 'mango')\n"
     ]
    }
   ],
   "source": [
    "tuple1 = (\"apple\",\"orange\",\"cherry\",\"pineapple\",\"mango\",\"kiwi\")\n",
    "print(tuple1[2:5])"
   ]
  },
  {
   "cell_type": "code",
   "execution_count": 17,
   "id": "884306fa",
   "metadata": {},
   "outputs": [
    {
     "name": "stdout",
     "output_type": "stream",
     "text": [
      "('apple', 'orange', 'cherry', 'pineapple')\n"
     ]
    }
   ],
   "source": [
    "tuple1 = (\"apple\",\"orange\",\"cherry\",\"pineapple\",\"mango\",\"kiwi\")\n",
    "print(tuple1[:4])"
   ]
  },
  {
   "cell_type": "code",
   "execution_count": 18,
   "id": "871511b4",
   "metadata": {},
   "outputs": [
    {
     "name": "stdout",
     "output_type": "stream",
     "text": [
      "('cherry', 'pineapple', 'mango', 'kiwi')\n"
     ]
    }
   ],
   "source": [
    "tuple1 = (\"apple\",\"orange\",\"cherry\",\"pineapple\",\"mango\",\"kiwi\")\n",
    "print(tuple1[2:])"
   ]
  },
  {
   "cell_type": "markdown",
   "id": "73c260ef",
   "metadata": {},
   "source": [
    "# Range of negative indexes"
   ]
  },
  {
   "cell_type": "code",
   "execution_count": 19,
   "id": "28b98486",
   "metadata": {},
   "outputs": [
    {
     "name": "stdout",
     "output_type": "stream",
     "text": [
      "('cherry', 'pineapple', 'mango')\n"
     ]
    }
   ],
   "source": [
    "tuple1 = (\"apple\",\"orange\",\"cherry\",\"pineapple\",\"mango\",\"kiwi\")\n",
    "print(tuple1[-4:-1])"
   ]
  },
  {
   "cell_type": "markdown",
   "id": "e4074bfa",
   "metadata": {},
   "source": [
    "# Check if Item Exists\n",
    "\n",
    "To determine if a specified item is present in a tuple use the in keyword"
   ]
  },
  {
   "cell_type": "code",
   "execution_count": 21,
   "id": "24f33f5d",
   "metadata": {},
   "outputs": [
    {
     "name": "stdout",
     "output_type": "stream",
     "text": [
      "Yes!,'apple' is in tuple1\n"
     ]
    }
   ],
   "source": [
    "# Check if apple is present in the tuple \n",
    "\n",
    "tuple1 = (\"apple\",\"orange\",\"cherry\",\"pineapple\",\"mango\",\"kiwi\")\n",
    "if \"apple\" in tuple1:\n",
    "    print(\"Yes!,'apple' is in tuple1\")\n"
   ]
  },
  {
   "cell_type": "markdown",
   "id": "e8269b0b",
   "metadata": {},
   "source": [
    "# Update Tuples \n",
    "\n",
    "Tuples are unchangeable, meaning that you cannot change, add, or remove items once the tuple is created. But there are some work arounds. We can covert a tuple into a list, change the list, and covert the list back into a tuple."
   ]
  },
  {
   "cell_type": "code",
   "execution_count": 22,
   "id": "c27f52f9",
   "metadata": {},
   "outputs": [
    {
     "name": "stdout",
     "output_type": "stream",
     "text": [
      "('apple', 'kiwi', 'cherry')\n"
     ]
    }
   ],
   "source": [
    "#Convert the tuple into a list to be able to change it \n",
    "\n",
    "x = (\"apple\",\"orange\",\"cherry\")\n",
    "y = list(x)\n",
    "\n",
    "y[1] = \"kiwi\"\n",
    "x = tuple(y)\n",
    "print (x)"
   ]
  },
  {
   "cell_type": "markdown",
   "id": "d863ad43",
   "metadata": {},
   "source": [
    "# Add to a Tuple "
   ]
  },
  {
   "cell_type": "code",
   "execution_count": 23,
   "id": "7544cb19",
   "metadata": {},
   "outputs": [
    {
     "name": "stdout",
     "output_type": "stream",
     "text": [
      "('apple', 'banana', 'cherry', 'orange')\n"
     ]
    }
   ],
   "source": [
    "#Convert the tuple into a list, add orange and convert it back into a tuple \n",
    "\n",
    "x = (\"apple\",\"banana\",\"cherry\")\n",
    "y = list(x)\n",
    "\n",
    "y.append(\"orange\")\n",
    "x = tuple(y)\n",
    "\n",
    "print(x)"
   ]
  },
  {
   "cell_type": "markdown",
   "id": "e1bdb6b1",
   "metadata": {},
   "source": [
    "# Add tuple to a tuple "
   ]
  },
  {
   "cell_type": "code",
   "execution_count": 24,
   "id": "981f0adf",
   "metadata": {},
   "outputs": [
    {
     "name": "stdout",
     "output_type": "stream",
     "text": [
      "('apple', 'banana', 'cherry', 'orange')\n"
     ]
    }
   ],
   "source": [
    "#Create a new tuple with the value orange and add the tuple \n",
    "\n",
    "\n",
    "x = (\"apple\",\"banana\",\"cherry\")\n",
    "y = (\"orange\",)\n",
    "\n",
    "x += y \n",
    "\n",
    "print(x)\n"
   ]
  },
  {
   "cell_type": "markdown",
   "id": "34f4612a",
   "metadata": {},
   "source": [
    "# Remove items \n",
    "\n",
    "You cannot remove items from a tuple but you can use the same workaround as for changing and adding tuple."
   ]
  },
  {
   "cell_type": "code",
   "execution_count": 25,
   "id": "10519310",
   "metadata": {},
   "outputs": [
    {
     "name": "stdout",
     "output_type": "stream",
     "text": [
      "('banana', 'cherry')\n"
     ]
    }
   ],
   "source": [
    "#Convert the tuple into a list , remove \"apple\" and convert it back into a tuple \n",
    "\n",
    "x = (\"apple\",\"banana\",\"cherry\")\n",
    "y = list(x)\n",
    "\n",
    "y.remove(\"apple\")\n",
    "x = tuple(y)\n",
    "\n",
    "print(x)\n"
   ]
  },
  {
   "cell_type": "code",
   "execution_count": 27,
   "id": "2efbb17b",
   "metadata": {},
   "outputs": [
    {
     "ename": "NameError",
     "evalue": "name 'x' is not defined",
     "output_type": "error",
     "traceback": [
      "\u001b[0;31m---------------------------------------------------------------------------\u001b[0m",
      "\u001b[0;31mNameError\u001b[0m                                 Traceback (most recent call last)",
      "\u001b[0;32m<ipython-input-27-a37d78dfde5c>\u001b[0m in \u001b[0;36m<module>\u001b[0;34m\u001b[0m\n\u001b[1;32m      3\u001b[0m \u001b[0mx\u001b[0m \u001b[0;34m=\u001b[0m \u001b[0;34m(\u001b[0m\u001b[0;34m\"apple\"\u001b[0m\u001b[0;34m,\u001b[0m\u001b[0;34m\"banana\"\u001b[0m\u001b[0;34m,\u001b[0m\u001b[0;34m\"cherry\"\u001b[0m\u001b[0;34m)\u001b[0m\u001b[0;34m\u001b[0m\u001b[0;34m\u001b[0m\u001b[0m\n\u001b[1;32m      4\u001b[0m \u001b[0;32mdel\u001b[0m \u001b[0mx\u001b[0m\u001b[0;34m\u001b[0m\u001b[0;34m\u001b[0m\u001b[0m\n\u001b[0;32m----> 5\u001b[0;31m \u001b[0mprint\u001b[0m\u001b[0;34m(\u001b[0m\u001b[0mx\u001b[0m\u001b[0;34m)\u001b[0m\u001b[0;34m\u001b[0m\u001b[0;34m\u001b[0m\u001b[0m\n\u001b[0m\u001b[1;32m      6\u001b[0m \u001b[0;34m\u001b[0m\u001b[0m\n\u001b[1;32m      7\u001b[0m \u001b[0;31m#it will create an error as the tuple doesnt exsist anymore.\u001b[0m\u001b[0;34m\u001b[0m\u001b[0;34m\u001b[0m\u001b[0;34m\u001b[0m\u001b[0m\n",
      "\u001b[0;31mNameError\u001b[0m: name 'x' is not defined"
     ]
    }
   ],
   "source": [
    "# Delete the tuple using del \n",
    "\n",
    "x = (\"apple\",\"banana\",\"cherry\")\n",
    "del x \n",
    "print(x)\n",
    "\n",
    "#it will create an error as the tuple doesnt exsist anymore."
   ]
  },
  {
   "cell_type": "markdown",
   "id": "1e02953e",
   "metadata": {},
   "source": [
    "# Unpack Tuples \n",
    "\n",
    "When we create tuple, we assign values to it. This is called \"packing\" a tuple. But in python we are also allowed to extract the values back into variables. This is called unpacking."
   ]
  },
  {
   "cell_type": "code",
   "execution_count": 28,
   "id": "d435012f",
   "metadata": {},
   "outputs": [
    {
     "name": "stdout",
     "output_type": "stream",
     "text": [
      "apple\n",
      "banana\n",
      "cherry\n"
     ]
    }
   ],
   "source": [
    "fruits = (\"apple\",\"banana\",\"cherry\")\n",
    "\n",
    "(green, yellow, red) = fruits\n",
    "\n",
    "print(green)\n",
    "print(yellow)\n",
    "print(red)"
   ]
  },
  {
   "cell_type": "markdown",
   "id": "22be04dd",
   "metadata": {},
   "source": [
    "# Using Asterisk*\n",
    "\n",
    "If the number of variables is less than the number of values, you can add an * to the variable name and the values will be assigned to the variable as a list."
   ]
  },
  {
   "cell_type": "code",
   "execution_count": 29,
   "id": "ff1a041d",
   "metadata": {},
   "outputs": [
    {
     "name": "stdout",
     "output_type": "stream",
     "text": [
      "apple\n",
      "banana\n",
      "['cherry', 'strawberry', 'raspberry']\n"
     ]
    }
   ],
   "source": [
    "#Assign the rest of the values as a list called \"red\"\n",
    "\n",
    "fruits = (\"apple\",\"banana\",\"cherry\",\"strawberry\",\"raspberry\")\n",
    "\n",
    "(green, yellow, *red) = fruits\n",
    "\n",
    "print(green)\n",
    "print(yellow)\n",
    "print(red)\n"
   ]
  },
  {
   "cell_type": "code",
   "execution_count": 30,
   "id": "8b05b165",
   "metadata": {},
   "outputs": [
    {
     "name": "stdout",
     "output_type": "stream",
     "text": [
      "apple\n",
      "['banana', 'cherry', 'strawberry']\n",
      "raspberry\n"
     ]
    }
   ],
   "source": [
    "fruits = (\"apple\",\"banana\",\"cherry\",\"strawberry\",\"raspberry\")\n",
    "\n",
    "(green, *yellow, red) = fruits\n",
    "\n",
    "print(green)\n",
    "print(yellow)\n",
    "print(red)\n"
   ]
  },
  {
   "cell_type": "markdown",
   "id": "97e6a8fb",
   "metadata": {},
   "source": [
    "# Loop through a Tuple \n",
    "\n"
   ]
  },
  {
   "cell_type": "code",
   "execution_count": 31,
   "id": "6bf3ca1d",
   "metadata": {},
   "outputs": [
    {
     "name": "stdout",
     "output_type": "stream",
     "text": [
      "apple\n",
      "banana\n",
      "cherry\n",
      "strawberry\n",
      "raspberry\n"
     ]
    }
   ],
   "source": [
    "#Iterate through the items and print the values \n",
    "\n",
    "fruits = (\"apple\",\"banana\",\"cherry\",\"strawberry\",\"raspberry\")\n",
    "\n",
    "for x in fruits:\n",
    "    print(x)"
   ]
  },
  {
   "cell_type": "markdown",
   "id": "f8a3fc0b",
   "metadata": {},
   "source": [
    "# Loop Through the index numbers \n",
    "\n",
    "You can also loop through the tuple items by referring to their index numbers.\n",
    "We will use range () and len () functions to create a suitable iterable."
   ]
  },
  {
   "cell_type": "code",
   "execution_count": 33,
   "id": "6fb3a507",
   "metadata": {},
   "outputs": [
    {
     "name": "stdout",
     "output_type": "stream",
     "text": [
      "apple\n",
      "banana\n",
      "cherry\n",
      "strawberry\n",
      "raspberry\n"
     ]
    }
   ],
   "source": [
    "#Print all items by referring to their index numbers \n",
    "\n",
    "fruits = (\"apple\",\"banana\",\"cherry\",\"strawberry\",\"raspberry\")\n",
    "for i in range(len(fruits)):\n",
    "    print(fruits[i])"
   ]
  },
  {
   "cell_type": "markdown",
   "id": "c62b4519",
   "metadata": {},
   "source": [
    "# Using While loop \n",
    "\n",
    "We can also loop through a tuple items by using a while loop.\n",
    "Use the len() function to determine the length of tuple. Start at 0 and start the index by 1 after each iteration.\n"
   ]
  },
  {
   "cell_type": "code",
   "execution_count": 34,
   "id": "f15e6060",
   "metadata": {},
   "outputs": [
    {
     "name": "stdout",
     "output_type": "stream",
     "text": [
      "apple\n",
      "banana\n",
      "cherry\n",
      "strawberry\n",
      "raspberry\n"
     ]
    }
   ],
   "source": [
    "#Print all the items, using a while loop to go through all the index numbers\n",
    "\n",
    "fruits = (\"apple\",\"banana\",\"cherry\",\"strawberry\",\"raspberry\")\n",
    "\n",
    "i = 0 \n",
    "while i < len(fruits):\n",
    "    print(fruits[i])\n",
    "    i = i + 1"
   ]
  },
  {
   "cell_type": "markdown",
   "id": "c8fa6c7d",
   "metadata": {},
   "source": [
    "# Join Tuples \n",
    "\n",
    "To join two or more tuples you can use the + operator."
   ]
  },
  {
   "cell_type": "code",
   "execution_count": 35,
   "id": "ac61437d",
   "metadata": {},
   "outputs": [
    {
     "name": "stdout",
     "output_type": "stream",
     "text": [
      "(1, 2, 3, 4, 5, 'a', 'b', 'c', 'd')\n"
     ]
    }
   ],
   "source": [
    "tup1 = (1,2,3,4,5)\n",
    "tup2 = (\"a\",\"b\",\"c\",\"d\")\n",
    "\n",
    "tup3 = tup1 + tup2\n",
    "\n",
    "print(tup3)"
   ]
  },
  {
   "cell_type": "markdown",
   "id": "b0aa8c60",
   "metadata": {},
   "source": [
    "# Multiply Tuple \n",
    "\n",
    "If you want to multiply the content of a tuple a given number of times, we can use the * operator. "
   ]
  },
  {
   "cell_type": "code",
   "execution_count": 36,
   "id": "92cf21e7",
   "metadata": {},
   "outputs": [
    {
     "name": "stdout",
     "output_type": "stream",
     "text": [
      "('apple', 'banana', 'cherry', 'strawberry', 'raspberry', 'apple', 'banana', 'cherry', 'strawberry', 'raspberry')\n"
     ]
    }
   ],
   "source": [
    "#Multiply the tuple with 2 \n",
    "\n",
    "fruits = (\"apple\",\"banana\",\"cherry\",\"strawberry\",\"raspberry\")\n",
    "x = fruits * 2\n",
    "print(x)"
   ]
  },
  {
   "cell_type": "markdown",
   "id": "3a63c6f4",
   "metadata": {},
   "source": [
    "# Tuple Methods \n",
    "\n",
    "Python has two in built methods that you can use on tuples.\n",
    "\n",
    "**count( )** : Returns the number of times a specified value occurs in a tuple \n",
    "\n",
    "**index**    : Searches the tuple for a specified value and returns the position of where it was found."
   ]
  },
  {
   "cell_type": "code",
   "execution_count": 37,
   "id": "948d0e3f",
   "metadata": {},
   "outputs": [
    {
     "name": "stdout",
     "output_type": "stream",
     "text": [
      "2\n"
     ]
    }
   ],
   "source": [
    "# Count \n",
    "\n",
    "fruits = (\"apple\",\"banana\",\"cherry\",\"strawberry\",\"raspberry\",\"cherry\",\"strawberry\",\"raspberry\")\n",
    "x = fruits.count(\"cherry\")\n",
    "\n",
    "print(x)\n",
    "\n",
    "# Value id required for the parameter.\n"
   ]
  },
  {
   "cell_type": "code",
   "execution_count": 38,
   "id": "ae98ec9b",
   "metadata": {},
   "outputs": [
    {
     "name": "stdout",
     "output_type": "stream",
     "text": [
      "4\n"
     ]
    }
   ],
   "source": [
    "#Index\n",
    "#Search the first occurence of 8 in this tuple \n",
    "\n",
    "tup = (1,2,5,3,8,5,1,8,9,0,2)\n",
    "x = tup.index(8)\n",
    "print(x)\n",
    "#it finds the first occurrence of the specified value. A value is required for the paramenter to search for "
   ]
  },
  {
   "cell_type": "code",
   "execution_count": 39,
   "id": "f884b4ea",
   "metadata": {},
   "outputs": [
    {
     "name": "stdout",
     "output_type": "stream",
     "text": [
      "apple\n"
     ]
    }
   ],
   "source": [
    "#Exercises\n",
    "\n",
    "#Use the correct syntax to print the first item in the fruits tuple \n",
    "\n",
    "fruits = (\"apple\",\"banana\",\"cherry\",\"strawberry\",\"raspberry\")\n",
    "print(fruits[0])"
   ]
  },
  {
   "cell_type": "code",
   "execution_count": 40,
   "id": "db321650",
   "metadata": {},
   "outputs": [
    {
     "name": "stdout",
     "output_type": "stream",
     "text": [
      "5\n"
     ]
    }
   ],
   "source": [
    "#Use the correct syntax to print the number of items in the tuple \n",
    "\n",
    "fruits = (\"apple\",\"banana\",\"cherry\",\"strawberry\",\"raspberry\")\n",
    "print(len(fruits))"
   ]
  },
  {
   "cell_type": "code",
   "execution_count": 41,
   "id": "15399b0f",
   "metadata": {},
   "outputs": [
    {
     "name": "stdout",
     "output_type": "stream",
     "text": [
      "raspberry\n"
     ]
    }
   ],
   "source": [
    "#Use negative indexing to print the last item in the tuple \n",
    "\n",
    "fruits = (\"apple\",\"banana\",\"cherry\",\"strawberry\",\"raspberry\")\n",
    "print (fruits[-1])"
   ]
  },
  {
   "cell_type": "code",
   "execution_count": 42,
   "id": "70feaf62",
   "metadata": {},
   "outputs": [
    {
     "name": "stdout",
     "output_type": "stream",
     "text": [
      "('cherry', 'strawberry', 'raspberry')\n"
     ]
    }
   ],
   "source": [
    "#Use a range of indexes to print the third, fourth and fifth item in the tuple \n",
    "fruits = (\"apple\",\"banana\",\"cherry\",\"strawberry\",\"raspberry\",\"cherry\",\"strawberry\")\n",
    "print(fruits[2:5])"
   ]
  },
  {
   "cell_type": "code",
   "execution_count": null,
   "id": "dc662126",
   "metadata": {},
   "outputs": [],
   "source": []
  }
 ],
 "metadata": {
  "kernelspec": {
   "display_name": "Python 3",
   "language": "python",
   "name": "python3"
  },
  "language_info": {
   "codemirror_mode": {
    "name": "ipython",
    "version": 3
   },
   "file_extension": ".py",
   "mimetype": "text/x-python",
   "name": "python",
   "nbconvert_exporter": "python",
   "pygments_lexer": "ipython3",
   "version": "3.6.13"
  }
 },
 "nbformat": 4,
 "nbformat_minor": 5
}
