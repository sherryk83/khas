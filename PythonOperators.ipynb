{
 "cells": [
  {
   "cell_type": "markdown",
   "id": "c1d748f6",
   "metadata": {},
   "source": [
    "# Python Operators\n",
    "\n",
    "Operators are used to perform operations on variables and values. Python divides the operators in the following groups:\n",
    "\n",
    "Arithmetic \n",
    "\n",
    "Assignment \n",
    "\n",
    "Comparison \n",
    "\n",
    "Logical \n",
    "\n",
    "Identity \n",
    "\n",
    "Membership\n",
    "\n",
    "Bitwise\n"
   ]
  },
  {
   "cell_type": "markdown",
   "id": "d81ec654",
   "metadata": {},
   "source": [
    "# Arithmetic Operators \n",
    "\n",
    "These are used with numeric values to perform common mathematical operations.\n"
   ]
  },
  {
   "cell_type": "code",
   "execution_count": 2,
   "id": "078a9bbe",
   "metadata": {},
   "outputs": [
    {
     "data": {
      "text/plain": [
       "25"
      ]
     },
     "execution_count": 2,
     "metadata": {},
     "output_type": "execute_result"
    }
   ],
   "source": [
    "# Addition \n",
    "\n",
    "x = 20\n",
    "y = 5\n",
    "\n",
    "x + y "
   ]
  },
  {
   "cell_type": "code",
   "execution_count": 3,
   "id": "a45549bc",
   "metadata": {},
   "outputs": [
    {
     "data": {
      "text/plain": [
       "15"
      ]
     },
     "execution_count": 3,
     "metadata": {},
     "output_type": "execute_result"
    }
   ],
   "source": [
    "# Subtraction \n",
    "\n",
    "x - y "
   ]
  },
  {
   "cell_type": "code",
   "execution_count": 4,
   "id": "86e08aab",
   "metadata": {},
   "outputs": [
    {
     "data": {
      "text/plain": [
       "100"
      ]
     },
     "execution_count": 4,
     "metadata": {},
     "output_type": "execute_result"
    }
   ],
   "source": [
    "# Multiplication \n",
    "\n",
    "x * y"
   ]
  },
  {
   "cell_type": "code",
   "execution_count": 5,
   "id": "dfbb6214",
   "metadata": {},
   "outputs": [
    {
     "data": {
      "text/plain": [
       "4.0"
      ]
     },
     "execution_count": 5,
     "metadata": {},
     "output_type": "execute_result"
    }
   ],
   "source": [
    "# Division \n",
    "\n",
    "x / y "
   ]
  },
  {
   "cell_type": "code",
   "execution_count": 6,
   "id": "29b1c39d",
   "metadata": {},
   "outputs": [
    {
     "data": {
      "text/plain": [
       "0"
      ]
     },
     "execution_count": 6,
     "metadata": {},
     "output_type": "execute_result"
    }
   ],
   "source": [
    "# Modulus \n",
    "\n",
    "x % y"
   ]
  },
  {
   "cell_type": "code",
   "execution_count": 7,
   "id": "b142b046",
   "metadata": {},
   "outputs": [
    {
     "data": {
      "text/plain": [
       "3200000"
      ]
     },
     "execution_count": 7,
     "metadata": {},
     "output_type": "execute_result"
    }
   ],
   "source": [
    "# Exponentiation \n",
    "\n",
    "x ** y "
   ]
  },
  {
   "cell_type": "code",
   "execution_count": 8,
   "id": "4c60dde9",
   "metadata": {},
   "outputs": [
    {
     "data": {
      "text/plain": [
       "4"
      ]
     },
     "execution_count": 8,
     "metadata": {},
     "output_type": "execute_result"
    }
   ],
   "source": [
    "# Floor Division \n",
    "\n",
    "x // y"
   ]
  },
  {
   "cell_type": "markdown",
   "id": "bf731c51",
   "metadata": {},
   "source": [
    "# Python Assignment Operators \n",
    "\n",
    "These are used to assign values to variables :"
   ]
  },
  {
   "cell_type": "code",
   "execution_count": null,
   "id": "10fd8069",
   "metadata": {},
   "outputs": [],
   "source": [
    "x = 5          # x is equal to 5 \n",
    "x += 3         # x = x + 3 \n",
    "x -= 3         # x = x - 3 \n",
    "x *= 3         # x = x * 3 \n",
    "x /= 3         # x = x/3 \n",
    "x %= 3         # x = x % 3\n",
    "x //= 3        # x = x // 3 \n",
    "x **= 3        # x = x ** 3 \n",
    "x &= 3         # x = x & 3 \n",
    "x |= 3         # x = x | 3 \n",
    "x ^= 3         # x = x ^ 3 \n",
    "x >>= 3        # x >> 3 \n",
    "x <<= 3        # x << 3 "
   ]
  },
  {
   "cell_type": "markdown",
   "id": "6cba8f54",
   "metadata": {},
   "source": [
    "# Comparison Operators \n",
    "\n",
    "These are used to compare two values:"
   ]
  },
  {
   "cell_type": "code",
   "execution_count": null,
   "id": "d9cc4a5a",
   "metadata": {},
   "outputs": [],
   "source": [
    "# Equal \n",
    "\n",
    "x == y \n",
    "\n",
    "# Not Equal \n",
    "\n",
    "x != y \n",
    "\n",
    "# Greater than \n",
    "\n",
    "x > y \n",
    "\n",
    "# less than \n",
    "\n",
    "x < y \n",
    "\n",
    "# Greater than or equal to \n",
    "\n",
    "x >= y \n",
    "\n",
    "# Less than or equal to \n",
    "\n",
    "x <= y "
   ]
  },
  {
   "cell_type": "markdown",
   "id": "c767cbfa",
   "metadata": {},
   "source": [
    "# Logical Operators \n",
    "\n",
    "These are used to combine conditional statements \n"
   ]
  },
  {
   "cell_type": "code",
   "execution_count": 9,
   "id": "fdc6cbdb",
   "metadata": {},
   "outputs": [
    {
     "data": {
      "text/plain": [
       "True"
      ]
     },
     "execution_count": 9,
     "metadata": {},
     "output_type": "execute_result"
    }
   ],
   "source": [
    "x = 2\n",
    "\n",
    "# and \n",
    "\n",
    "x < 5 and x < 10    # Returns True if both statements are true "
   ]
  },
  {
   "cell_type": "code",
   "execution_count": 10,
   "id": "e2e83d46",
   "metadata": {},
   "outputs": [
    {
     "data": {
      "text/plain": [
       "True"
      ]
     },
     "execution_count": 10,
     "metadata": {},
     "output_type": "execute_result"
    }
   ],
   "source": [
    "# or \n",
    "\n",
    "x < 5 or x < 4   # Returns True if one of the statement is true "
   ]
  },
  {
   "cell_type": "code",
   "execution_count": 11,
   "id": "5f8dd86d",
   "metadata": {},
   "outputs": [
    {
     "data": {
      "text/plain": [
       "False"
      ]
     },
     "execution_count": 11,
     "metadata": {},
     "output_type": "execute_result"
    }
   ],
   "source": [
    "# not \n",
    "\n",
    "not(x < 5 and x < 10 )  # Reverse the result, returns False if the result is true "
   ]
  },
  {
   "cell_type": "markdown",
   "id": "d526662e",
   "metadata": {},
   "source": [
    "# Identity Operators \n",
    "\n",
    "These are used to compare the objects, not if they are equal, but if they are actually the same object, with the same memory location "
   ]
  },
  {
   "cell_type": "code",
   "execution_count": 12,
   "id": "f6212f9b",
   "metadata": {},
   "outputs": [
    {
     "data": {
      "text/plain": [
       "True"
      ]
     },
     "execution_count": 12,
     "metadata": {},
     "output_type": "execute_result"
    }
   ],
   "source": [
    "x = y = 2 \n",
    "\n",
    "x is y     # Returns True if both variables are the same objects "
   ]
  },
  {
   "cell_type": "code",
   "execution_count": 13,
   "id": "d1d25bf8",
   "metadata": {},
   "outputs": [
    {
     "data": {
      "text/plain": [
       "False"
      ]
     },
     "execution_count": 13,
     "metadata": {},
     "output_type": "execute_result"
    }
   ],
   "source": [
    "x is not y   # Returns True if both variables are not the same object "
   ]
  },
  {
   "cell_type": "markdown",
   "id": "1898b77b",
   "metadata": {},
   "source": [
    "# Membership Operators \n",
    "\n",
    "These are used to test is a sequence is presented in an object:\n"
   ]
  },
  {
   "cell_type": "code",
   "execution_count": 14,
   "id": "f2035bc8",
   "metadata": {},
   "outputs": [
    {
     "data": {
      "text/plain": [
       "True"
      ]
     },
     "execution_count": 14,
     "metadata": {},
     "output_type": "execute_result"
    }
   ],
   "source": [
    "x = 2 \n",
    "\n",
    "y = (3,2)\n",
    "\n",
    "# returns True if a sequence with the specified value is present in the object \n",
    "\n",
    "x in y "
   ]
  },
  {
   "cell_type": "code",
   "execution_count": 15,
   "id": "183f1548",
   "metadata": {},
   "outputs": [
    {
     "data": {
      "text/plain": [
       "True"
      ]
     },
     "execution_count": 15,
     "metadata": {},
     "output_type": "execute_result"
    }
   ],
   "source": [
    "x = 2\n",
    "y = (4,5)\n",
    "\n",
    "# returns True if a sequence with the specified value is not present in the object \n",
    "\n",
    "x not in y "
   ]
  },
  {
   "cell_type": "markdown",
   "id": "31624d33",
   "metadata": {},
   "source": [
    "# Bitwise Operators \n",
    "\n",
    "These are used to compare binary numbers:\n",
    "\n",
    "(&) AND: Sets eact bit to 1 if both bits are 1 \n",
    "\n",
    "(|) OR: Sets each bit to 1 if one of the two bits is 1 \n",
    "\n",
    "(^) XOR: Sets each bit to 1 if only one of the two bits is 1 \n",
    "\n",
    "(~) NOT: Inverts all the bits \n",
    "\n",
    "(<<) Zero fill: Shift left by pushing zeros in from the right and let the leftmost bits fall off\n",
    "\n",
    "(>>) Right fill: Shift right by pushing copies of the leftmost bit in from the left, and let the rightmost bits fall off"
   ]
  },
  {
   "cell_type": "code",
   "execution_count": null,
   "id": "fb859cce",
   "metadata": {},
   "outputs": [],
   "source": []
  }
 ],
 "metadata": {
  "kernelspec": {
   "display_name": "Python 3",
   "language": "python",
   "name": "python3"
  },
  "language_info": {
   "codemirror_mode": {
    "name": "ipython",
    "version": 3
   },
   "file_extension": ".py",
   "mimetype": "text/x-python",
   "name": "python",
   "nbconvert_exporter": "python",
   "pygments_lexer": "ipython3",
   "version": "3.6.13"
  }
 },
 "nbformat": 4,
 "nbformat_minor": 5
}
