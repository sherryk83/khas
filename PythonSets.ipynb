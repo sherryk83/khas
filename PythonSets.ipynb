{
 "cells": [
  {
   "cell_type": "markdown",
   "id": "38662b6d",
   "metadata": {},
   "source": [
    "# Set\n",
    "\n",
    "Sets are used to store multiple items in a single variable. It is a set of collection which is unordered, unchangeable(but we can add and remove items) and unindexed.They also dont allow duplicates. Sets are written by curly brackets.\n",
    "\n",
    "**Unordered** : The items in a set do not have a defined order. They can appear in a different order everytime we use and cant be referred to by index or key.\n",
    "\n",
    "**Unchangeable** : It means that we cannot change the items after the set has been created, but we add and remove.\n",
    "\n",
    "**Duplicates not allowed** : Sets cannot have two items with the same value.\n"
   ]
  },
  {
   "cell_type": "code",
   "execution_count": 1,
   "id": "3651addb",
   "metadata": {},
   "outputs": [
    {
     "name": "stdout",
     "output_type": "stream",
     "text": [
      "{'apple', 'banana', 'cherry'}\n"
     ]
    }
   ],
   "source": [
    "myset ={\"apple\",\"banana\",\"cherry\"}\n",
    "print(myset)\n",
    "\n",
    "# Sets are unordered so you cant be sure how they will appear."
   ]
  },
  {
   "cell_type": "code",
   "execution_count": 2,
   "id": "7d7a0f91",
   "metadata": {},
   "outputs": [
    {
     "name": "stdout",
     "output_type": "stream",
     "text": [
      "{'apple', 'banana', 'cherry'}\n"
     ]
    }
   ],
   "source": [
    "#Duplicates will be ignored\n",
    "\n",
    "myset ={\"apple\",\"banana\",\"cherry\",\"apple\",\"banana\",\"cherry\"}\n",
    "print(myset)"
   ]
  },
  {
   "cell_type": "markdown",
   "id": "29cb1a57",
   "metadata": {},
   "source": [
    "# Get the length of a set \n",
    "\n",
    "We will use len() method to determine how many items are there in a set."
   ]
  },
  {
   "cell_type": "code",
   "execution_count": 3,
   "id": "3c7d271d",
   "metadata": {},
   "outputs": [
    {
     "name": "stdout",
     "output_type": "stream",
     "text": [
      "3\n"
     ]
    }
   ],
   "source": [
    "myset ={\"apple\",\"banana\",\"cherry\"}\n",
    "print(len(myset))"
   ]
  },
  {
   "cell_type": "markdown",
   "id": "f6ba316f",
   "metadata": {},
   "source": [
    "# Data Types \n",
    "\n",
    "Sets can be of Strings, integer or boolean data types."
   ]
  },
  {
   "cell_type": "code",
   "execution_count": 4,
   "id": "c3f7eb1b",
   "metadata": {},
   "outputs": [
    {
     "name": "stdout",
     "output_type": "stream",
     "text": [
      "{'apple', 'banana', 'cherry'}\n",
      "{1, 2, 3, 4, 5, 6}\n",
      "{False, True}\n"
     ]
    }
   ],
   "source": [
    "myset1 = {\"apple\",\"banana\",\"cherry\"}\n",
    "myset2 = {1,2,3,4,5,6}\n",
    "myset3 = {True, False, True}\n",
    "\n",
    "print(myset1)\n",
    "print(myset2)\n",
    "print(myset3)"
   ]
  },
  {
   "cell_type": "markdown",
   "id": "7956b121",
   "metadata": {},
   "source": [
    "# Type ( )\n",
    "\n",
    "In Python, the sets are defined as objects with the data type \"set\"\n",
    "\n",
    "<<class 'set'>>"
   ]
  },
  {
   "cell_type": "code",
   "execution_count": 5,
   "id": "d9883c10",
   "metadata": {},
   "outputs": [
    {
     "name": "stdout",
     "output_type": "stream",
     "text": [
      "<class 'set'>\n",
      "<class 'set'>\n",
      "<class 'set'>\n"
     ]
    }
   ],
   "source": [
    "# Data type \n",
    "myset1 = {\"apple\",\"banana\",\"cherry\"}\n",
    "myset2 = {1,2,3,4,5,6}\n",
    "myset3 = {True, False, True}\n",
    "\n",
    "print(type(myset1))\n",
    "print(type(myset2))\n",
    "print(type(myset3))"
   ]
  },
  {
   "cell_type": "markdown",
   "id": "c7d174ab",
   "metadata": {},
   "source": [
    "# The set( ) Constructor\n",
    "\n",
    "It is also possible to use the set() constructor to make a set."
   ]
  },
  {
   "cell_type": "code",
   "execution_count": null,
   "id": "da7be45f",
   "metadata": {},
   "outputs": [],
   "source": [
    "myset =set((\"apple\",\"banana\",\"cherry\")) #using two round brackets\n",
    "print((myset))"
   ]
  },
  {
   "cell_type": "markdown",
   "id": "8c45cf92",
   "metadata": {},
   "source": [
    "# Access Set Items \n",
    "\n",
    "You cannot access items in a set by referring to an index or a key. But we can loop through the set items using for loop or ask if a specified value is present in a set, by using the in keyword."
   ]
  },
  {
   "cell_type": "code",
   "execution_count": 7,
   "id": "d1565077",
   "metadata": {},
   "outputs": [
    {
     "name": "stdout",
     "output_type": "stream",
     "text": [
      "apple\n",
      "banana\n",
      "cherry\n"
     ]
    }
   ],
   "source": [
    "# Loop through the set, and print the values\n",
    "\n",
    "myset ={\"apple\",\"banana\",\"cherry\"}\n",
    "\n",
    "for x in myset:\n",
    "    print(x)\n"
   ]
  },
  {
   "cell_type": "code",
   "execution_count": 9,
   "id": "5b00cdcd",
   "metadata": {},
   "outputs": [
    {
     "name": "stdout",
     "output_type": "stream",
     "text": [
      "True\n"
     ]
    }
   ],
   "source": [
    "#Check if \"banana\" is present in the set\n",
    "\n",
    "myset ={\"apple\",\"banana\",\"cherry\"}\n",
    "print(\"banana\" in myset)"
   ]
  },
  {
   "cell_type": "markdown",
   "id": "9350e2db",
   "metadata": {},
   "source": [
    "# Add Items \n",
    "\n",
    "Once a set is created, you cannot change it but we can add items to it."
   ]
  },
  {
   "cell_type": "code",
   "execution_count": 10,
   "id": "d7ab55a8",
   "metadata": {},
   "outputs": [
    {
     "name": "stdout",
     "output_type": "stream",
     "text": [
      "{'apple', 'orange', 'banana', 'cherry'}\n"
     ]
    }
   ],
   "source": [
    "#To add one item to a set \n",
    "\n",
    "myset ={\"apple\",\"banana\",\"cherry\"}\n",
    "myset.add(\"orange\")\n",
    "print(myset)"
   ]
  },
  {
   "cell_type": "markdown",
   "id": "839b9dcd",
   "metadata": {},
   "source": [
    "# Add Sets \n",
    "\n",
    "To add items from another set into the current set, use the update () method."
   ]
  },
  {
   "cell_type": "code",
   "execution_count": 12,
   "id": "91cb4e32",
   "metadata": {},
   "outputs": [
    {
     "name": "stdout",
     "output_type": "stream",
     "text": [
      "{'papaya', 'pineapple', 'mango', 'banana', 'cherry', 'apple'}\n"
     ]
    }
   ],
   "source": [
    "#Add elements from tropical to myset\n",
    "\n",
    "myset ={\"apple\",\"banana\",\"cherry\"}\n",
    "tropical = {\"pineapple\",\"mango\",\"papaya\"}\n",
    "\n",
    "myset.update(tropical)\n",
    "\n",
    "print(myset)"
   ]
  },
  {
   "cell_type": "markdown",
   "id": "39a92c23",
   "metadata": {},
   "source": [
    "# Add any iterable \n",
    "\n",
    "The object in the update () method doesnot have to be a set, it can be any iterable object like tuples, lists, disctonaries etc"
   ]
  },
  {
   "cell_type": "code",
   "execution_count": 13,
   "id": "aa058e62",
   "metadata": {},
   "outputs": [
    {
     "name": "stdout",
     "output_type": "stream",
     "text": [
      "{'banana', 'cherry', 'kiwi', 'orange', 'apple'}\n"
     ]
    }
   ],
   "source": [
    "#Add elements of a list to a set \n",
    "\n",
    "\n",
    "myset = {\"apple\",\"banana\",\"cherry\"}\n",
    "mylist = [\"kiwi\",\"orange\"]\n",
    "myset.update(mylist)\n",
    "print(myset)\n"
   ]
  },
  {
   "cell_type": "markdown",
   "id": "19943ed3",
   "metadata": {},
   "source": [
    "# Remove Item\n",
    "\n",
    "To remove an item in a set, use the remove() or the discard() method."
   ]
  },
  {
   "cell_type": "code",
   "execution_count": 14,
   "id": "3e2e3e0b",
   "metadata": {},
   "outputs": [
    {
     "name": "stdout",
     "output_type": "stream",
     "text": [
      "{'apple', 'cherry'}\n"
     ]
    }
   ],
   "source": [
    "#Remove \"banana\" by using remove \n",
    "\n",
    "myset ={\"apple\",\"banana\",\"cherry\"}\n",
    "myset.remove(\"banana\")\n",
    "print(myset)\n",
    "\n",
    "# if the remove item doesnt exsist, then remove () method will raise an error."
   ]
  },
  {
   "cell_type": "code",
   "execution_count": 15,
   "id": "a04447fd",
   "metadata": {},
   "outputs": [
    {
     "name": "stdout",
     "output_type": "stream",
     "text": [
      "{'apple', 'cherry'}\n"
     ]
    }
   ],
   "source": [
    "#Remove \"banana\" by using discard method \n",
    "\n",
    "myset ={\"apple\",\"banana\",\"cherry\"}\n",
    "myset.discard(\"banana\")\n",
    "print(myset)"
   ]
  },
  {
   "cell_type": "markdown",
   "id": "fae81ab7",
   "metadata": {},
   "source": [
    "The pop () can be used to remove an item. It will remove the last item from the set but since the sets are unordered so you wouldnt know which item will be removed."
   ]
  },
  {
   "cell_type": "code",
   "execution_count": 17,
   "id": "421b053c",
   "metadata": {},
   "outputs": [
    {
     "name": "stdout",
     "output_type": "stream",
     "text": [
      "apple\n",
      "{'banana', 'cherry'}\n"
     ]
    }
   ],
   "source": [
    "myset ={\"apple\",\"banana\",\"cherry\"}\n",
    "x = myset.pop()\n",
    "print(x)\n",
    "print(myset)"
   ]
  },
  {
   "cell_type": "markdown",
   "id": "dc2ea3b9",
   "metadata": {},
   "source": [
    "The clear () method will empty the set "
   ]
  },
  {
   "cell_type": "code",
   "execution_count": 18,
   "id": "f53bce90",
   "metadata": {},
   "outputs": [
    {
     "name": "stdout",
     "output_type": "stream",
     "text": [
      "set()\n"
     ]
    }
   ],
   "source": [
    "myset ={\"apple\",\"banana\",\"cherry\"}\n",
    "myset.clear()\n",
    "print(myset)"
   ]
  },
  {
   "cell_type": "markdown",
   "id": "ceac06bd",
   "metadata": {},
   "source": [
    "The del keyword will delete the set completely and it will give an error if yoy will recall the deleted set."
   ]
  },
  {
   "cell_type": "code",
   "execution_count": null,
   "id": "70808d7c",
   "metadata": {},
   "outputs": [],
   "source": [
    "myset ={\"apple\",\"banana\",\"cherry\"}\n",
    "del myset\n",
    "print(myset)"
   ]
  },
  {
   "cell_type": "markdown",
   "id": "0cc3d8a9",
   "metadata": {},
   "source": [
    "# Loop Sets\n",
    "\n",
    "You can loop through the set by using the for loop.\n",
    "\n"
   ]
  },
  {
   "cell_type": "code",
   "execution_count": 19,
   "id": "2c2cea4d",
   "metadata": {},
   "outputs": [
    {
     "name": "stdout",
     "output_type": "stream",
     "text": [
      "apple\n",
      "banana\n",
      "cherry\n"
     ]
    }
   ],
   "source": [
    "myset ={\"apple\",\"banana\",\"cherry\"}\n",
    "\n",
    "for x in myset:\n",
    "    print(x)"
   ]
  },
  {
   "cell_type": "markdown",
   "id": "4a0930f3",
   "metadata": {},
   "source": [
    "# Join two Sets \n",
    "\n",
    "There are several ways to join the two or more sets. We can use **union( )** that returns a new set containing all items from both sets, or the **update( )** method that inserts all the items from one set into another."
   ]
  },
  {
   "cell_type": "code",
   "execution_count": 20,
   "id": "52e27c74",
   "metadata": {},
   "outputs": [
    {
     "name": "stdout",
     "output_type": "stream",
     "text": [
      "{1, 2, 3, 4, 5, 6, 7, 8, 9, 10}\n"
     ]
    }
   ],
   "source": [
    "#Using union() method\n",
    "\n",
    "set1 = {1,2,3,4,5}\n",
    "set2 = {6,7,8,9,10}\n",
    "\n",
    "set3 = set1.union(set2)\n",
    "\n",
    "print(set3)\n"
   ]
  },
  {
   "cell_type": "code",
   "execution_count": null,
   "id": "15eb3a8e",
   "metadata": {},
   "outputs": [],
   "source": [
    "#Using update method \n",
    "\n",
    "set1 = {1,2,3,4,5}\n",
    "set2 = {6,7,8,9,10}\n",
    "\n",
    "set1.update(set2)\n",
    "\n",
    "print(set1)\n"
   ]
  },
  {
   "cell_type": "markdown",
   "id": "0933937a",
   "metadata": {},
   "source": [
    "Both union ( ) and update ( ) methods with exclude any duplicate items."
   ]
  },
  {
   "cell_type": "markdown",
   "id": "2cee806b",
   "metadata": {},
   "source": [
    "# Keep only the Duplicates \n",
    "\n",
    "The intersection_update ( ) method will keep only the item present in both sets.\n",
    "\n"
   ]
  },
  {
   "cell_type": "code",
   "execution_count": 22,
   "id": "88004de4",
   "metadata": {},
   "outputs": [
    {
     "name": "stdout",
     "output_type": "stream",
     "text": [
      "{3, 4, 5}\n"
     ]
    }
   ],
   "source": [
    "set1 = {1,2,3,4,5}\n",
    "set2 = {3,4,5,6,7,8,9,10}\n",
    "\n",
    "set1.intersection_update(set2)\n",
    "\n",
    "print(set1)"
   ]
  },
  {
   "cell_type": "markdown",
   "id": "744f64f5",
   "metadata": {},
   "source": [
    "The intersection( ) method will return a new set that will contains the items that are present in both sets alongwith the first set."
   ]
  },
  {
   "cell_type": "code",
   "execution_count": 24,
   "id": "18cbe4e2",
   "metadata": {},
   "outputs": [
    {
     "name": "stdout",
     "output_type": "stream",
     "text": [
      "{'apple', 'banana', 'cherry'}\n"
     ]
    }
   ],
   "source": [
    "set1 = {\"apple\",\"banana\",\"cherry\"}\n",
    "set2 = {\"google\",\"microsoft\",\"apple\"}\n",
    "\n",
    "set1.intersection(set2)\n",
    "\n",
    "print(set1)"
   ]
  },
  {
   "cell_type": "markdown",
   "id": "aeaebda0",
   "metadata": {},
   "source": [
    "# Keep all, But not the Duplicates\n",
    "\n",
    "The symmetric_difference_method( ) will keep only the elements that are not present in both sets."
   ]
  },
  {
   "cell_type": "code",
   "execution_count": 25,
   "id": "d971681e",
   "metadata": {},
   "outputs": [
    {
     "name": "stdout",
     "output_type": "stream",
     "text": [
      "{'banana', 'cherry', 'google', 'microsoft'}\n"
     ]
    }
   ],
   "source": [
    "set1 = {\"apple\",\"banana\",\"cherry\"}\n",
    "set2 = {\"google\",\"microsoft\",\"apple\"}\n",
    "\n",
    "set1.symmetric_difference_update(set2)\n",
    "\n",
    "print(set1)"
   ]
  },
  {
   "cell_type": "markdown",
   "id": "07a592ca",
   "metadata": {},
   "source": [
    "The symmetric_difference ( ) method will return a new set, that contains all items from both the sets except items that are present in both:"
   ]
  },
  {
   "cell_type": "code",
   "execution_count": 26,
   "id": "9ce107c2",
   "metadata": {},
   "outputs": [
    {
     "name": "stdout",
     "output_type": "stream",
     "text": [
      "{'apple', 'banana', 'cherry'}\n"
     ]
    }
   ],
   "source": [
    "set1 = {\"apple\",\"banana\",\"cherry\"}\n",
    "set2 = {\"google\",\"microsoft\",\"apple\"}\n",
    "\n",
    "set1.symmetric_difference(set2)\n",
    "\n",
    "print(set1)"
   ]
  },
  {
   "cell_type": "markdown",
   "id": "5fb2dba1",
   "metadata": {},
   "source": [
    "# Set Methods \n",
    "\n",
    "Python has a lot of built in methods that can be used on sets:"
   ]
  },
  {
   "cell_type": "markdown",
   "id": "c317c6f9",
   "metadata": {},
   "source": [
    "# add( )\n",
    "\n",
    "It adds an element to a set.If the specified elemnent is already in the set, it will not add it.\n",
    "\n",
    "**Syntax**\n",
    "\n",
    "set.add(elmnt)\n",
    "\n",
    "**Parameter**\n",
    "\n",
    "Element is required that is to be added to the set."
   ]
  },
  {
   "cell_type": "code",
   "execution_count": 27,
   "id": "2e72bc91",
   "metadata": {},
   "outputs": [
    {
     "name": "stdout",
     "output_type": "stream",
     "text": [
      "{'apple', 'orange', 'banana', 'cherry'}\n"
     ]
    }
   ],
   "source": [
    "set1 = {\"apple\",\"banana\",\"cherry\"}\n",
    "set1.add(\"orange\")\n",
    "print(set1)"
   ]
  },
  {
   "cell_type": "markdown",
   "id": "1d241b1a",
   "metadata": {},
   "source": [
    "# clear( )\n",
    "\n",
    "It removes all the elements from the set.\n",
    "\n",
    "**Syntax**\n",
    "\n",
    "set.clear()\n",
    "\n",
    "**Parameter**\n",
    "\n",
    "No parameters."
   ]
  },
  {
   "cell_type": "code",
   "execution_count": 28,
   "id": "0ed211f7",
   "metadata": {},
   "outputs": [
    {
     "name": "stdout",
     "output_type": "stream",
     "text": [
      "set()\n"
     ]
    }
   ],
   "source": [
    "set1 = {\"apple\",\"banana\",\"cherry\"}\n",
    "set1.clear()\n",
    "print(set1)"
   ]
  },
  {
   "cell_type": "markdown",
   "id": "93a3254d",
   "metadata": {},
   "source": [
    "# copy ( )\n",
    "\n",
    "It copies a set.\n",
    "\n",
    "**Syntax**\n",
    "\n",
    "set.copy()\n",
    "\n",
    "**Parameter**\n",
    "\n",
    "No parameters required."
   ]
  },
  {
   "cell_type": "code",
   "execution_count": 30,
   "id": "ec236f03",
   "metadata": {},
   "outputs": [
    {
     "name": "stdout",
     "output_type": "stream",
     "text": [
      "{'apple', 'banana', 'cherry'}\n"
     ]
    }
   ],
   "source": [
    "set1 = {\"apple\",\"banana\",\"cherry\"}\n",
    "x = set1.copy()\n",
    "print(x)"
   ]
  },
  {
   "cell_type": "markdown",
   "id": "7acf1ff9",
   "metadata": {},
   "source": [
    "# difference( )\n",
    "\n",
    "It returns a new set that contains the difference between two sets. i.e items that exsists only in the first set and not in both sets.\n",
    "\n",
    "**Syntax**\n",
    "\n",
    "set.difference(set)\n",
    "\n",
    "**Parameter**\n",
    "\n",
    "Required set to check the difference."
   ]
  },
  {
   "cell_type": "code",
   "execution_count": 32,
   "id": "ae71dea9",
   "metadata": {},
   "outputs": [
    {
     "name": "stdout",
     "output_type": "stream",
     "text": [
      "{'banana', 'cherry'}\n"
     ]
    }
   ],
   "source": [
    "set1 = {\"apple\",\"banana\",\"cherry\"}\n",
    "set2 = {\"google\",\"microsoft\",\"apple\"}\n",
    "\n",
    "x = set1.difference(set2)\n",
    "\n",
    "print(x)"
   ]
  },
  {
   "cell_type": "markdown",
   "id": "34629baf",
   "metadata": {},
   "source": [
    "# difference_update( )\n",
    "\n",
    "This removes the items that exsist in both sets.\n",
    "\n",
    "**Syntax**\n",
    "\n",
    "set.difference_update(set)\n",
    "\n",
    "**Parameter**\n",
    "\n",
    "Required set to check the difference.\n",
    "\n"
   ]
  },
  {
   "cell_type": "code",
   "execution_count": 34,
   "id": "eb76f9ff",
   "metadata": {},
   "outputs": [
    {
     "name": "stdout",
     "output_type": "stream",
     "text": [
      "{'banana', 'cherry'}\n"
     ]
    }
   ],
   "source": [
    "set1 = {\"apple\",\"banana\",\"cherry\"}\n",
    "set2 = {\"google\",\"microsoft\",\"apple\"}\n",
    "\n",
    "set1.difference_update(set2)\n",
    "\n",
    "print(set1)"
   ]
  },
  {
   "cell_type": "markdown",
   "id": "c0bc322f",
   "metadata": {},
   "source": [
    "# discard( )\n",
    "\n",
    "This method removes the specified item from the set. This is different from remove () as it will not raise an error if the specified item doesnt exsist.\n",
    "\n",
    "**Syntax**\n",
    "\n",
    "set.discard(value)\n",
    "\n",
    "**Parameter**\n",
    "\n",
    "Value will be required for the item to search and remove."
   ]
  },
  {
   "cell_type": "code",
   "execution_count": 35,
   "id": "0be1d516",
   "metadata": {},
   "outputs": [
    {
     "name": "stdout",
     "output_type": "stream",
     "text": [
      "{'banana', 'cherry'}\n"
     ]
    }
   ],
   "source": [
    "set1 = {\"apple\",\"banana\",\"cherry\"}\n",
    "set1.discard(\"apple\")\n",
    "print (set1)"
   ]
  },
  {
   "cell_type": "markdown",
   "id": "7ff419b1",
   "metadata": {},
   "source": [
    "# intersection( )\n",
    "\n",
    "It returns a new set that contains the similarity between two or more sets.\n",
    "\n",
    "**Syntax**\n",
    "\n",
    "set.intersection(set1,set2,set3...)\n",
    "\n",
    "**Parameter**\n",
    "\n",
    "Required sets to search for equal items."
   ]
  },
  {
   "cell_type": "code",
   "execution_count": 37,
   "id": "47e13871",
   "metadata": {},
   "outputs": [
    {
     "name": "stdout",
     "output_type": "stream",
     "text": [
      "{'apple'}\n"
     ]
    }
   ],
   "source": [
    "set1 = {\"apple\",\"banana\",\"cherry\"}\n",
    "set2 = {\"google\",\"microsoft\",\"apple\"}\n",
    "\n",
    "x = set1.intersection(set2)\n",
    "\n",
    "print(x)"
   ]
  },
  {
   "cell_type": "code",
   "execution_count": 38,
   "id": "dfca9671",
   "metadata": {},
   "outputs": [
    {
     "name": "stdout",
     "output_type": "stream",
     "text": [
      "{'c'}\n"
     ]
    }
   ],
   "source": [
    "x = {'a','b','c'}\n",
    "y = {'c','d','e'}\n",
    "z = {'f','g','c'}\n",
    "\n",
    "a = x.intersection(y,z)\n",
    "\n",
    "print(a)"
   ]
  },
  {
   "cell_type": "markdown",
   "id": "dc563004",
   "metadata": {},
   "source": [
    "# intersection_update ( )\n",
    "\n",
    "It removes the items that are not present in both sets or all sets. its different from the intersection() method as it returns a new set, without the unwanted items but the intersection_update( ) removes the unwanted items from the original set.\n",
    "\n",
    "**Syntax**\n",
    "\n",
    "set.intersection_update(set1,set2,....etc.)\n",
    "\n",
    "**Parameter**\n",
    "\n",
    "Sets are required in order to remove for equal items."
   ]
  },
  {
   "cell_type": "code",
   "execution_count": 39,
   "id": "c4404359",
   "metadata": {},
   "outputs": [
    {
     "name": "stdout",
     "output_type": "stream",
     "text": [
      "{'c'}\n"
     ]
    }
   ],
   "source": [
    "x = {'a','b','c'}\n",
    "y = {'c','d','e'}\n",
    "z = {'f','g','c'}\n",
    "\n",
    "x.intersection_update(y,z)\n",
    "\n",
    "print(x)"
   ]
  },
  {
   "cell_type": "markdown",
   "id": "dfc3eb86",
   "metadata": {},
   "source": [
    "# isdisjoint( )\n",
    "\n",
    "It returns a new set True if none of the items are present in both sets, otherwise it returns False.\n",
    "\n",
    "**Syntax**\n",
    "\n",
    "set.isdisjoint(set)\n",
    "\n",
    "**Parameter**\n",
    "\n",
    "Set is Required to search for equal items."
   ]
  },
  {
   "cell_type": "code",
   "execution_count": 42,
   "id": "580a98b9",
   "metadata": {},
   "outputs": [
    {
     "name": "stdout",
     "output_type": "stream",
     "text": [
      "True\n"
     ]
    }
   ],
   "source": [
    "set1 = {\"apple\",\"banana\",\"cherry\"}\n",
    "set2 = {\"google\",\"microsoft\"}\n",
    "\n",
    "x = set1.isdisjoint(set2)\n",
    "\n",
    "print(x)"
   ]
  },
  {
   "cell_type": "markdown",
   "id": "3b5c1be9",
   "metadata": {},
   "source": [
    "# issubset( )\n",
    "\n",
    "This method returns True if all items in the set exsists in the specified set, otherwise it returns False.\n",
    "\n",
    "**Syntax**\n",
    "\n",
    "set.issubset(set)\n",
    "\n",
    "**Parameter**\n",
    "\n",
    "Set required to search for equal items."
   ]
  },
  {
   "cell_type": "code",
   "execution_count": 45,
   "id": "329f1e6c",
   "metadata": {},
   "outputs": [
    {
     "name": "stdout",
     "output_type": "stream",
     "text": [
      "True\n"
     ]
    }
   ],
   "source": [
    "x = {\"a\",\"b\",\"c\"}\n",
    "y = {\"f\",\"e\",\"d\",\"c\",\"b\",\"a\"}\n",
    "\n",
    "z = x.issubset(y)\n",
    "\n",
    "print(z)"
   ]
  },
  {
   "cell_type": "markdown",
   "id": "8e5aa9ed",
   "metadata": {},
   "source": [
    "# issuperset( )\n",
    "\n",
    "It returns True if all items in the specified set exist in original set, otherwise it returns False.\n",
    "\n",
    "**Syntax**\n",
    "\n",
    "set.issuperset(set)\n",
    "\n",
    "**Parameter**\n",
    "\n",
    "Set is required to search for equal items.\n",
    "\n"
   ]
  },
  {
   "cell_type": "code",
   "execution_count": 50,
   "id": "f7595946",
   "metadata": {},
   "outputs": [
    {
     "name": "stdout",
     "output_type": "stream",
     "text": [
      "True\n"
     ]
    }
   ],
   "source": [
    "x = {\"a\",\"b\",\"c\"}\n",
    "y = {\"f\",\"e\",\"d\",\"c\",\"b\",\"a\"}\n",
    "\n",
    "z = y.issuperset(x)\n",
    "\n",
    "print(z)"
   ]
  },
  {
   "cell_type": "markdown",
   "id": "74c8726c",
   "metadata": {},
   "source": [
    "# pop( )\n",
    "\n",
    "Removes a random item from the set \n",
    "\n",
    "**Syntax**\n",
    "\n",
    "set.pop()\n",
    "\n",
    "**Parameter**\n",
    "\n",
    "Not Required."
   ]
  },
  {
   "cell_type": "code",
   "execution_count": 51,
   "id": "08ba2f91",
   "metadata": {},
   "outputs": [
    {
     "name": "stdout",
     "output_type": "stream",
     "text": [
      "{'banana', 'cherry'}\n"
     ]
    }
   ],
   "source": [
    "set1 = {\"apple\",\"banana\",\"cherry\"}\n",
    "set1.pop()\n",
    "print(set1)"
   ]
  },
  {
   "cell_type": "markdown",
   "id": "3607ff28",
   "metadata": {},
   "source": [
    "# remove( )\n",
    "\n",
    "It removes a specified item from the set.\n",
    "\n",
    "**Syntax**\n",
    "\n",
    "set.remove(item)\n",
    "\n",
    "**Parameter**\n",
    "\n",
    "Item required that needs to be removed."
   ]
  },
  {
   "cell_type": "code",
   "execution_count": 52,
   "id": "b41f6407",
   "metadata": {},
   "outputs": [
    {
     "name": "stdout",
     "output_type": "stream",
     "text": [
      "{'apple', 'cherry'}\n"
     ]
    }
   ],
   "source": [
    "set1 = {\"apple\",\"banana\",\"cherry\"}\n",
    "set1.remove(\"banana\")\n",
    "print(set1)"
   ]
  },
  {
   "cell_type": "markdown",
   "id": "9f4a1a50",
   "metadata": {},
   "source": [
    "# symmetric_difference( )\n",
    "\n",
    "It returns a new set that contains all items from both set, but not the items that are present in both sets.\n",
    "\n",
    "**Syntax**\n",
    "\n",
    "set.symmetric_difference(set)\n",
    "\n",
    "**Parameter**\n",
    "\n",
    "Set required to check for matches."
   ]
  },
  {
   "cell_type": "code",
   "execution_count": 54,
   "id": "c253594a",
   "metadata": {},
   "outputs": [
    {
     "name": "stdout",
     "output_type": "stream",
     "text": [
      "{'banana', 'cherry', 'google', 'microsoft'}\n"
     ]
    }
   ],
   "source": [
    "set1 = {\"apple\",\"banana\",\"cherry\"}\n",
    "set2 = {\"google\",\"microsoft\",\"apple\"}\n",
    "\n",
    "x = set1.symmetric_difference(set2)\n",
    "\n",
    "print(x)"
   ]
  },
  {
   "cell_type": "markdown",
   "id": "ac59d7fc",
   "metadata": {},
   "source": [
    "# symmetric_difference_update( )\n",
    "\n",
    "It updates the original set by removing items that are present in both sets, and inserting the other items.\n",
    "\n",
    "**Syntax**\n",
    "\n",
    "set.symmetric_difference_update(set)\n",
    "\n",
    "**Parameter**\n",
    "\n",
    "Set required to check for matches in.\n"
   ]
  },
  {
   "cell_type": "code",
   "execution_count": 55,
   "id": "4722b47d",
   "metadata": {},
   "outputs": [
    {
     "name": "stdout",
     "output_type": "stream",
     "text": [
      "{'banana', 'cherry', 'google', 'microsoft'}\n"
     ]
    }
   ],
   "source": [
    "set1 = {\"apple\",\"banana\",\"cherry\"}\n",
    "set2 = {\"google\",\"microsoft\",\"apple\"}\n",
    "\n",
    "set1.symmetric_difference_update(set2)\n",
    "\n",
    "print(set1)"
   ]
  },
  {
   "cell_type": "markdown",
   "id": "3f8b8af8",
   "metadata": {},
   "source": [
    "# union( )\n",
    "\n",
    "This method returns a set that contains all items from the original set and all items from the specified set. Duplicates are excluded.\n",
    "\n",
    "**Syntax**\n",
    "\n",
    "set.union(set1,set2.....etc.)\n",
    "\n",
    "**Parameter**\n",
    "\n",
    "Sets required. The iterable to unify with."
   ]
  },
  {
   "cell_type": "code",
   "execution_count": 56,
   "id": "569fe342",
   "metadata": {},
   "outputs": [
    {
     "name": "stdout",
     "output_type": "stream",
     "text": [
      "{'banana', 'cherry', 'apple', 'google', 'microsoft'}\n"
     ]
    }
   ],
   "source": [
    "set1 = {\"apple\",\"banana\",\"cherry\"}\n",
    "set2 = {\"google\",\"microsoft\",\"apple\"}\n",
    "\n",
    "x = set1.union(set2)\n",
    "\n",
    "print(x)"
   ]
  },
  {
   "cell_type": "markdown",
   "id": "d466c0f9",
   "metadata": {},
   "source": [
    "# update ( )\n",
    "\n",
    "It updates the current set, by adding items from another set or any other iterable. If an item is present in both sets, only one apperance of this item will be present in the updated set.\n",
    "\n",
    "**Syntax**\n",
    "\n",
    "set.update(set)\n",
    "\n",
    "**Parameter**\n",
    "\n",
    "Set required, The iterable insert into the current set."
   ]
  },
  {
   "cell_type": "code",
   "execution_count": 57,
   "id": "f92315a2",
   "metadata": {},
   "outputs": [
    {
     "name": "stdout",
     "output_type": "stream",
     "text": [
      "{'banana', 'cherry', 'apple', 'google', 'microsoft'}\n"
     ]
    }
   ],
   "source": [
    "set1 = {\"apple\",\"banana\",\"cherry\"}\n",
    "set2 = {\"google\",\"microsoft\",\"apple\"}\n",
    "\n",
    "set1.update(set2)\n",
    "\n",
    "print(set1)"
   ]
  },
  {
   "cell_type": "code",
   "execution_count": 58,
   "id": "bd9cc255",
   "metadata": {},
   "outputs": [
    {
     "name": "stdout",
     "output_type": "stream",
     "text": [
      "yes! apple is present\n"
     ]
    }
   ],
   "source": [
    "#Exercise\n",
    "\n",
    "#Check if \"apple\" is present in the fruits sets.\n",
    "\n",
    "fruits = {\"apple\",\"banana\",\"cherry\"}\n",
    "\n",
    "if \"apple\" in fruits:\n",
    "    print(\"yes! apple is present\")"
   ]
  },
  {
   "cell_type": "code",
   "execution_count": 61,
   "id": "ec41d092",
   "metadata": {},
   "outputs": [
    {
     "name": "stdout",
     "output_type": "stream",
     "text": [
      "{'apple', 'orange', 'banana', 'cherry'}\n"
     ]
    }
   ],
   "source": [
    "#Use add method to add \"orange\" to the fruits set\n",
    "\n",
    "fruits = {\"apple\",\"banana\",\"cherry\"}\n",
    "fruits.add(\"orange\")\n",
    "print(fruits)"
   ]
  },
  {
   "cell_type": "code",
   "execution_count": 62,
   "id": "afebf6d3",
   "metadata": {},
   "outputs": [
    {
     "name": "stdout",
     "output_type": "stream",
     "text": [
      "{'mango', 'orange', 'banana', 'cherry', 'apple', 'grapes'}\n"
     ]
    }
   ],
   "source": [
    "#Use the correct method to add multiple items to the fruits \n",
    "\n",
    "fruits = {\"apple\",\"banana\",\"cherry\"}\n",
    "more_fruits = {\"orange\",\"mango\",\"grapes\"}\n",
    "\n",
    "fruits.update(more_fruits)\n",
    "\n",
    "print(fruits)"
   ]
  },
  {
   "cell_type": "code",
   "execution_count": 63,
   "id": "893a9a79",
   "metadata": {},
   "outputs": [
    {
     "name": "stdout",
     "output_type": "stream",
     "text": [
      "{'apple', 'cherry'}\n"
     ]
    }
   ],
   "source": [
    "#Use the remove method to remove \"banana\" from the fruits set\n",
    "\n",
    "fruits = {\"apple\",\"banana\",\"cherry\"}\n",
    "fruits.remove(\"banana\")\n",
    "print(fruits)"
   ]
  },
  {
   "cell_type": "code",
   "execution_count": 64,
   "id": "1573d427",
   "metadata": {},
   "outputs": [
    {
     "name": "stdout",
     "output_type": "stream",
     "text": [
      "{'apple', 'cherry'}\n"
     ]
    }
   ],
   "source": [
    "#Use the discard method to remove \"banana\" from the fruits set.\n",
    "\n",
    "fruits = {\"apple\",\"banana\",\"cherry\"}\n",
    "fruits.discard(\"banana\")\n",
    "print(fruits)\n"
   ]
  },
  {
   "cell_type": "code",
   "execution_count": null,
   "id": "95c9b46b",
   "metadata": {},
   "outputs": [],
   "source": []
  }
 ],
 "metadata": {
  "kernelspec": {
   "display_name": "Python 3",
   "language": "python",
   "name": "python3"
  },
  "language_info": {
   "codemirror_mode": {
    "name": "ipython",
    "version": 3
   },
   "file_extension": ".py",
   "mimetype": "text/x-python",
   "name": "python",
   "nbconvert_exporter": "python",
   "pygments_lexer": "ipython3",
   "version": "3.6.13"
  }
 },
 "nbformat": 4,
 "nbformat_minor": 5
}
