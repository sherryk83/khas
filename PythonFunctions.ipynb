{
 "cells": [
  {
   "cell_type": "markdown",
   "metadata": {},
   "source": [
    "# Python Functions \n",
    "\n",
    "A function is a block of code which only runs when it is called.\n",
    "\n",
    "You can pass data, known as parameters, into a function.\n",
    "\n",
    "A function can return data as a result.\n",
    "\n",
    "# Creating a Function \n",
    "\n",
    "In Python a function is defined using the **def** keyword."
   ]
  },
  {
   "cell_type": "code",
   "execution_count": 1,
   "metadata": {},
   "outputs": [],
   "source": [
    "def my_function():\n",
    "    print (\"Hello from a function\")"
   ]
  },
  {
   "cell_type": "markdown",
   "metadata": {},
   "source": [
    "# Calling a Function \n",
    "\n",
    "To call a function, use the function name, followed by paraenthesis."
   ]
  },
  {
   "cell_type": "code",
   "execution_count": 2,
   "metadata": {},
   "outputs": [
    {
     "name": "stdout",
     "output_type": "stream",
     "text": [
      "Hello from a function\n"
     ]
    }
   ],
   "source": [
    "def my_function():\n",
    "    print (\"Hello from a function\")\n",
    "    \n",
    "my_function()"
   ]
  },
  {
   "cell_type": "markdown",
   "metadata": {},
   "source": [
    "# Arguments \n",
    "\n",
    "Information can be passed into functions as arguments.\n",
    "\n",
    "Arguments are specified after function name, inside the paraentheses. You can add as many arguments as you want, just separate them with a comma.\n",
    "\n",
    "The following exmple has a function with one argument(fname). When the function is called, we pass along a first name, which is used inside the function to print the full name."
   ]
  },
  {
   "cell_type": "code",
   "execution_count": 4,
   "metadata": {},
   "outputs": [
    {
     "name": "stdout",
     "output_type": "stream",
     "text": [
      "Emil Refsnes\n",
      "Tobais Refsnes\n",
      "Linus Refsnes\n"
     ]
    }
   ],
   "source": [
    "def my_function(fname):\n",
    "    print(fname + \" Refsnes\")\n",
    "    \n",
    "my_function(\"Emil\")\n",
    "my_function(\"Tobais\")\n",
    "my_function(\"Linus\")"
   ]
  },
  {
   "cell_type": "markdown",
   "metadata": {},
   "source": [
    "# Parameters or Arguments ?\n",
    "\n",
    "The terms parameter and argument can be used for the same thing : information that are passed into a function.\n",
    "\n",
    "\n",
    "**From a function's prespective:**\n",
    "\n",
    "A parameter is the variable listed inside the paraentheses in the function's definition.\n",
    "\n",
    "An argument is the value that is sent to the function when it is called.\n",
    "\n",
    "\n",
    "# Number of Arguments \n",
    "\n",
    "By default, a function must be called with the correct number of arguments. Meaning that if your function expects 2 arguments, you have to call the function with 2 arguments, not more and not less.\n",
    "\n",
    "\n",
    "This function expects 2 arguments, and gets 2 arguments.\n",
    "\n",
    "If you try to call the function with 1 or 3 arguments, you will get an error."
   ]
  },
  {
   "cell_type": "code",
   "execution_count": 5,
   "metadata": {},
   "outputs": [
    {
     "name": "stdout",
     "output_type": "stream",
     "text": [
      "Emil Refsnes\n"
     ]
    }
   ],
   "source": [
    "def my_function(fname,lname):\n",
    "    print(fname + \" \"+ lname)\n",
    "    \n",
    "    \n",
    "my_function(\"Emil\",\"Refsnes\")"
   ]
  },
  {
   "cell_type": "markdown",
   "metadata": {},
   "source": [
    "# Arbitrary Arguments \n",
    "\n",
    "If you do not know how many arguments that will be passed into your function , add a * before the parameter name in the function definition.\n",
    "\n",
    "This way the function will recieve a tuple of argumets, and can access the items accordingly:\n",
    "\n",
    "\n",
    "If the number of arguments is unknown:"
   ]
  },
  {
   "cell_type": "code",
   "execution_count": 6,
   "metadata": {},
   "outputs": [
    {
     "name": "stdout",
     "output_type": "stream",
     "text": [
      "The youngest child is Linus\n"
     ]
    }
   ],
   "source": [
    "def my_func(*kids):\n",
    "    print (\"The youngest child is \" + kids[2])\n",
    "    \n",
    "my_func(\"Emil\",\"Tobais\",\"Linus\")"
   ]
  },
  {
   "cell_type": "markdown",
   "metadata": {},
   "source": [
    "# Keyword Arguments\n",
    "\n",
    "You can also send arguments with the key = value syntax.\n",
    "\n",
    "This way the order of the arguments does not matter.\n"
   ]
  },
  {
   "cell_type": "code",
   "execution_count": 7,
   "metadata": {},
   "outputs": [
    {
     "name": "stdout",
     "output_type": "stream",
     "text": [
      "The youngest child is Linus\n"
     ]
    }
   ],
   "source": [
    "def my_func(child3, child2, child1):\n",
    "    print(\"The youngest child is \" + child3)\n",
    "    \n",
    "    \n",
    "my_func(child1 = \"Emil\", child2 = \"Tobais\", child3 =\"Linus\")"
   ]
  },
  {
   "cell_type": "markdown",
   "metadata": {},
   "source": [
    "# Arbirary Keyword Arguments, **kwargs(key = value)\n",
    "\n",
    "\n",
    "If you do not know many keywords arguments that will be passed into your function, add two ** before that parameter name in the function definition. \n",
    "\n",
    "This way the function will recieve a dictionary of arguments, and can access the items accordingly.\n",
    "\n",
    "\n",
    "\n",
    "If the number of keyword arguments is unknown, add a double ** before the parameter name:"
   ]
  },
  {
   "cell_type": "code",
   "execution_count": 9,
   "metadata": {},
   "outputs": [
    {
     "name": "stdout",
     "output_type": "stream",
     "text": [
      "His last name is Refsnes\n"
     ]
    }
   ],
   "source": [
    "def my_func(**kids):\n",
    "    print (\"His last name is \" + kids[\"lname\"])\n",
    "    \n",
    "    \n",
    "my_func(fname = \"Tobais\", lname = \"Refsnes\")"
   ]
  },
  {
   "cell_type": "markdown",
   "metadata": {},
   "source": [
    "# Default Parameter Value \n",
    "\n",
    "The following example shows how to use a default parameter value.\n",
    "\n",
    "If we call the function without argument, it uses the default value:"
   ]
  },
  {
   "cell_type": "code",
   "execution_count": 10,
   "metadata": {},
   "outputs": [
    {
     "name": "stdout",
     "output_type": "stream",
     "text": [
      "I am from Sweden\n",
      "I am from India\n",
      "I am from Norway\n",
      "I am from Brazil\n"
     ]
    }
   ],
   "source": [
    "def my_func(country = \"Norway\"):\n",
    "    print (\"I am from \" + country)\n",
    "    \n",
    "    \n",
    "my_func(\"Sweden\")\n",
    "my_func(\"India\")\n",
    "my_func()\n",
    "my_func(\"Brazil\")"
   ]
  },
  {
   "cell_type": "markdown",
   "metadata": {},
   "source": [
    "# Passing a List as an Argument\n",
    "\n",
    "You can send any data types of arguments to a function(strings,number,list,dictionary etc) and it will be treated as the same data type inside the function.\n",
    "\n",
    "e.g. if you send a list as an argument, it will still be a list when it reaches the function."
   ]
  },
  {
   "cell_type": "code",
   "execution_count": 11,
   "metadata": {},
   "outputs": [
    {
     "name": "stdout",
     "output_type": "stream",
     "text": [
      "apple\n",
      "banana\n",
      "cherry\n"
     ]
    }
   ],
   "source": [
    "def my_func(food):\n",
    "    for x in food:\n",
    "        print (x)\n",
    "        \n",
    "        \n",
    "fruits = [\"apple\", \"banana\", \"cherry\"]\n",
    "\n",
    "my_func(fruits)"
   ]
  },
  {
   "cell_type": "code",
   "execution_count": 12,
   "metadata": {},
   "outputs": [
    {
     "name": "stdout",
     "output_type": "stream",
     "text": [
      "calzone\n",
      "pizza\n",
      "biscuit\n",
      "cookies \n"
     ]
    }
   ],
   "source": [
    "baked = [\"calzone\",\"pizza\",\"biscuit\",\"cookies \"]\n",
    "\n",
    "my_func(baked)"
   ]
  },
  {
   "cell_type": "markdown",
   "metadata": {},
   "source": [
    "# Return Values \n",
    "\n",
    "To let a function return a value, use the return statement."
   ]
  },
  {
   "cell_type": "code",
   "execution_count": 13,
   "metadata": {},
   "outputs": [
    {
     "name": "stdout",
     "output_type": "stream",
     "text": [
      "15\n",
      "25\n",
      "45\n"
     ]
    }
   ],
   "source": [
    "def my_func(x):\n",
    "    return 5 * x \n",
    "\n",
    "\n",
    "print(my_func(3))\n",
    "print(my_func(5))\n",
    "print(my_func(9))"
   ]
  },
  {
   "cell_type": "markdown",
   "metadata": {},
   "source": [
    "# The Pass statement\n",
    "\n",
    "Function definitions cannot be empty, but if you for some reason have a function definition with no content, put in the pass statement to avoid getting error.\n",
    "\n"
   ]
  },
  {
   "cell_type": "code",
   "execution_count": 14,
   "metadata": {},
   "outputs": [],
   "source": [
    "def myfunction():\n",
    "    pass"
   ]
  },
  {
   "cell_type": "markdown",
   "metadata": {},
   "source": [
    "# Recursion \n",
    "\n",
    "Python also accepts function recursion, which means a defined function can call itself.\n",
    "\n",
    "Recursion is a common mathematical and programming concept. It means that a function calls itself. This has the benefit of meaning that you can loop through data to reach a result.\n",
    "\n",
    "\n",
    "\n",
    "In the example, tri_recursion() is a function that we have defined to call itself (\"recurse\"). We use the k variable as the data, which decrements (-1) everytime we recurse. The recursion ends when the condition is not greater than 0 (i.e. when it is 0)\n",
    "\n"
   ]
  },
  {
   "cell_type": "code",
   "execution_count": 16,
   "metadata": {},
   "outputs": [
    {
     "name": "stdout",
     "output_type": "stream",
     "text": [
      "\n",
      "\n",
      "Recursion Example Results\n",
      "1\n",
      "3\n",
      "6\n",
      "10\n",
      "15\n",
      "21\n"
     ]
    },
    {
     "data": {
      "text/plain": [
       "21"
      ]
     },
     "execution_count": 16,
     "metadata": {},
     "output_type": "execute_result"
    }
   ],
   "source": [
    "def tri_recursion(k):\n",
    "    if(k >0):\n",
    "        result = k + tri_recursion(k-1)\n",
    "        print(result)\n",
    "    else:\n",
    "        result = 0\n",
    "    return result \n",
    "    \n",
    "    \n",
    "print(\"\\n\\nRecursion Example Results\")\n",
    "tri_recursion(6)"
   ]
  },
  {
   "cell_type": "code",
   "execution_count": 18,
   "metadata": {},
   "outputs": [
    {
     "name": "stdout",
     "output_type": "stream",
     "text": [
      "Print from a function\n"
     ]
    }
   ],
   "source": [
    "# Exercise \n",
    "\n",
    "#Create a function named my_function \n",
    "\n",
    "def my_function():\n",
    "    print(\"Print from a function\")\n",
    "    \n",
    "my_function ()"
   ]
  },
  {
   "cell_type": "code",
   "execution_count": 19,
   "metadata": {},
   "outputs": [
    {
     "name": "stdout",
     "output_type": "stream",
     "text": [
      "shahroo\n"
     ]
    }
   ],
   "source": [
    "# Inside a function with two parameters, print the first parameter \n",
    "\n",
    "def my_func(fname , lname):\n",
    "    print (fname)\n",
    "    \n",
    "my_func(\"shahroo\",\"Akhtar\")"
   ]
  },
  {
   "cell_type": "code",
   "execution_count": 21,
   "metadata": {},
   "outputs": [
    {
     "data": {
      "text/plain": [
       "15"
      ]
     },
     "execution_count": 21,
     "metadata": {},
     "output_type": "execute_result"
    }
   ],
   "source": [
    "#Let the function return the x parameter +5\n",
    "\n",
    "def my_func(x):\n",
    "    \n",
    "    \n",
    "    return 5 + x\n",
    "my_func(10)"
   ]
  },
  {
   "cell_type": "code",
   "execution_count": 22,
   "metadata": {},
   "outputs": [
    {
     "name": "stdout",
     "output_type": "stream",
     "text": [
      "the youngest child is Danny\n"
     ]
    }
   ],
   "source": [
    "#If you do not know the number of arguments that will be passed into your function , \n",
    "#there is a prefix you can add in the function definition, which prefix \n",
    "\n",
    "def my_func(*kids):\n",
    "    print (\"the youngest child is \" + kids[2])\n",
    "    \n",
    "my_func(\"Andy\",\"Roger\",\"Danny\")"
   ]
  },
  {
   "cell_type": "code",
   "execution_count": 24,
   "metadata": {},
   "outputs": [
    {
     "name": "stdout",
     "output_type": "stream",
     "text": [
      "His last name is Daniel\n"
     ]
    }
   ],
   "source": [
    "# If you do not know the number of keyword arguments that will be passed into your function, \n",
    "#there is a prefix you can add in the function, which prefix\n",
    "\n",
    "\n",
    "def my_func(**kid):\n",
    "    \n",
    "    print(\"His last name is \" + kid[\"lname\"])\n",
    "    \n",
    "my_func(fname =\"Roger\", lname = \"Daniel\")"
   ]
  },
  {
   "cell_type": "code",
   "execution_count": null,
   "metadata": {},
   "outputs": [],
   "source": []
  }
 ],
 "metadata": {
  "kernelspec": {
   "display_name": "Python 3",
   "language": "python",
   "name": "python3"
  },
  "language_info": {
   "codemirror_mode": {
    "name": "ipython",
    "version": 3
   },
   "file_extension": ".py",
   "mimetype": "text/x-python",
   "name": "python",
   "nbconvert_exporter": "python",
   "pygments_lexer": "ipython3",
   "version": "3.7.6"
  }
 },
 "nbformat": 4,
 "nbformat_minor": 4
}
