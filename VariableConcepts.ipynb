{
 "cells": [
  {
   "cell_type": "markdown",
   "id": "a063c749",
   "metadata": {},
   "source": [
    "# Variables "
   ]
  },
  {
   "cell_type": "markdown",
   "id": "1188beb6",
   "metadata": {},
   "source": [
    "Varibales are container s for storing data. A variable is created the moment you first assign a value to it."
   ]
  },
  {
   "cell_type": "code",
   "execution_count": 1,
   "id": "811785b3",
   "metadata": {},
   "outputs": [
    {
     "name": "stdout",
     "output_type": "stream",
     "text": [
      "5\n",
      "10\n"
     ]
    }
   ],
   "source": [
    "x = 5 \n",
    "y = 10 \n",
    "print (x)\n",
    "print (y)"
   ]
  },
  {
   "cell_type": "code",
   "execution_count": 2,
   "id": "aaf2b75f",
   "metadata": {},
   "outputs": [
    {
     "name": "stdout",
     "output_type": "stream",
     "text": [
      "15\n"
     ]
    }
   ],
   "source": [
    "z = x + y \n",
    "print (z)"
   ]
  },
  {
   "cell_type": "code",
   "execution_count": 3,
   "id": "b14ca77f",
   "metadata": {},
   "outputs": [
    {
     "name": "stdout",
     "output_type": "stream",
     "text": [
      "50\n"
     ]
    }
   ],
   "source": [
    "a = x * y\n",
    "print (a)"
   ]
  },
  {
   "cell_type": "markdown",
   "id": "42b14242",
   "metadata": {},
   "source": [
    "Variables do not need to be declared with any particular type, and can even change type after they have been set "
   ]
  },
  {
   "cell_type": "code",
   "execution_count": 4,
   "id": "3ed05108",
   "metadata": {},
   "outputs": [
    {
     "name": "stdout",
     "output_type": "stream",
     "text": [
      "Sally\n"
     ]
    }
   ],
   "source": [
    "x = 4 #x is of type int\n",
    "x = \"Sally\"  # x is of type str\n",
    "print (x)"
   ]
  },
  {
   "cell_type": "markdown",
   "id": "94badc0a",
   "metadata": {},
   "source": [
    "Casting : if you want to specify the data type of a varible, this can be done by casting "
   ]
  },
  {
   "cell_type": "code",
   "execution_count": 5,
   "id": "40c8a771",
   "metadata": {},
   "outputs": [
    {
     "name": "stdout",
     "output_type": "stream",
     "text": [
      "3 3 3.0\n"
     ]
    }
   ],
   "source": [
    "x = str(3)\n",
    "y = int(3)\n",
    "z = float(3)\n",
    "\n",
    "print(x,y,z)"
   ]
  },
  {
   "cell_type": "markdown",
   "id": "560ab24d",
   "metadata": {},
   "source": [
    "Type : You can get the type of a varible with the type() function."
   ]
  },
  {
   "cell_type": "markdown",
   "id": "7d0d0d91",
   "metadata": {},
   "source": [
    "x = 5 \n",
    "y = \"John\"\n",
    "print (type(x))\n",
    "print (type(y))"
   ]
  },
  {
   "cell_type": "markdown",
   "id": "b79b1a6c",
   "metadata": {},
   "source": [
    "There are several techniques to name your varibales :"
   ]
  },
  {
   "cell_type": "code",
   "execution_count": null,
   "id": "ddfdf3da",
   "metadata": {},
   "outputs": [],
   "source": [
    "myVariableName =\"John\"# CAMEL CASE : Each word, except the first, starts with a capital letter \n",
    "\n",
    "MyVariableName = \"John\" # PASCAL CASE : Each word starts with a capital letter \n",
    "\n",
    "my_variable_name = \"John\" # SNAKE Case : Each word is separated by an underscore "
   ]
  },
  {
   "cell_type": "markdown",
   "id": "f6b3f184",
   "metadata": {},
   "source": [
    "Python allows you to assign values to multiple varibles in one line "
   ]
  },
  {
   "cell_type": "code",
   "execution_count": 7,
   "id": "a834b707",
   "metadata": {},
   "outputs": [
    {
     "name": "stdout",
     "output_type": "stream",
     "text": [
      "Orange\n",
      "Banana\n",
      "Cherry\n"
     ]
    }
   ],
   "source": [
    "x, y , z = \"Orange\", \"Banana\", \"Cherry\"\n",
    "print (x)\n",
    "print (y)\n",
    "print (z)"
   ]
  },
  {
   "cell_type": "markdown",
   "id": "ce34c7a6",
   "metadata": {},
   "source": [
    "You can assign the same value to multiple variables in one line "
   ]
  },
  {
   "cell_type": "code",
   "execution_count": 8,
   "id": "a57eeb93",
   "metadata": {},
   "outputs": [
    {
     "name": "stdout",
     "output_type": "stream",
     "text": [
      "Oranges\n",
      "Oranges\n",
      "Oranges\n"
     ]
    }
   ],
   "source": [
    "x = y = z = \"Oranges\"\n",
    "print (x)\n",
    "print (y)\n",
    "print (z)"
   ]
  },
  {
   "cell_type": "markdown",
   "id": "e2222bdb",
   "metadata": {},
   "source": [
    "If you have a collection of values in a list, tuple etc. python allows you to extract the values into variables.\n",
    "This is called UNPACKING "
   ]
  },
  {
   "cell_type": "code",
   "execution_count": 9,
   "id": "156a80f0",
   "metadata": {},
   "outputs": [
    {
     "name": "stdout",
     "output_type": "stream",
     "text": [
      "apples\n",
      "oranges\n",
      "cherries\n"
     ]
    }
   ],
   "source": [
    "fruits = [\"apples\",\"oranges\",\"cherries\"]\n",
    "x,y,z = fruits\n",
    "print(x)\n",
    "print(y)\n",
    "print(z)"
   ]
  },
  {
   "cell_type": "markdown",
   "id": "3f722e3b",
   "metadata": {},
   "source": [
    "Ouput Variables : The python print statement is often used to output variables. To combine both text and a varible, python uses the + character "
   ]
  },
  {
   "cell_type": "code",
   "execution_count": 10,
   "id": "cb32cdd1",
   "metadata": {},
   "outputs": [
    {
     "name": "stdout",
     "output_type": "stream",
     "text": [
      "Python is awesome\n"
     ]
    }
   ],
   "source": [
    "x = \"awesome\"\n",
    "print (\"Python is \" + x)"
   ]
  },
  {
   "cell_type": "markdown",
   "id": "38c5bea0",
   "metadata": {},
   "source": [
    "Global Variables : Variables that are created outside of a function are known as global variables. These can be used by everyone, both inside and outside of a function."
   ]
  },
  {
   "cell_type": "code",
   "execution_count": 11,
   "id": "ff5acaf1",
   "metadata": {},
   "outputs": [
    {
     "name": "stdout",
     "output_type": "stream",
     "text": [
      "Python is Awesome\n"
     ]
    }
   ],
   "source": [
    "x = \"Awesome\"\n",
    "\n",
    "def myfunc():\n",
    "    print (\"Python is \" + x)\n",
    "    \n",
    "myfunc()"
   ]
  },
  {
   "cell_type": "markdown",
   "id": "e66221d7",
   "metadata": {},
   "source": [
    "If you create a variable with the same name inside a function, this variable will be loacl, and can only used inside the function. The global variable with the same name will remain as it was, global and with the original value."
   ]
  },
  {
   "cell_type": "code",
   "execution_count": 12,
   "id": "47109ff2",
   "metadata": {},
   "outputs": [
    {
     "name": "stdout",
     "output_type": "stream",
     "text": [
      "Python is fantastic\n",
      "Python is awesome\n"
     ]
    }
   ],
   "source": [
    "x = \"awesome\"\n",
    "\n",
    "def myfunc():\n",
    "    x = \"fantastic\"\n",
    "    print(\"Python is \" + x)\n",
    "    \n",
    "myfunc()\n",
    "\n",
    "print(\"Python is \" + x)"
   ]
  },
  {
   "cell_type": "markdown",
   "id": "1841c837",
   "metadata": {},
   "source": [
    "If you use the global keyword, the variable belongs to the global scope \n"
   ]
  },
  {
   "cell_type": "code",
   "execution_count": 14,
   "id": "4b76cbd3",
   "metadata": {},
   "outputs": [
    {
     "name": "stdout",
     "output_type": "stream",
     "text": [
      "Python is fantastic\n"
     ]
    }
   ],
   "source": [
    "def myfunc():\n",
    "    global x\n",
    "    x = \"fantastic\"\n",
    "    \n",
    "myfunc()\n",
    "\n",
    "print(\"Python is \" + x)"
   ]
  },
  {
   "cell_type": "markdown",
   "id": "4dedca9f",
   "metadata": {},
   "source": [
    "To change the value of a global variable inside a function, refer to the variable by using the global keyword:"
   ]
  },
  {
   "cell_type": "code",
   "execution_count": 15,
   "id": "b3782772",
   "metadata": {},
   "outputs": [
    {
     "name": "stdout",
     "output_type": "stream",
     "text": [
      "Python is fantastic\n"
     ]
    }
   ],
   "source": [
    "x = \"awesome\"\n",
    "\n",
    "def myfunc():\n",
    "    global x \n",
    "    x = \"fantastic\"\n",
    "    \n",
    "myfunc()\n",
    "\n",
    "print(\"Python is \" + x)"
   ]
  },
  {
   "cell_type": "code",
   "execution_count": null,
   "id": "49660287",
   "metadata": {},
   "outputs": [],
   "source": []
  }
 ],
 "metadata": {
  "kernelspec": {
   "display_name": "Python 3",
   "language": "python",
   "name": "python3"
  },
  "language_info": {
   "codemirror_mode": {
    "name": "ipython",
    "version": 3
   },
   "file_extension": ".py",
   "mimetype": "text/x-python",
   "name": "python",
   "nbconvert_exporter": "python",
   "pygments_lexer": "ipython3",
   "version": "3.6.13"
  }
 },
 "nbformat": 4,
 "nbformat_minor": 5
}
