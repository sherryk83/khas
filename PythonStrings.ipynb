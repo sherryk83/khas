{
 "cells": [
  {
   "cell_type": "markdown",
   "id": "4ea04e6d",
   "metadata": {},
   "source": [
    "# Python Strings \n",
    "\n",
    "Strings in python are surrounded by either single quotation marks, or double quotation marks.\n"
   ]
  },
  {
   "cell_type": "code",
   "execution_count": 1,
   "id": "5b6f9ec6",
   "metadata": {},
   "outputs": [
    {
     "name": "stdout",
     "output_type": "stream",
     "text": [
      "Hello\n",
      "Hello\n"
     ]
    }
   ],
   "source": [
    "print('Hello')\n",
    "print (\"Hello\")"
   ]
  },
  {
   "cell_type": "markdown",
   "id": "3e19a689",
   "metadata": {},
   "source": [
    "Assigning a string to a variable is done in the following manner:"
   ]
  },
  {
   "cell_type": "code",
   "execution_count": 2,
   "id": "9348804d",
   "metadata": {},
   "outputs": [
    {
     "name": "stdout",
     "output_type": "stream",
     "text": [
      "Hello\n"
     ]
    }
   ],
   "source": [
    "a = \"Hello\"\n",
    "print (a)"
   ]
  },
  {
   "cell_type": "markdown",
   "id": "9a368dc4",
   "metadata": {},
   "source": [
    "You can assign a multiline string to a variable by using three quotes, it could be three single or double quotes."
   ]
  },
  {
   "cell_type": "code",
   "execution_count": 3,
   "id": "4295e010",
   "metadata": {},
   "outputs": [
    {
     "name": "stdout",
     "output_type": "stream",
     "text": [
      "LOrey hhdhhd iuthdb dhdg, \n",
      "gdgggd dkkf kf, \n",
      "gdggdkkdhdkd sgshjs jfkkkf. \n"
     ]
    }
   ],
   "source": [
    "a = \"\"\"LOrey hhdhhd iuthdb dhdg, \n",
    "gdgggd dkkf kf, \n",
    "gdggdkkdhdkd sgshjs jfkkkf. \"\"\"\n",
    "\n",
    "print (a)"
   ]
  },
  {
   "cell_type": "markdown",
   "id": "3f6d2b12",
   "metadata": {},
   "source": [
    "# Strings are Arrays \n",
    "\n",
    "\n",
    "\n",
    "Strings in Python are arrays of bytes representing unicode characters.\n",
    "\n",
    "Python doesnot have a character data type, a single character is simply a string with a length of 1.\n",
    "Square brackets can be used to acess elements of the string.\n",
    "\n",
    "Get the character at position 1 whereas the first character has the position 0."
   ]
  },
  {
   "cell_type": "code",
   "execution_count": 4,
   "id": "4f7700f7",
   "metadata": {},
   "outputs": [
    {
     "name": "stdout",
     "output_type": "stream",
     "text": [
      "e\n"
     ]
    }
   ],
   "source": [
    "a = \"Hello World!\"\n",
    "print(a[1])"
   ]
  },
  {
   "cell_type": "markdown",
   "id": "fbbd0970",
   "metadata": {},
   "source": [
    "# Looping through a string \n",
    "\n",
    "loop through the letters in the word \"Banana\":"
   ]
  },
  {
   "cell_type": "code",
   "execution_count": 5,
   "id": "ad53fb68",
   "metadata": {},
   "outputs": [
    {
     "name": "stdout",
     "output_type": "stream",
     "text": [
      "b\n",
      "a\n",
      "n\n",
      "a\n",
      "n\n",
      "a\n"
     ]
    }
   ],
   "source": [
    "for x in \"banana\":\n",
    "    print (x)"
   ]
  },
  {
   "cell_type": "markdown",
   "id": "e5a7a906",
   "metadata": {},
   "source": [
    "# String lenght \n",
    "\n",
    "To get the lenght of the string, use the len() function as it returns the length of a string."
   ]
  },
  {
   "cell_type": "code",
   "execution_count": 6,
   "id": "798623e7",
   "metadata": {},
   "outputs": [
    {
     "name": "stdout",
     "output_type": "stream",
     "text": [
      "13\n"
     ]
    }
   ],
   "source": [
    "a = \"Hello, World!\"\n",
    "print(len(a))"
   ]
  },
  {
   "cell_type": "markdown",
   "id": "4138a0c3",
   "metadata": {},
   "source": [
    "# Check String \n",
    "\n",
    "To check if a certain phrase or character is present in a string, we can use the keyword \"in\"\n",
    "\n",
    "For example check if \"free\" is present in the following text:"
   ]
  },
  {
   "cell_type": "code",
   "execution_count": 7,
   "id": "3cba03d7",
   "metadata": {},
   "outputs": [
    {
     "name": "stdout",
     "output_type": "stream",
     "text": [
      "True\n"
     ]
    }
   ],
   "source": [
    "txt = \"The best things in life are free!\"\n",
    "print (\"free\" in txt)"
   ]
  },
  {
   "cell_type": "code",
   "execution_count": 8,
   "id": "73b7aa60",
   "metadata": {},
   "outputs": [
    {
     "name": "stdout",
     "output_type": "stream",
     "text": [
      "Yes, 'free' is present.\n"
     ]
    }
   ],
   "source": [
    "#print only if free is present\n",
    "txt = \"The best things in life are free!\"\n",
    "if \"free\" in txt:\n",
    "    print (\"Yes, 'free' is present.\")\n"
   ]
  },
  {
   "cell_type": "markdown",
   "id": "497f983a",
   "metadata": {},
   "source": [
    "# Check if NOT \n",
    "\n",
    "\n",
    "check if \"expensive\" is not present in the following text:"
   ]
  },
  {
   "cell_type": "code",
   "execution_count": 9,
   "id": "3f1adcec",
   "metadata": {},
   "outputs": [
    {
     "name": "stdout",
     "output_type": "stream",
     "text": [
      "True\n"
     ]
    }
   ],
   "source": [
    "txt = \"The best things in life are free!\"\n",
    "print (\"expensive\" not in txt)"
   ]
  },
  {
   "cell_type": "code",
   "execution_count": 10,
   "id": "52d58c7b",
   "metadata": {},
   "outputs": [
    {
     "name": "stdout",
     "output_type": "stream",
     "text": [
      "No, 'expensive' is NOT present.\n"
     ]
    }
   ],
   "source": [
    "#print only if expensive is not present\n",
    "txt = \"The best things in life are free!\"\n",
    "if \"expensive\" not in txt:\n",
    "    print (\"No, 'expensive' is NOT present.\")\n"
   ]
  },
  {
   "cell_type": "markdown",
   "id": "746f95d7",
   "metadata": {},
   "source": [
    "# Slicing Strings\n",
    "\n",
    "You can return a range of characters by using the slice syntax.\n",
    "\n",
    "Specify the start index and the end index, separated by a colon, to return a part of the string."
   ]
  },
  {
   "cell_type": "code",
   "execution_count": null,
   "id": "94320533",
   "metadata": {},
   "outputs": [],
   "source": [
    "# Get the characters from position 2 to position 5(not included)\n",
    "\n",
    "b = \"Hello, World!\"\n",
    "\n",
    "print(b[2:5]) #starts from 0, 2 and 5 not included"
   ]
  },
  {
   "cell_type": "markdown",
   "id": "2f02b90e",
   "metadata": {},
   "source": [
    "# Slice from the Start\n",
    "\n",
    "By leaving out the start index, the range will start at the first character:"
   ]
  },
  {
   "cell_type": "code",
   "execution_count": 12,
   "id": "1791d85b",
   "metadata": {},
   "outputs": [
    {
     "name": "stdout",
     "output_type": "stream",
     "text": [
      "Hello\n"
     ]
    }
   ],
   "source": [
    "# Get the characters from the start to position 5(Not included)\n",
    "\n",
    "b = \"Hello, World!\"\n",
    "\n",
    "print(b[:5])"
   ]
  },
  {
   "cell_type": "markdown",
   "id": "8d8f5d0e",
   "metadata": {},
   "source": [
    "# Slice to the End \n",
    "\n",
    "By leaving out the end index, the range will go to the end."
   ]
  },
  {
   "cell_type": "code",
   "execution_count": 13,
   "id": "573aab2b",
   "metadata": {},
   "outputs": [
    {
     "name": "stdout",
     "output_type": "stream",
     "text": [
      "llo, World!\n"
     ]
    }
   ],
   "source": [
    "#Get the character from position 2 and all the way to the end \n",
    "\n",
    "b = \"Hello, World!\"\n",
    "\n",
    "print(b[2:])"
   ]
  },
  {
   "cell_type": "markdown",
   "id": "b2d17f22",
   "metadata": {},
   "source": [
    "# Negative Indexing \n",
    "\n",
    "Use negative indexs to start the slice from the end of the string."
   ]
  },
  {
   "cell_type": "code",
   "execution_count": 14,
   "id": "7f2f31db",
   "metadata": {},
   "outputs": [
    {
     "name": "stdout",
     "output_type": "stream",
     "text": [
      "orl\n"
     ]
    }
   ],
   "source": [
    "#Get the characters \n",
    "# from \"o\" in the \"World\"(position -5)\n",
    "# to, but not included: \"d\" in \"World\"(Position -2):\n",
    "\n",
    "b = \"Hello, World!\"\n",
    "\n",
    "print(b[-5:-2])"
   ]
  },
  {
   "cell_type": "markdown",
   "id": "9176e9d6",
   "metadata": {},
   "source": [
    "# Modify Strings \n",
    "\n",
    "Python has a set built in methods that you can use on strings."
   ]
  },
  {
   "cell_type": "markdown",
   "id": "57b1b308",
   "metadata": {},
   "source": [
    "# Upper Case\n",
    "\n",
    "Python has a set of built in methods that you can use on strings.\n",
    "\n",
    "The upper() method returns the string in upper case."
   ]
  },
  {
   "cell_type": "code",
   "execution_count": 15,
   "id": "ae91a75b",
   "metadata": {},
   "outputs": [
    {
     "name": "stdout",
     "output_type": "stream",
     "text": [
      "HELLO, WORLD!\n"
     ]
    }
   ],
   "source": [
    "a = \"Hello, World!\"\n",
    "\n",
    "print(a.upper())"
   ]
  },
  {
   "cell_type": "markdown",
   "id": "32ce3a4e",
   "metadata": {},
   "source": [
    "# Lower Case\n",
    "\n",
    "The lower() method returns the string in lower case."
   ]
  },
  {
   "cell_type": "code",
   "execution_count": 16,
   "id": "f4e718ba",
   "metadata": {},
   "outputs": [
    {
     "name": "stdout",
     "output_type": "stream",
     "text": [
      "hello, world!\n"
     ]
    }
   ],
   "source": [
    "a = \"Hello, World!\"\n",
    "\n",
    "print(a.lower())"
   ]
  },
  {
   "cell_type": "markdown",
   "id": "46408411",
   "metadata": {},
   "source": [
    "# Remove Whitespace \n",
    "\n",
    "Whitespace is the space before and /or after the actual text, and very often you want to remove this space.\n",
    "\n",
    "the strip() method removes any whitespace from the beginning or the end:"
   ]
  },
  {
   "cell_type": "code",
   "execution_count": 19,
   "id": "25784773",
   "metadata": {},
   "outputs": [
    {
     "name": "stdout",
     "output_type": "stream",
     "text": [
      "Hello, World!\n"
     ]
    }
   ],
   "source": [
    "a = \"Hello, World! \"\n",
    "\n",
    "print(a.strip())"
   ]
  },
  {
   "cell_type": "markdown",
   "id": "077dc752",
   "metadata": {},
   "source": [
    "# Replace String \n",
    "\n",
    "The replace() method replaces a string with another string:"
   ]
  },
  {
   "cell_type": "code",
   "execution_count": 20,
   "id": "1cb2b99a",
   "metadata": {},
   "outputs": [
    {
     "name": "stdout",
     "output_type": "stream",
     "text": [
      "Jello, World!\n"
     ]
    }
   ],
   "source": [
    "a = \"Hello, World!\"\n",
    "\n",
    "print(a.replace(\"H\",\"J\"))"
   ]
  },
  {
   "cell_type": "markdown",
   "id": "e846fa32",
   "metadata": {},
   "source": [
    "# Split String\n",
    "\n",
    "The split() method returns a list where the text between the specified separator becomes the list items.\n",
    "\n",
    "The split() method splits the string into substrings if it finds instances of the separator.\n"
   ]
  },
  {
   "cell_type": "code",
   "execution_count": 21,
   "id": "b1b8a870",
   "metadata": {},
   "outputs": [
    {
     "name": "stdout",
     "output_type": "stream",
     "text": [
      "['Hello', ' World!']\n"
     ]
    }
   ],
   "source": [
    "a = \"Hello, World!\"\n",
    "\n",
    "print(a.split(\",\"))"
   ]
  },
  {
   "cell_type": "markdown",
   "id": "c7197682",
   "metadata": {},
   "source": [
    "# String Concatenation \n",
    "\n",
    "To concatenate, or combine, two strings you can use the + operator."
   ]
  },
  {
   "cell_type": "code",
   "execution_count": 22,
   "id": "84f48899",
   "metadata": {},
   "outputs": [
    {
     "name": "stdout",
     "output_type": "stream",
     "text": [
      "HelloWorld\n"
     ]
    }
   ],
   "source": [
    "a = \"Hello\"\n",
    "b = \"World\"\n",
    "\n",
    "c = a + b \n",
    "\n",
    "print(c)"
   ]
  },
  {
   "cell_type": "code",
   "execution_count": 23,
   "id": "86e48ebd",
   "metadata": {},
   "outputs": [
    {
     "name": "stdout",
     "output_type": "stream",
     "text": [
      "Hello World\n"
     ]
    }
   ],
   "source": [
    "# to add space between them add a \" \":\n",
    "\n",
    "\n",
    "a = \"Hello\"\n",
    "b = \"World\"\n",
    "\n",
    "c = a + \" \" + b \n",
    "\n",
    "print(c)\n"
   ]
  },
  {
   "cell_type": "markdown",
   "id": "50c070b1",
   "metadata": {},
   "source": [
    "# String Format \n",
    "\n",
    "We cannot combine stings and numbers but we can do it using format method. The format() method takes the passed arguments, format them and place them in the string where the placeholders {} are:"
   ]
  },
  {
   "cell_type": "code",
   "execution_count": 24,
   "id": "5643ffcd",
   "metadata": {},
   "outputs": [
    {
     "name": "stdout",
     "output_type": "stream",
     "text": [
      "My name is John, and I am 36\n"
     ]
    }
   ],
   "source": [
    "age = 36\n",
    "txt = \"My name is John, and I am {}\"\n",
    "print (txt.format(age))"
   ]
  },
  {
   "cell_type": "code",
   "execution_count": 25,
   "id": "294b06ef",
   "metadata": {},
   "outputs": [
    {
     "name": "stdout",
     "output_type": "stream",
     "text": [
      "I want 3 pieces of item 567 for 49.95 dollars.\n"
     ]
    }
   ],
   "source": [
    "# format() method takes unlimited arguments and are placed into the respective placeholders \n",
    "\n",
    "quantity = 3 \n",
    "itemno = 567\n",
    "price = 49.95\n",
    "myorder = \"I want {} pieces of item {} for {} dollars.\"\n",
    "print (myorder.format(quantity, itemno, price))"
   ]
  },
  {
   "cell_type": "code",
   "execution_count": 26,
   "id": "0c8e1a20",
   "metadata": {},
   "outputs": [
    {
     "name": "stdout",
     "output_type": "stream",
     "text": [
      "I want to pay 49.95 dollars for 3 pieces of item 567\n"
     ]
    }
   ],
   "source": [
    "# you can use index numbers {0} to be sure the arguments are placed in the correct placeholders \n",
    "\n",
    "quantity = 3 \n",
    "itemno = 567\n",
    "price = 49.95\n",
    "myorder = \"I want to pay {2} dollars for {0} pieces of item {1}\"\n",
    "print (myorder.format(quantity, itemno, price))"
   ]
  },
  {
   "cell_type": "markdown",
   "id": "b27c88f8",
   "metadata": {},
   "source": [
    "# Escape Character \n",
    "\n",
    "To insert characters that are illegal in a string, use an escape character. Its a backslash\\ followed by the character you want to insert.\n"
   ]
  },
  {
   "cell_type": "code",
   "execution_count": null,
   "id": "c1311d97",
   "metadata": {},
   "outputs": [],
   "source": [
    "# this will throw an error \n",
    "\n",
    "txt = \"We are the so-called \"Viking\" from the north.\""
   ]
  },
  {
   "cell_type": "code",
   "execution_count": 28,
   "id": "ab90183c",
   "metadata": {},
   "outputs": [],
   "source": [
    "# to fix the problem above \n",
    "\n",
    "txt = \"We are the so-called \\\"Viking\\\" from the north.\"\n"
   ]
  },
  {
   "cell_type": "code",
   "execution_count": null,
   "id": "be0489e7",
   "metadata": {},
   "outputs": [],
   "source": []
  },
  {
   "cell_type": "code",
   "execution_count": null,
   "id": "c6ed7ed6",
   "metadata": {},
   "outputs": [],
   "source": []
  }
 ],
 "metadata": {
  "kernelspec": {
   "display_name": "Python 3",
   "language": "python",
   "name": "python3"
  },
  "language_info": {
   "codemirror_mode": {
    "name": "ipython",
    "version": 3
   },
   "file_extension": ".py",
   "mimetype": "text/x-python",
   "name": "python",
   "nbconvert_exporter": "python",
   "pygments_lexer": "ipython3",
   "version": "3.6.13"
  }
 },
 "nbformat": 4,
 "nbformat_minor": 5
}
