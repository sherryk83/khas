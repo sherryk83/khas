{
 "cells": [
  {
   "cell_type": "code",
   "execution_count": 2,
   "metadata": {},
   "outputs": [
    {
     "name": "stdout",
     "output_type": "stream",
     "text": [
      "Subsribe to Shahroo Akhtar\n",
      "Subscribe to Shahroo Akhtar\n",
      "Subscribe to Shahroo Akhtar\n"
     ]
    }
   ],
   "source": [
    "# string concatenation : how to put strings together \n",
    "#Madlib :In this python game user has to enter substitutes for blanks in the story \n",
    "# without knowing the story. It will be fun to read aloud the stories after filling \n",
    "# the blanks.\n",
    "# Suppose we want to create a string that says \"Subscribe to ----- \"\n",
    "# We can do this in following ways :\n",
    "\n",
    "youtuber = \"Shahroo Akhtar\" # some string varibale \n",
    "\n",
    "print(\"Subsribe to \" + youtuber)\n",
    "print(\"Subscribe to {}\".format(youtuber))\n",
    "print(f\"Subscribe to {youtuber}\")"
   ]
  },
  {
   "cell_type": "code",
   "execution_count": 4,
   "metadata": {},
   "outputs": [
    {
     "name": "stdout",
     "output_type": "stream",
     "text": [
      " Oh for heaven's sake! building to me, all of you! You've got just as much right as wizards to be unhappy! You've got the right to wages and holidays and tall clothes, you don't have to do everything you're told — look at shahrukh khan !.No, Harry, you listen,' escaping  Hermione.\n"
     ]
    }
   ],
   "source": [
    "# for the game we define the madlib first and then we decide all the filling in \n",
    "# the blanks \n",
    "\n",
    "verb1 = input(\"Verb: \")\n",
    "verb2 = input(\"Verb: \")\n",
    "adj = input(\"Adjective: \")\n",
    "famous_person = input(\"Famous Person: \")\n",
    "\n",
    "\n",
    "madlib = f\" Oh for heaven's sake! {verb1} to me, all of you! You've got just as much \\\n",
    "right as wizards to be unhappy! You've got the right to wages and holidays and \\\n",
    "{adj} clothes, you don't have to do everything you're told — look at {famous_person}!.\\\n",
    "No, Harry, you listen,' {verb2} Hermione.\"\n",
    "\n",
    "\n",
    "\n",
    "print(madlib)"
   ]
  }
 ],
 "metadata": {
  "interpreter": {
   "hash": "cd78fef2128015050713e82ca51c6520b11aee7c9ee8df750520bbbc7384cbaa"
  },
  "kernelspec": {
   "display_name": "Python 3.7.6 64-bit ('base': conda)",
   "language": "python",
   "name": "python3"
  },
  "language_info": {
   "codemirror_mode": {
    "name": "ipython",
    "version": 3
   },
   "file_extension": ".py",
   "mimetype": "text/x-python",
   "name": "python",
   "nbconvert_exporter": "python",
   "pygments_lexer": "ipython3",
   "version": "3.7.6"
  },
  "orig_nbformat": 4
 },
 "nbformat": 4,
 "nbformat_minor": 2
}
